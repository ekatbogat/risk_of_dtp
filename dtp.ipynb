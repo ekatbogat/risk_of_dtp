{
 "cells": [
  {
   "cell_type": "markdown",
   "id": "1fd9648b",
   "metadata": {
    "ExecuteTime": {
     "end_time": "2022-05-05T04:58:05.692448Z",
     "start_time": "2022-05-05T04:58:05.688565Z"
    }
   },
   "source": [
    "## **Оценка рисков ДТП по выбранному маршруту движения**\n",
    "\n",
    "Нужно создать систему, которая могла бы оценить риск ДТП по выбранному маршруту движения. Под риском понимается вероятность ДТП с любым повреждением транспортного средства. Как только водитель забронировал автомобиль, сел за руль и выбрал маршрут, система должна оценить уровень риска. Если уровень риска высок, водитель увидит предупреждение и рекомендации по маршруту.\n",
    "Идея создания такой системы находится в стадии предварительного обсуждения и проработки. Чёткого алгоритма работы и подобных решений на рынке ещё не существует. Текущая задача — понять, возможно ли предсказывать ДТП, опираясь на исторические данные одного из регионов.\n",
    "\n",
    "**Идея решения задачи от заказчика:**\n",
    "\n",
    "- Создать модель предсказания ДТП (целевое значение — at_fault (виновник) в таблице parties)\n",
    "- Для модели выбрать тип виновника — только машина (car).\n",
    "- Выбрать случаи, когда ДТП привело к любым повреждениям транспортного средства, кроме типа SCRATCH (царапина).\n",
    "- Для моделирования ограничиться данными за 2012 год — они самые свежие.\n",
    "- Обязательное условие — учесть фактор возраста автомобиля.\n",
    "\n",
    "**На основе модели исследовать основные факторы ДТП**\n",
    "**Понять, помогут ли результаты моделирования и анализ важности факторов ответить на вопросы:**\n",
    "- Возможно ли создать адекватную системы оценки водительского риска при выдаче авто?\n",
    "- Какие ещё факторы нужно учесть?\n",
    "- Нужно ли оборудовать автомобиль какими-либо датчиками или камерой?\n",
    "- Заказчик предлагает вам поработать с базой данных по происшествиям и сформировать свои идеи создания такой системы. \n"
   ]
  },
  {
   "cell_type": "markdown",
   "id": "ee95ab78",
   "metadata": {},
   "source": [
    "## Подключитесь к базе. Загрузите таблицы sql"
   ]
  },
  {
   "cell_type": "code",
   "execution_count": 1,
   "id": "cfb2cfb0",
   "metadata": {},
   "outputs": [],
   "source": [
    "# импортируем библиотеки\n",
    "import pandas as pd\n",
    "import numpy as np\n",
    "import matplotlib.pyplot as plt\n",
    "from sqlalchemy import create_engine \n",
    "from sklearn.preprocessing import StandardScaler, OneHotEncoder\n",
    "from sklearn.model_selection import train_test_split\n",
    "from sklearn.utils import shuffle\n",
    "from sklearn.model_selection import GridSearchCV\n",
    "from sklearn.dummy import DummyClassifier\n",
    "from sklearn.metrics import roc_auc_score\n",
    "from sklearn.model_selection import GridSearchCV\n",
    "from sklearn.model_selection import KFold\n",
    "from sklearn.model_selection import train_test_split, GridSearchCV, cross_val_score, StratifiedKFold\n",
    "from sklearn.metrics import confusion_matrix\n",
    "pd.options.mode.chained_assignment = None\n",
    "from sklearn.metrics import recall_score\n",
    "from catboost import CatBoostClassifier\n",
    "import catboost\n",
    "import lightgbm as lgb\n",
    "from lightgbm import LGBMClassifier\n",
    "\n",
    "from sklearn.ensemble import RandomForestClassifier\n",
    "from sklearn.tree import DecisionTreeClassifier\n",
    "from sklearn.linear_model import LogisticRegression\n",
    "\n",
    "import warnings\n",
    "warnings.filterwarnings('ignore')"
   ]
  },
  {
   "cell_type": "code",
   "execution_count": 2,
   "id": "ca210b70",
   "metadata": {},
   "outputs": [],
   "source": [
    "# загружаем базу данных\n",
    "db_config = {\n",
    "'user': 'praktikum_student', # имя пользователя,\n",
    "'pwd': 'Sdf4$2;d-d30pp', # пароль,\n",
    "'host': 'rc1b-wcoijxj3yxfsf3fs.mdb.yandexcloud.net',\n",
    "'port': 6432, # порт подключения,\n",
    "'db': 'data-science-vehicle-db' # название базы данных,\n",
    "} \n",
    "\n",
    "connection_string = 'postgresql://{}:{}@{}:{}/{}'.format(\n",
    "    db_config['user'],\n",
    "    db_config['pwd'],\n",
    "    db_config['host'],\n",
    "    db_config['port'],\n",
    "    db_config['db'],\n",
    ")\n",
    " "
   ]
  },
  {
   "cell_type": "code",
   "execution_count": 3,
   "id": "5ab59c67",
   "metadata": {},
   "outputs": [],
   "source": [
    "# создам подключение\n",
    "engine = create_engine(connection_string) "
   ]
  },
  {
   "cell_type": "markdown",
   "id": "3e38791a",
   "metadata": {},
   "source": [
    "### Проведите первичное исследование таблиц"
   ]
  },
  {
   "cell_type": "markdown",
   "id": "539d2ad5",
   "metadata": {},
   "source": [
    "- Все ли таблицы имеют набор данных;\n",
    "- Соответствует ли количество таблиц условию задачи;\n",
    "- Имеется ли общий ключ для связи таблиц"
   ]
  },
  {
   "cell_type": "code",
   "execution_count": 4,
   "id": "de8a49a1",
   "metadata": {},
   "outputs": [
    {
     "data": {
      "text/html": [
       "<div>\n",
       "<style scoped>\n",
       "    .dataframe tbody tr th:only-of-type {\n",
       "        vertical-align: middle;\n",
       "    }\n",
       "\n",
       "    .dataframe tbody tr th {\n",
       "        vertical-align: top;\n",
       "    }\n",
       "\n",
       "    .dataframe thead th {\n",
       "        text-align: right;\n",
       "    }\n",
       "</style>\n",
       "<table border=\"1\" class=\"dataframe\">\n",
       "  <thead>\n",
       "    <tr style=\"text-align: right;\">\n",
       "      <th></th>\n",
       "      <th>id</th>\n",
       "      <th>case_id</th>\n",
       "      <th>party_number</th>\n",
       "      <th>party_type</th>\n",
       "      <th>at_fault</th>\n",
       "      <th>insurance_premium</th>\n",
       "      <th>party_sobriety</th>\n",
       "      <th>party_drug_physical</th>\n",
       "      <th>cellphone_in_use</th>\n",
       "    </tr>\n",
       "  </thead>\n",
       "  <tbody>\n",
       "    <tr>\n",
       "      <th>0</th>\n",
       "      <td>22</td>\n",
       "      <td>3899454</td>\n",
       "      <td>1</td>\n",
       "      <td>road signs</td>\n",
       "      <td>1</td>\n",
       "      <td>29.0</td>\n",
       "      <td>had not been drinking</td>\n",
       "      <td>None</td>\n",
       "      <td>0.0</td>\n",
       "    </tr>\n",
       "    <tr>\n",
       "      <th>1</th>\n",
       "      <td>23</td>\n",
       "      <td>3899454</td>\n",
       "      <td>2</td>\n",
       "      <td>road signs</td>\n",
       "      <td>0</td>\n",
       "      <td>7.0</td>\n",
       "      <td>had not been drinking</td>\n",
       "      <td>None</td>\n",
       "      <td>0.0</td>\n",
       "    </tr>\n",
       "    <tr>\n",
       "      <th>2</th>\n",
       "      <td>29</td>\n",
       "      <td>3899462</td>\n",
       "      <td>2</td>\n",
       "      <td>car</td>\n",
       "      <td>0</td>\n",
       "      <td>21.0</td>\n",
       "      <td>had not been drinking</td>\n",
       "      <td>None</td>\n",
       "      <td>0.0</td>\n",
       "    </tr>\n",
       "    <tr>\n",
       "      <th>3</th>\n",
       "      <td>31</td>\n",
       "      <td>3899465</td>\n",
       "      <td>2</td>\n",
       "      <td>road signs</td>\n",
       "      <td>0</td>\n",
       "      <td>24.0</td>\n",
       "      <td>had not been drinking</td>\n",
       "      <td>None</td>\n",
       "      <td>0.0</td>\n",
       "    </tr>\n",
       "    <tr>\n",
       "      <th>4</th>\n",
       "      <td>41</td>\n",
       "      <td>3899478</td>\n",
       "      <td>2</td>\n",
       "      <td>road bumper</td>\n",
       "      <td>0</td>\n",
       "      <td>NaN</td>\n",
       "      <td>not applicable</td>\n",
       "      <td>not applicable</td>\n",
       "      <td>0.0</td>\n",
       "    </tr>\n",
       "  </tbody>\n",
       "</table>\n",
       "</div>"
      ],
      "text/plain": [
       "   id  case_id  party_number   party_type  at_fault  insurance_premium  \\\n",
       "0  22  3899454             1   road signs         1               29.0   \n",
       "1  23  3899454             2   road signs         0                7.0   \n",
       "2  29  3899462             2          car         0               21.0   \n",
       "3  31  3899465             2   road signs         0               24.0   \n",
       "4  41  3899478             2  road bumper         0                NaN   \n",
       "\n",
       "          party_sobriety party_drug_physical  cellphone_in_use  \n",
       "0  had not been drinking                None               0.0  \n",
       "1  had not been drinking                None               0.0  \n",
       "2  had not been drinking                None               0.0  \n",
       "3  had not been drinking                None               0.0  \n",
       "4         not applicable      not applicable               0.0  "
      ]
     },
     "execution_count": 4,
     "metadata": {},
     "output_type": "execute_result"
    }
   ],
   "source": [
    "query = '''\n",
    "SELECT *\n",
    "FROM parties\n",
    "limit 10\n",
    "'''\n",
    "\n",
    "sample_parties = pd.read_sql_query(query, con=engine) \n",
    "sample_parties.head()"
   ]
  },
  {
   "cell_type": "code",
   "execution_count": 5,
   "id": "1a8eca5d",
   "metadata": {},
   "outputs": [
    {
     "data": {
      "text/html": [
       "<div>\n",
       "<style scoped>\n",
       "    .dataframe tbody tr th:only-of-type {\n",
       "        vertical-align: middle;\n",
       "    }\n",
       "\n",
       "    .dataframe tbody tr th {\n",
       "        vertical-align: top;\n",
       "    }\n",
       "\n",
       "    .dataframe thead th {\n",
       "        text-align: right;\n",
       "    }\n",
       "</style>\n",
       "<table border=\"1\" class=\"dataframe\">\n",
       "  <thead>\n",
       "    <tr style=\"text-align: right;\">\n",
       "      <th></th>\n",
       "      <th>id</th>\n",
       "      <th>case_id</th>\n",
       "      <th>party_number</th>\n",
       "      <th>vehicle_type</th>\n",
       "      <th>vehicle_transmission</th>\n",
       "      <th>vehicle_age</th>\n",
       "    </tr>\n",
       "  </thead>\n",
       "  <tbody>\n",
       "    <tr>\n",
       "      <th>0</th>\n",
       "      <td>1175713</td>\n",
       "      <td>5305032</td>\n",
       "      <td>2</td>\n",
       "      <td>sedan</td>\n",
       "      <td>manual</td>\n",
       "      <td>3</td>\n",
       "    </tr>\n",
       "    <tr>\n",
       "      <th>1</th>\n",
       "      <td>1</td>\n",
       "      <td>3858022</td>\n",
       "      <td>1</td>\n",
       "      <td>sedan</td>\n",
       "      <td>auto</td>\n",
       "      <td>3</td>\n",
       "    </tr>\n",
       "    <tr>\n",
       "      <th>2</th>\n",
       "      <td>1175712</td>\n",
       "      <td>5305030</td>\n",
       "      <td>1</td>\n",
       "      <td>sedan</td>\n",
       "      <td>auto</td>\n",
       "      <td>3</td>\n",
       "    </tr>\n",
       "    <tr>\n",
       "      <th>3</th>\n",
       "      <td>1175717</td>\n",
       "      <td>5305033</td>\n",
       "      <td>3</td>\n",
       "      <td>sedan</td>\n",
       "      <td>auto</td>\n",
       "      <td>5</td>\n",
       "    </tr>\n",
       "    <tr>\n",
       "      <th>4</th>\n",
       "      <td>1175722</td>\n",
       "      <td>5305034</td>\n",
       "      <td>2</td>\n",
       "      <td>sedan</td>\n",
       "      <td>auto</td>\n",
       "      <td>5</td>\n",
       "    </tr>\n",
       "  </tbody>\n",
       "</table>\n",
       "</div>"
      ],
      "text/plain": [
       "        id  case_id  party_number vehicle_type vehicle_transmission  \\\n",
       "0  1175713  5305032             2        sedan               manual   \n",
       "1        1  3858022             1        sedan                 auto   \n",
       "2  1175712  5305030             1        sedan                 auto   \n",
       "3  1175717  5305033             3        sedan                 auto   \n",
       "4  1175722  5305034             2        sedan                 auto   \n",
       "\n",
       "   vehicle_age  \n",
       "0            3  \n",
       "1            3  \n",
       "2            3  \n",
       "3            5  \n",
       "4            5  "
      ]
     },
     "execution_count": 5,
     "metadata": {},
     "output_type": "execute_result"
    }
   ],
   "source": [
    "query = '''\n",
    "SELECT *\n",
    "FROM vehicles\n",
    "limit 10\n",
    "'''\n",
    "\n",
    "sample_vehicles = pd.read_sql_query(query, con=engine) \n",
    "sample_vehicles.head()"
   ]
  },
  {
   "cell_type": "code",
   "execution_count": 6,
   "id": "34543460",
   "metadata": {},
   "outputs": [
    {
     "data": {
      "text/html": [
       "<div>\n",
       "<style scoped>\n",
       "    .dataframe tbody tr th:only-of-type {\n",
       "        vertical-align: middle;\n",
       "    }\n",
       "\n",
       "    .dataframe tbody tr th {\n",
       "        vertical-align: top;\n",
       "    }\n",
       "\n",
       "    .dataframe thead th {\n",
       "        text-align: right;\n",
       "    }\n",
       "</style>\n",
       "<table border=\"1\" class=\"dataframe\">\n",
       "  <thead>\n",
       "    <tr style=\"text-align: right;\">\n",
       "      <th></th>\n",
       "      <th>case_id</th>\n",
       "      <th>county_city_location</th>\n",
       "      <th>county_location</th>\n",
       "      <th>distance</th>\n",
       "      <th>direction</th>\n",
       "      <th>intersection</th>\n",
       "      <th>weather_1</th>\n",
       "      <th>location_type</th>\n",
       "      <th>collision_damage</th>\n",
       "      <th>party_count</th>\n",
       "      <th>primary_collision_factor</th>\n",
       "      <th>pcf_violation_category</th>\n",
       "      <th>type_of_collision</th>\n",
       "      <th>motor_vehicle_involved_with</th>\n",
       "      <th>road_surface</th>\n",
       "      <th>road_condition_1</th>\n",
       "      <th>lighting</th>\n",
       "      <th>control_device</th>\n",
       "      <th>collision_date</th>\n",
       "      <th>collision_time</th>\n",
       "    </tr>\n",
       "  </thead>\n",
       "  <tbody>\n",
       "    <tr>\n",
       "      <th>0</th>\n",
       "      <td>4083072</td>\n",
       "      <td>1942</td>\n",
       "      <td>los angeles</td>\n",
       "      <td>528.0</td>\n",
       "      <td>north</td>\n",
       "      <td>0</td>\n",
       "      <td>cloudy</td>\n",
       "      <td>highway</td>\n",
       "      <td>small damage</td>\n",
       "      <td>2</td>\n",
       "      <td>vehicle code violation</td>\n",
       "      <td>unsafe lane change</td>\n",
       "      <td>sideswipe</td>\n",
       "      <td>other motor vehicle</td>\n",
       "      <td>wet</td>\n",
       "      <td>normal</td>\n",
       "      <td>daylight</td>\n",
       "      <td>none</td>\n",
       "      <td>2009-01-22</td>\n",
       "      <td>07:25:00</td>\n",
       "    </tr>\n",
       "    <tr>\n",
       "      <th>1</th>\n",
       "      <td>4083075</td>\n",
       "      <td>4313</td>\n",
       "      <td>santa clara</td>\n",
       "      <td>0.0</td>\n",
       "      <td>None</td>\n",
       "      <td>1</td>\n",
       "      <td>clear</td>\n",
       "      <td>None</td>\n",
       "      <td>small damage</td>\n",
       "      <td>1</td>\n",
       "      <td>vehicle code violation</td>\n",
       "      <td>improper passing</td>\n",
       "      <td>hit object</td>\n",
       "      <td>fixed object</td>\n",
       "      <td>dry</td>\n",
       "      <td>normal</td>\n",
       "      <td>dark with street lights</td>\n",
       "      <td>functioning</td>\n",
       "      <td>2009-01-03</td>\n",
       "      <td>02:26:00</td>\n",
       "    </tr>\n",
       "    <tr>\n",
       "      <th>2</th>\n",
       "      <td>4083073</td>\n",
       "      <td>0109</td>\n",
       "      <td>alameda</td>\n",
       "      <td>0.0</td>\n",
       "      <td>None</td>\n",
       "      <td>1</td>\n",
       "      <td>clear</td>\n",
       "      <td>None</td>\n",
       "      <td>scratch</td>\n",
       "      <td>2</td>\n",
       "      <td>vehicle code violation</td>\n",
       "      <td>improper turning</td>\n",
       "      <td>broadside</td>\n",
       "      <td>other motor vehicle</td>\n",
       "      <td>dry</td>\n",
       "      <td>normal</td>\n",
       "      <td>dark with street lights</td>\n",
       "      <td>functioning</td>\n",
       "      <td>2009-01-11</td>\n",
       "      <td>03:32:00</td>\n",
       "    </tr>\n",
       "    <tr>\n",
       "      <th>3</th>\n",
       "      <td>4083077</td>\n",
       "      <td>0109</td>\n",
       "      <td>alameda</td>\n",
       "      <td>0.0</td>\n",
       "      <td>None</td>\n",
       "      <td>1</td>\n",
       "      <td>clear</td>\n",
       "      <td>None</td>\n",
       "      <td>scratch</td>\n",
       "      <td>2</td>\n",
       "      <td>vehicle code violation</td>\n",
       "      <td>automobile right of way</td>\n",
       "      <td>broadside</td>\n",
       "      <td>other motor vehicle</td>\n",
       "      <td>dry</td>\n",
       "      <td>normal</td>\n",
       "      <td>daylight</td>\n",
       "      <td>functioning</td>\n",
       "      <td>2009-01-11</td>\n",
       "      <td>10:35:00</td>\n",
       "    </tr>\n",
       "    <tr>\n",
       "      <th>4</th>\n",
       "      <td>4083087</td>\n",
       "      <td>4313</td>\n",
       "      <td>santa clara</td>\n",
       "      <td>0.0</td>\n",
       "      <td>None</td>\n",
       "      <td>1</td>\n",
       "      <td>clear</td>\n",
       "      <td>None</td>\n",
       "      <td>scratch</td>\n",
       "      <td>2</td>\n",
       "      <td>vehicle code violation</td>\n",
       "      <td>speeding</td>\n",
       "      <td>rear end</td>\n",
       "      <td>other motor vehicle</td>\n",
       "      <td>dry</td>\n",
       "      <td>None</td>\n",
       "      <td>dark with street lights</td>\n",
       "      <td>functioning</td>\n",
       "      <td>2009-01-02</td>\n",
       "      <td>22:43:00</td>\n",
       "    </tr>\n",
       "  </tbody>\n",
       "</table>\n",
       "</div>"
      ],
      "text/plain": [
       "   case_id county_city_location county_location  distance direction  \\\n",
       "0  4083072                 1942     los angeles     528.0     north   \n",
       "1  4083075                 4313     santa clara       0.0      None   \n",
       "2  4083073                 0109         alameda       0.0      None   \n",
       "3  4083077                 0109         alameda       0.0      None   \n",
       "4  4083087                 4313     santa clara       0.0      None   \n",
       "\n",
       "   intersection weather_1 location_type collision_damage  party_count  \\\n",
       "0             0    cloudy       highway     small damage            2   \n",
       "1             1     clear          None     small damage            1   \n",
       "2             1     clear          None          scratch            2   \n",
       "3             1     clear          None          scratch            2   \n",
       "4             1     clear          None          scratch            2   \n",
       "\n",
       "  primary_collision_factor   pcf_violation_category type_of_collision  \\\n",
       "0   vehicle code violation       unsafe lane change         sideswipe   \n",
       "1   vehicle code violation         improper passing        hit object   \n",
       "2   vehicle code violation         improper turning         broadside   \n",
       "3   vehicle code violation  automobile right of way         broadside   \n",
       "4   vehicle code violation                 speeding          rear end   \n",
       "\n",
       "  motor_vehicle_involved_with road_surface road_condition_1  \\\n",
       "0         other motor vehicle          wet           normal   \n",
       "1                fixed object          dry           normal   \n",
       "2         other motor vehicle          dry           normal   \n",
       "3         other motor vehicle          dry           normal   \n",
       "4         other motor vehicle          dry             None   \n",
       "\n",
       "                  lighting control_device collision_date collision_time  \n",
       "0                 daylight           none     2009-01-22       07:25:00  \n",
       "1  dark with street lights    functioning     2009-01-03       02:26:00  \n",
       "2  dark with street lights    functioning     2009-01-11       03:32:00  \n",
       "3                 daylight    functioning     2009-01-11       10:35:00  \n",
       "4  dark with street lights    functioning     2009-01-02       22:43:00  "
      ]
     },
     "execution_count": 6,
     "metadata": {},
     "output_type": "execute_result"
    }
   ],
   "source": [
    "query = '''\n",
    "SELECT *\n",
    "FROM collisions\n",
    "limit 10\n",
    "'''\n",
    "\n",
    "sample_collisions = pd.read_sql_query(query, con=engine) \n",
    "sample_collisions.head()"
   ]
  },
  {
   "cell_type": "code",
   "execution_count": 7,
   "id": "94672657",
   "metadata": {},
   "outputs": [
    {
     "data": {
      "text/html": [
       "<div>\n",
       "<style scoped>\n",
       "    .dataframe tbody tr th:only-of-type {\n",
       "        vertical-align: middle;\n",
       "    }\n",
       "\n",
       "    .dataframe tbody tr th {\n",
       "        vertical-align: top;\n",
       "    }\n",
       "\n",
       "    .dataframe thead th {\n",
       "        text-align: right;\n",
       "    }\n",
       "</style>\n",
       "<table border=\"1\" class=\"dataframe\">\n",
       "  <thead>\n",
       "    <tr style=\"text-align: right;\">\n",
       "      <th></th>\n",
       "      <th>case_id</th>\n",
       "      <th>county_city_location</th>\n",
       "      <th>county_location</th>\n",
       "      <th>distance</th>\n",
       "      <th>direction</th>\n",
       "      <th>intersection</th>\n",
       "      <th>weather_1</th>\n",
       "      <th>location_type</th>\n",
       "      <th>collision_damage</th>\n",
       "      <th>party_count</th>\n",
       "      <th>primary_collision_factor</th>\n",
       "      <th>pcf_violation_category</th>\n",
       "      <th>type_of_collision</th>\n",
       "      <th>motor_vehicle_involved_with</th>\n",
       "      <th>road_surface</th>\n",
       "      <th>road_condition_1</th>\n",
       "      <th>lighting</th>\n",
       "      <th>control_device</th>\n",
       "      <th>collision_date</th>\n",
       "      <th>collision_time</th>\n",
       "    </tr>\n",
       "  </thead>\n",
       "  <tbody>\n",
       "    <tr>\n",
       "      <th>0</th>\n",
       "      <td>4083072</td>\n",
       "      <td>1942</td>\n",
       "      <td>los angeles</td>\n",
       "      <td>528.0</td>\n",
       "      <td>north</td>\n",
       "      <td>0</td>\n",
       "      <td>cloudy</td>\n",
       "      <td>highway</td>\n",
       "      <td>small damage</td>\n",
       "      <td>2</td>\n",
       "      <td>vehicle code violation</td>\n",
       "      <td>unsafe lane change</td>\n",
       "      <td>sideswipe</td>\n",
       "      <td>other motor vehicle</td>\n",
       "      <td>wet</td>\n",
       "      <td>normal</td>\n",
       "      <td>daylight</td>\n",
       "      <td>none</td>\n",
       "      <td>2009-01-22</td>\n",
       "      <td>07:25:00</td>\n",
       "    </tr>\n",
       "    <tr>\n",
       "      <th>1</th>\n",
       "      <td>4083075</td>\n",
       "      <td>4313</td>\n",
       "      <td>santa clara</td>\n",
       "      <td>0.0</td>\n",
       "      <td>None</td>\n",
       "      <td>1</td>\n",
       "      <td>clear</td>\n",
       "      <td>None</td>\n",
       "      <td>small damage</td>\n",
       "      <td>1</td>\n",
       "      <td>vehicle code violation</td>\n",
       "      <td>improper passing</td>\n",
       "      <td>hit object</td>\n",
       "      <td>fixed object</td>\n",
       "      <td>dry</td>\n",
       "      <td>normal</td>\n",
       "      <td>dark with street lights</td>\n",
       "      <td>functioning</td>\n",
       "      <td>2009-01-03</td>\n",
       "      <td>02:26:00</td>\n",
       "    </tr>\n",
       "    <tr>\n",
       "      <th>2</th>\n",
       "      <td>4083073</td>\n",
       "      <td>0109</td>\n",
       "      <td>alameda</td>\n",
       "      <td>0.0</td>\n",
       "      <td>None</td>\n",
       "      <td>1</td>\n",
       "      <td>clear</td>\n",
       "      <td>None</td>\n",
       "      <td>scratch</td>\n",
       "      <td>2</td>\n",
       "      <td>vehicle code violation</td>\n",
       "      <td>improper turning</td>\n",
       "      <td>broadside</td>\n",
       "      <td>other motor vehicle</td>\n",
       "      <td>dry</td>\n",
       "      <td>normal</td>\n",
       "      <td>dark with street lights</td>\n",
       "      <td>functioning</td>\n",
       "      <td>2009-01-11</td>\n",
       "      <td>03:32:00</td>\n",
       "    </tr>\n",
       "    <tr>\n",
       "      <th>3</th>\n",
       "      <td>4083077</td>\n",
       "      <td>0109</td>\n",
       "      <td>alameda</td>\n",
       "      <td>0.0</td>\n",
       "      <td>None</td>\n",
       "      <td>1</td>\n",
       "      <td>clear</td>\n",
       "      <td>None</td>\n",
       "      <td>scratch</td>\n",
       "      <td>2</td>\n",
       "      <td>vehicle code violation</td>\n",
       "      <td>automobile right of way</td>\n",
       "      <td>broadside</td>\n",
       "      <td>other motor vehicle</td>\n",
       "      <td>dry</td>\n",
       "      <td>normal</td>\n",
       "      <td>daylight</td>\n",
       "      <td>functioning</td>\n",
       "      <td>2009-01-11</td>\n",
       "      <td>10:35:00</td>\n",
       "    </tr>\n",
       "    <tr>\n",
       "      <th>4</th>\n",
       "      <td>4083087</td>\n",
       "      <td>4313</td>\n",
       "      <td>santa clara</td>\n",
       "      <td>0.0</td>\n",
       "      <td>None</td>\n",
       "      <td>1</td>\n",
       "      <td>clear</td>\n",
       "      <td>None</td>\n",
       "      <td>scratch</td>\n",
       "      <td>2</td>\n",
       "      <td>vehicle code violation</td>\n",
       "      <td>speeding</td>\n",
       "      <td>rear end</td>\n",
       "      <td>other motor vehicle</td>\n",
       "      <td>dry</td>\n",
       "      <td>None</td>\n",
       "      <td>dark with street lights</td>\n",
       "      <td>functioning</td>\n",
       "      <td>2009-01-02</td>\n",
       "      <td>22:43:00</td>\n",
       "    </tr>\n",
       "  </tbody>\n",
       "</table>\n",
       "</div>"
      ],
      "text/plain": [
       "   case_id county_city_location county_location  distance direction  \\\n",
       "0  4083072                 1942     los angeles     528.0     north   \n",
       "1  4083075                 4313     santa clara       0.0      None   \n",
       "2  4083073                 0109         alameda       0.0      None   \n",
       "3  4083077                 0109         alameda       0.0      None   \n",
       "4  4083087                 4313     santa clara       0.0      None   \n",
       "\n",
       "   intersection weather_1 location_type collision_damage  party_count  \\\n",
       "0             0    cloudy       highway     small damage            2   \n",
       "1             1     clear          None     small damage            1   \n",
       "2             1     clear          None          scratch            2   \n",
       "3             1     clear          None          scratch            2   \n",
       "4             1     clear          None          scratch            2   \n",
       "\n",
       "  primary_collision_factor   pcf_violation_category type_of_collision  \\\n",
       "0   vehicle code violation       unsafe lane change         sideswipe   \n",
       "1   vehicle code violation         improper passing        hit object   \n",
       "2   vehicle code violation         improper turning         broadside   \n",
       "3   vehicle code violation  automobile right of way         broadside   \n",
       "4   vehicle code violation                 speeding          rear end   \n",
       "\n",
       "  motor_vehicle_involved_with road_surface road_condition_1  \\\n",
       "0         other motor vehicle          wet           normal   \n",
       "1                fixed object          dry           normal   \n",
       "2         other motor vehicle          dry           normal   \n",
       "3         other motor vehicle          dry           normal   \n",
       "4         other motor vehicle          dry             None   \n",
       "\n",
       "                  lighting control_device collision_date collision_time  \n",
       "0                 daylight           none     2009-01-22       07:25:00  \n",
       "1  dark with street lights    functioning     2009-01-03       02:26:00  \n",
       "2  dark with street lights    functioning     2009-01-11       03:32:00  \n",
       "3                 daylight    functioning     2009-01-11       10:35:00  \n",
       "4  dark with street lights    functioning     2009-01-02       22:43:00  "
      ]
     },
     "execution_count": 7,
     "metadata": {},
     "output_type": "execute_result"
    }
   ],
   "source": [
    "query = '''\n",
    "SELECT *\n",
    "FROM collisions\n",
    "limit 10\n",
    "'''\n",
    "\n",
    "sample_case_ids = pd.read_sql_query(query, con=engine) \n",
    "sample_case_ids.head()"
   ]
  },
  {
   "cell_type": "markdown",
   "id": "797ab848",
   "metadata": {},
   "source": [
    "**ВЫВОД:**\n",
    "- Все таблицы имеют набор данных;\n",
    "- Количество таблиц соответствует условию задачи;\n",
    "- Общий ключ для связи таблиц имеется (case_id)"
   ]
  },
  {
   "cell_type": "markdown",
   "id": "7210e683",
   "metadata": {},
   "source": [
    "##  Проведите статистический анализ факторов ДТП"
   ]
  },
  {
   "cell_type": "code",
   "execution_count": 8,
   "id": "1fcac86a",
   "metadata": {},
   "outputs": [
    {
     "data": {
      "text/html": [
       "<div>\n",
       "<style scoped>\n",
       "    .dataframe tbody tr th:only-of-type {\n",
       "        vertical-align: middle;\n",
       "    }\n",
       "\n",
       "    .dataframe tbody tr th {\n",
       "        vertical-align: top;\n",
       "    }\n",
       "\n",
       "    .dataframe thead th {\n",
       "        text-align: right;\n",
       "    }\n",
       "</style>\n",
       "<table border=\"1\" class=\"dataframe\">\n",
       "  <thead>\n",
       "    <tr style=\"text-align: right;\">\n",
       "      <th></th>\n",
       "      <th>month_date</th>\n",
       "      <th>total_collisions</th>\n",
       "    </tr>\n",
       "  </thead>\n",
       "  <tbody>\n",
       "    <tr>\n",
       "      <th>0</th>\n",
       "      <td>3.0</td>\n",
       "      <td>139581</td>\n",
       "    </tr>\n",
       "    <tr>\n",
       "      <th>1</th>\n",
       "      <td>1.0</td>\n",
       "      <td>132044</td>\n",
       "    </tr>\n",
       "    <tr>\n",
       "      <th>2</th>\n",
       "      <td>5.0</td>\n",
       "      <td>130316</td>\n",
       "    </tr>\n",
       "    <tr>\n",
       "      <th>3</th>\n",
       "      <td>4.0</td>\n",
       "      <td>130180</td>\n",
       "    </tr>\n",
       "    <tr>\n",
       "      <th>4</th>\n",
       "      <td>2.0</td>\n",
       "      <td>128858</td>\n",
       "    </tr>\n",
       "    <tr>\n",
       "      <th>5</th>\n",
       "      <td>10.0</td>\n",
       "      <td>112237</td>\n",
       "    </tr>\n",
       "    <tr>\n",
       "      <th>6</th>\n",
       "      <td>12.0</td>\n",
       "      <td>107945</td>\n",
       "    </tr>\n",
       "    <tr>\n",
       "      <th>7</th>\n",
       "      <td>9.0</td>\n",
       "      <td>105159</td>\n",
       "    </tr>\n",
       "    <tr>\n",
       "      <th>8</th>\n",
       "      <td>11.0</td>\n",
       "      <td>104770</td>\n",
       "    </tr>\n",
       "    <tr>\n",
       "      <th>9</th>\n",
       "      <td>8.0</td>\n",
       "      <td>104089</td>\n",
       "    </tr>\n",
       "    <tr>\n",
       "      <th>10</th>\n",
       "      <td>6.0</td>\n",
       "      <td>102594</td>\n",
       "    </tr>\n",
       "    <tr>\n",
       "      <th>11</th>\n",
       "      <td>7.0</td>\n",
       "      <td>102227</td>\n",
       "    </tr>\n",
       "  </tbody>\n",
       "</table>\n",
       "</div>"
      ],
      "text/plain": [
       "    month_date  total_collisions\n",
       "0          3.0            139581\n",
       "1          1.0            132044\n",
       "2          5.0            130316\n",
       "3          4.0            130180\n",
       "4          2.0            128858\n",
       "5         10.0            112237\n",
       "6         12.0            107945\n",
       "7          9.0            105159\n",
       "8         11.0            104770\n",
       "9          8.0            104089\n",
       "10         6.0            102594\n",
       "11         7.0            102227"
      ]
     },
     "execution_count": 8,
     "metadata": {},
     "output_type": "execute_result"
    }
   ],
   "source": [
    "# Выясним, в какие месяцы происходит наибольшее количество аварий\n",
    "query = '''\n",
    "select distinct extract(month from collision_date) month_date,\n",
    "      count(case_id) total_collisions\n",
    "from collisions\n",
    "group by month_date\n",
    "order by total_collisions desc\n",
    "'''\n",
    "\n",
    "count_collions = pd.read_sql_query(query, con=engine)\n",
    "count_collions"
   ]
  },
  {
   "cell_type": "code",
   "execution_count": 9,
   "id": "97cdea89",
   "metadata": {},
   "outputs": [
    {
     "data": {
      "image/png": "[encoded data removed]",
      "text/plain": [
       "<Figure size 432x288 with 1 Axes>"
      ]
     },
     "metadata": {
      "needs_background": "light"
     },
     "output_type": "display_data"
    }
   ],
   "source": [
    "import seaborn as sns\n",
    "sns.barplot(data = count_collions, x='month_date', y='total_collisions')\n",
    "plt.title('Количество аварий в месяц')\n",
    "plt.xticks(rotation=40)\n",
    "plt.xlabel('Месяцы')\n",
    "plt.ylabel('Количество аварий')\n",
    "plt.show()"
   ]
  },
  {
   "cell_type": "markdown",
   "id": "d67df1f6",
   "metadata": {},
   "source": [
    "<div class=\"alert alert-block alert-success\"; style=\"border-left: 6px solid green\">\n",
    "<b>Успех ✔️</b>\n",
    "       \n",
    "Здорово, что не забываешь про оформление графиков!)\n",
    "    \n",
    "</div>\n"
   ]
  },
  {
   "cell_type": "markdown",
   "id": "4cd90560",
   "metadata": {},
   "source": [
    "**ВЫВОД: Как очевидно из графика, наибольшее количество аварий приходится на март (139581), наименьшее количество аварий приходится на июль (102227).**"
   ]
  },
  {
   "cell_type": "markdown",
   "id": "4fb7083e",
   "metadata": {},
   "source": [
    "### **Проведем анализ серьёзности повреждений транспортного средства, исходя из состояния дороги в момент ДТП:**"
   ]
  },
  {
   "cell_type": "code",
   "execution_count": 10,
   "id": "444c1137",
   "metadata": {
    "scrolled": true
   },
   "outputs": [
    {
     "data": {
      "text/html": [
       "<div>\n",
       "<style scoped>\n",
       "    .dataframe tbody tr th:only-of-type {\n",
       "        vertical-align: middle;\n",
       "    }\n",
       "\n",
       "    .dataframe tbody tr th {\n",
       "        vertical-align: top;\n",
       "    }\n",
       "\n",
       "    .dataframe thead th {\n",
       "        text-align: right;\n",
       "    }\n",
       "</style>\n",
       "<table border=\"1\" class=\"dataframe\">\n",
       "  <thead>\n",
       "    <tr style=\"text-align: right;\">\n",
       "      <th></th>\n",
       "      <th>road_surface</th>\n",
       "      <th>count_collision_damage</th>\n",
       "    </tr>\n",
       "  </thead>\n",
       "  <tbody>\n",
       "    <tr>\n",
       "      <th>0</th>\n",
       "      <td>dry</td>\n",
       "      <td>1242026</td>\n",
       "    </tr>\n",
       "    <tr>\n",
       "      <th>1</th>\n",
       "      <td>wet</td>\n",
       "      <td>136236</td>\n",
       "    </tr>\n",
       "    <tr>\n",
       "      <th>2</th>\n",
       "      <td>None</td>\n",
       "      <td>13093</td>\n",
       "    </tr>\n",
       "    <tr>\n",
       "      <th>3</th>\n",
       "      <td>slippery</td>\n",
       "      <td>1384</td>\n",
       "    </tr>\n",
       "    <tr>\n",
       "      <th>4</th>\n",
       "      <td>snowy</td>\n",
       "      <td>7261</td>\n",
       "    </tr>\n",
       "  </tbody>\n",
       "</table>\n",
       "</div>"
      ],
      "text/plain": [
       "  road_surface  count_collision_damage\n",
       "0          dry                 1242026\n",
       "1          wet                  136236\n",
       "2         None                   13093\n",
       "3     slippery                    1384\n",
       "4        snowy                    7261"
      ]
     },
     "execution_count": 10,
     "metadata": {},
     "output_type": "execute_result"
    }
   ],
   "source": [
    "query = '''\n",
    "select distinct road_surface,\n",
    "       count(collision_damage) over (partition by road_surface) \n",
    "       count_collision_damage       \n",
    "from collisions\n",
    "'''\n",
    "damage_collisions = pd.read_sql_query(query, con=engine)\n",
    "damage_collisions"
   ]
  },
  {
   "cell_type": "code",
   "execution_count": 11,
   "id": "08ae501b",
   "metadata": {},
   "outputs": [
    {
     "data": {
      "image/png": "[encoded data removed]",
      "text/plain": [
       "<Figure size 432x288 with 1 Axes>"
      ]
     },
     "metadata": {
      "needs_background": "light"
     },
     "output_type": "display_data"
    }
   ],
   "source": [
    "sns.barplot(data = damage_collisions, x='road_surface', y='count_collision_damage')\n",
    "plt.title('Количество повреждений транспортных средств, исходя из состояния дороги')\n",
    "plt.xticks(rotation=40)\n",
    "plt.xlabel('Количество повреждений')\n",
    "plt.ylabel('Состояние дороги')\n",
    "plt.show()"
   ]
  },
  {
   "cell_type": "markdown",
   "id": "fa942b52",
   "metadata": {},
   "source": [
    "**ВЫВОД:**\n",
    "\n",
    "Чаще всего ДТП происходят когда дорогая сухая (1242026 случаев),но так же можно увидеть что мокрая дорога (136236 случаев), может повлиять на вероятность возникновения ДТП. Как ни странно, на заснеженной дороге меньше всего аварий (7261 случаев). Скорее всего это может быть связано с тем, что водители в зимний период времни более осторожны."
   ]
  },
  {
   "cell_type": "markdown",
   "id": "dc016005",
   "metadata": {},
   "source": [
    "**Найдём самые частые причины ДТП**"
   ]
  },
  {
   "cell_type": "code",
   "execution_count": 12,
   "id": "7ab452b8",
   "metadata": {},
   "outputs": [
    {
     "data": {
      "text/html": [
       "<div>\n",
       "<style scoped>\n",
       "    .dataframe tbody tr th:only-of-type {\n",
       "        vertical-align: middle;\n",
       "    }\n",
       "\n",
       "    .dataframe tbody tr th {\n",
       "        vertical-align: top;\n",
       "    }\n",
       "\n",
       "    .dataframe thead th {\n",
       "        text-align: right;\n",
       "    }\n",
       "</style>\n",
       "<table border=\"1\" class=\"dataframe\">\n",
       "  <thead>\n",
       "    <tr style=\"text-align: right;\">\n",
       "      <th></th>\n",
       "      <th>primary_collision_factor</th>\n",
       "      <th>count_collision_factor</th>\n",
       "    </tr>\n",
       "  </thead>\n",
       "  <tbody>\n",
       "    <tr>\n",
       "      <th>0</th>\n",
       "      <td>vehicle code violation</td>\n",
       "      <td>1316453</td>\n",
       "    </tr>\n",
       "    <tr>\n",
       "      <th>1</th>\n",
       "      <td>other than driver</td>\n",
       "      <td>29780</td>\n",
       "    </tr>\n",
       "    <tr>\n",
       "      <th>2</th>\n",
       "      <td>other improper driving</td>\n",
       "      <td>8470</td>\n",
       "    </tr>\n",
       "    <tr>\n",
       "      <th>3</th>\n",
       "      <td>fell asleep</td>\n",
       "      <td>117</td>\n",
       "    </tr>\n",
       "  </tbody>\n",
       "</table>\n",
       "</div>"
      ],
      "text/plain": [
       "  primary_collision_factor  count_collision_factor\n",
       "0   vehicle code violation                 1316453\n",
       "1        other than driver                   29780\n",
       "2   other improper driving                    8470\n",
       "3              fell asleep                     117"
      ]
     },
     "execution_count": 12,
     "metadata": {},
     "output_type": "execute_result"
    }
   ],
   "source": [
    " query = '''\n",
    "select distinct primary_collision_factor,\n",
    "       count(primary_collision_factor) count_collision_factor\n",
    "from collisions\n",
    "where primary_collision_factor != 'unknown' \n",
    "group by primary_collision_factor\n",
    "order by count_collision_factor desc\n",
    "'''\n",
    "collisions_reasons = pd.read_sql_query(query, con=engine)\n",
    "collisions_reasons"
   ]
  },
  {
   "cell_type": "code",
   "execution_count": 13,
   "id": "0d1cf255",
   "metadata": {},
   "outputs": [
    {
     "data": {
      "image/png": "[encoded data removed]",
      "text/plain": [
       "<Figure size 432x288 with 1 Axes>"
      ]
     },
     "metadata": {
      "needs_background": "light"
     },
     "output_type": "display_data"
    }
   ],
   "source": [
    "sns.barplot(data = collisions_reasons, x='primary_collision_factor', y='count_collision_factor')\n",
    "plt.title('Количество аварий в месяц')\n",
    "plt.xticks(rotation=40)\n",
    "plt.xlabel('Месяцы')\n",
    "plt.ylabel('Количество аварий')\n",
    "plt.show()"
   ]
  },
  {
   "cell_type": "markdown",
   "id": "734c5330",
   "metadata": {},
   "source": [
    "**ВЫВОД** \n",
    "\n",
    "Чаще всего ДТП происходят по причине нарушения ПДД (1316453 случаев), меньше всего по причине того,  что водитель уснул (117 случаев)."
   ]
  },
  {
   "cell_type": "markdown",
   "id": "8fc16a06",
   "metadata": {},
   "source": [
    "**Проверим автомобили какого возраста чаще всего попадают в ДТП**"
   ]
  },
  {
   "cell_type": "code",
   "execution_count": 14,
   "id": "c0acc2a9",
   "metadata": {
    "scrolled": true
   },
   "outputs": [
    {
     "data": {
      "text/html": [
       "<div>\n",
       "<style scoped>\n",
       "    .dataframe tbody tr th:only-of-type {\n",
       "        vertical-align: middle;\n",
       "    }\n",
       "\n",
       "    .dataframe tbody tr th {\n",
       "        vertical-align: top;\n",
       "    }\n",
       "\n",
       "    .dataframe thead th {\n",
       "        text-align: right;\n",
       "    }\n",
       "</style>\n",
       "<table border=\"1\" class=\"dataframe\">\n",
       "  <thead>\n",
       "    <tr style=\"text-align: right;\">\n",
       "      <th></th>\n",
       "      <th>count_collision_damage</th>\n",
       "      <th>vehicle_age</th>\n",
       "    </tr>\n",
       "  </thead>\n",
       "  <tbody>\n",
       "    <tr>\n",
       "      <th>0</th>\n",
       "      <td>178550</td>\n",
       "      <td>3.0</td>\n",
       "    </tr>\n",
       "    <tr>\n",
       "      <th>1</th>\n",
       "      <td>125472</td>\n",
       "      <td>4.0</td>\n",
       "    </tr>\n",
       "    <tr>\n",
       "      <th>2</th>\n",
       "      <td>106530</td>\n",
       "      <td>2.0</td>\n",
       "    </tr>\n",
       "    <tr>\n",
       "      <th>3</th>\n",
       "      <td>105035</td>\n",
       "      <td>5.0</td>\n",
       "    </tr>\n",
       "    <tr>\n",
       "      <th>4</th>\n",
       "      <td>84362</td>\n",
       "      <td>6.0</td>\n",
       "    </tr>\n",
       "    <tr>\n",
       "      <th>5</th>\n",
       "      <td>84282</td>\n",
       "      <td>7.0</td>\n",
       "    </tr>\n",
       "    <tr>\n",
       "      <th>6</th>\n",
       "      <td>77070</td>\n",
       "      <td>8.0</td>\n",
       "    </tr>\n",
       "    <tr>\n",
       "      <th>7</th>\n",
       "      <td>58255</td>\n",
       "      <td>9.0</td>\n",
       "    </tr>\n",
       "    <tr>\n",
       "      <th>8</th>\n",
       "      <td>41307</td>\n",
       "      <td>1.0</td>\n",
       "    </tr>\n",
       "    <tr>\n",
       "      <th>9</th>\n",
       "      <td>40262</td>\n",
       "      <td>0.0</td>\n",
       "    </tr>\n",
       "    <tr>\n",
       "      <th>10</th>\n",
       "      <td>38457</td>\n",
       "      <td>10.0</td>\n",
       "    </tr>\n",
       "    <tr>\n",
       "      <th>11</th>\n",
       "      <td>27075</td>\n",
       "      <td>11.0</td>\n",
       "    </tr>\n",
       "    <tr>\n",
       "      <th>12</th>\n",
       "      <td>24582</td>\n",
       "      <td>NaN</td>\n",
       "    </tr>\n",
       "    <tr>\n",
       "      <th>13</th>\n",
       "      <td>14947</td>\n",
       "      <td>12.0</td>\n",
       "    </tr>\n",
       "    <tr>\n",
       "      <th>14</th>\n",
       "      <td>10126</td>\n",
       "      <td>13.0</td>\n",
       "    </tr>\n",
       "    <tr>\n",
       "      <th>15</th>\n",
       "      <td>4096</td>\n",
       "      <td>14.0</td>\n",
       "    </tr>\n",
       "    <tr>\n",
       "      <th>16</th>\n",
       "      <td>673</td>\n",
       "      <td>15.0</td>\n",
       "    </tr>\n",
       "    <tr>\n",
       "      <th>17</th>\n",
       "      <td>96</td>\n",
       "      <td>16.0</td>\n",
       "    </tr>\n",
       "    <tr>\n",
       "      <th>18</th>\n",
       "      <td>31</td>\n",
       "      <td>17.0</td>\n",
       "    </tr>\n",
       "    <tr>\n",
       "      <th>19</th>\n",
       "      <td>17</td>\n",
       "      <td>161.0</td>\n",
       "    </tr>\n",
       "    <tr>\n",
       "      <th>20</th>\n",
       "      <td>6</td>\n",
       "      <td>19.0</td>\n",
       "    </tr>\n",
       "    <tr>\n",
       "      <th>21</th>\n",
       "      <td>2</td>\n",
       "      <td>20.0</td>\n",
       "    </tr>\n",
       "    <tr>\n",
       "      <th>22</th>\n",
       "      <td>1</td>\n",
       "      <td>18.0</td>\n",
       "    </tr>\n",
       "  </tbody>\n",
       "</table>\n",
       "</div>"
      ],
      "text/plain": [
       "    count_collision_damage  vehicle_age\n",
       "0                   178550          3.0\n",
       "1                   125472          4.0\n",
       "2                   106530          2.0\n",
       "3                   105035          5.0\n",
       "4                    84362          6.0\n",
       "5                    84282          7.0\n",
       "6                    77070          8.0\n",
       "7                    58255          9.0\n",
       "8                    41307          1.0\n",
       "9                    40262          0.0\n",
       "10                   38457         10.0\n",
       "11                   27075         11.0\n",
       "12                   24582          NaN\n",
       "13                   14947         12.0\n",
       "14                   10126         13.0\n",
       "15                    4096         14.0\n",
       "16                     673         15.0\n",
       "17                      96         16.0\n",
       "18                      31         17.0\n",
       "19                      17        161.0\n",
       "20                       6         19.0\n",
       "21                       2         20.0\n",
       "22                       1         18.0"
      ]
     },
     "execution_count": 14,
     "metadata": {},
     "output_type": "execute_result"
    }
   ],
   "source": [
    " query = '''\n",
    "select count(collision_damage) as count_collision_damage,\n",
    "       VEHICLE_AGE\n",
    "from collisions as c\n",
    "join Vehicles as v on c.case_id=v.case_id\n",
    "group by VEHICLE_AGE\n",
    "order by count_collision_damage desc\n",
    "'''\n",
    "VEHICLE_AGE_collision_damage = pd.read_sql_query(query, con=engine)\n",
    "VEHICLE_AGE_collision_damage"
   ]
  },
  {
   "cell_type": "code",
   "execution_count": 15,
   "id": "16bdcd23",
   "metadata": {},
   "outputs": [
    {
     "data": {
      "image/png": "[encoded data removed]",
      "text/plain": [
       "<Figure size 432x288 with 1 Axes>"
      ]
     },
     "metadata": {
      "needs_background": "light"
     },
     "output_type": "display_data"
    }
   ],
   "source": [
    "sns.barplot(data = VEHICLE_AGE_collision_damage, x='vehicle_age', y='count_collision_damage')\n",
    "plt.title('Количество аварий в месяц')\n",
    "plt.xticks(rotation=40)\n",
    "plt.xlabel('Возраст автомобиля')\n",
    "plt.ylabel('Количество аварий')\n",
    "plt.show()"
   ]
  },
  {
   "cell_type": "markdown",
   "id": "4548725b",
   "metadata": {},
   "source": [
    "**ВЫВОД** \n",
    "\n",
    "Чаще всего ДТП происходят с автомобилями трёх лет, меньше всего с автомобилями 14 лет. "
   ]
  },
  {
   "cell_type": "markdown",
   "id": "9f3acc64",
   "metadata": {},
   "source": [
    "**Проверим состояние участника: физическое или с учётом принятых лекарствав и количество дтп**"
   ]
  },
  {
   "cell_type": "code",
   "execution_count": 16,
   "id": "4572ed15",
   "metadata": {
    "scrolled": true
   },
   "outputs": [
    {
     "data": {
      "text/html": [
       "<div>\n",
       "<style scoped>\n",
       "    .dataframe tbody tr th:only-of-type {\n",
       "        vertical-align: middle;\n",
       "    }\n",
       "\n",
       "    .dataframe tbody tr th {\n",
       "        vertical-align: top;\n",
       "    }\n",
       "\n",
       "    .dataframe thead th {\n",
       "        text-align: right;\n",
       "    }\n",
       "</style>\n",
       "<table border=\"1\" class=\"dataframe\">\n",
       "  <thead>\n",
       "    <tr style=\"text-align: right;\">\n",
       "      <th></th>\n",
       "      <th>count_collision_damage</th>\n",
       "      <th>party_drug_physical</th>\n",
       "    </tr>\n",
       "  </thead>\n",
       "  <tbody>\n",
       "    <tr>\n",
       "      <th>0</th>\n",
       "      <td>2320120</td>\n",
       "      <td>None</td>\n",
       "    </tr>\n",
       "    <tr>\n",
       "      <th>1</th>\n",
       "      <td>232901</td>\n",
       "      <td>G</td>\n",
       "    </tr>\n",
       "    <tr>\n",
       "      <th>2</th>\n",
       "      <td>169343</td>\n",
       "      <td>not applicable</td>\n",
       "    </tr>\n",
       "    <tr>\n",
       "      <th>3</th>\n",
       "      <td>13215</td>\n",
       "      <td>under drug influence</td>\n",
       "    </tr>\n",
       "    <tr>\n",
       "      <th>4</th>\n",
       "      <td>12641</td>\n",
       "      <td>sleepy/fatigued</td>\n",
       "    </tr>\n",
       "    <tr>\n",
       "      <th>5</th>\n",
       "      <td>4188</td>\n",
       "      <td>impairment - physical</td>\n",
       "    </tr>\n",
       "  </tbody>\n",
       "</table>\n",
       "</div>"
      ],
      "text/plain": [
       "   count_collision_damage    party_drug_physical\n",
       "0                 2320120                   None\n",
       "1                  232901                      G\n",
       "2                  169343         not applicable\n",
       "3                   13215   under drug influence\n",
       "4                   12641        sleepy/fatigued\n",
       "5                    4188  impairment - physical"
      ]
     },
     "execution_count": 16,
     "metadata": {},
     "output_type": "execute_result"
    }
   ],
   "source": [
    "query = '''\n",
    "select count(collision_damage) as count_collision_damage,\n",
    "       PARTY_DRUG_PHYSICAL\n",
    "from collisions as c\n",
    "join Parties as p on c.case_id=p.case_id\n",
    "group by PARTY_DRUG_PHYSICAL\n",
    "order by count_collision_damage desc\n",
    "'''\n",
    "PARTY_DRUG_PHYSICAL_collision_damage = pd.read_sql_query(query, con=engine)\n",
    "PARTY_DRUG_PHYSICAL_collision_damage"
   ]
  },
  {
   "cell_type": "code",
   "execution_count": 17,
   "id": "5cbcf820",
   "metadata": {
    "scrolled": true
   },
   "outputs": [
    {
     "data": {
      "image/png": "[encoded data removed]",
      "text/plain": [
       "<Figure size 432x288 with 1 Axes>"
      ]
     },
     "metadata": {
      "needs_background": "light"
     },
     "output_type": "display_data"
    }
   ],
   "source": [
    "sns.barplot(data = PARTY_DRUG_PHYSICAL_collision_damage, x='party_drug_physical', y='count_collision_damage')\n",
    "plt.title('Количество аварий в месяц')\n",
    "plt.xticks(rotation=40)\n",
    "plt.xlabel('состояние участника')\n",
    "plt.ylabel('Количество аварий')\n",
    "plt.show()"
   ]
  },
  {
   "cell_type": "markdown",
   "id": "7974135a",
   "metadata": {},
   "source": [
    "**ВЫВОД** \n",
    "\n",
    "Чаще всего сосотояние неизвестно или не оценивается."
   ]
  },
  {
   "cell_type": "markdown",
   "id": "51f12753",
   "metadata": {},
   "source": [
    "**Аналитические задачи для коллег:**"
   ]
  },
  {
   "cell_type": "markdown",
   "id": "3c6fc91a",
   "metadata": {},
   "source": [
    "- Проведите анализ серьёзности повреждений транспортного средства, исходя трезвости участника;\n",
    "- Найдите самые частые причины ДТП.\n",
    "- Проведите анализ серьёзности повреждений транспортного средства и наличие телефона в автомобиле (возможности разговаривать по громкой связи).\n",
    "- Проведите анализ серьёзности повреждений транспортного средства в зависимости от типа кузова автомобиля.\n",
    "- Проведите анализ серьёзности повреждений транспортного средства исходя из времени происшествия\n",
    "- Проверить зависимоть дтп от освещения\n",
    "- Проверить зависимоть дтп от типа дороги\n",
    "- Проведите анализ серьёзности повреждений транспортного средства, исходя из категории нарушения\t"
   ]
  },
  {
   "cell_type": "markdown",
   "id": "b8a54fbc",
   "metadata": {},
   "source": [
    "## Создайте модель для оценки водительского риска"
   ]
  },
  {
   "cell_type": "markdown",
   "id": "68428a3d",
   "metadata": {},
   "source": [
    "**Подготовьте набор данных на основе первичного предположения заказчика:**\n",
    " \n",
    "- Выберите тип виновника — только машина (car). \n",
    "- Возьмите случаи, когда ДТП привело к любым значимым повреждениям автомобиля любого из участников — все, кроме типа SCRATCH (царапина).\n",
    "- Для моделирования возьмите данные только за 2012 год."
   ]
  },
  {
   "cell_type": "code",
   "execution_count": 18,
   "id": "e2520400",
   "metadata": {},
   "outputs": [],
   "source": [
    "query = '''\n",
    "with \n",
    "  p as(\n",
    "        select distinct case_id,\n",
    "               at_fault,\n",
    "               party_type, \n",
    "               party_sobriety,\n",
    "               party_drug_physical,\n",
    "               cellphone_in_use\n",
    "        from parties),\n",
    "  c as (\n",
    "        select distinct case_id,\n",
    "               weather_1,\n",
    "               road_surface,\n",
    "               lighting,\n",
    "               road_condition_1,\n",
    "               collision_date,\n",
    "               collision_damage,\n",
    "               intersection,\n",
    "               control_device\n",
    "        from collisions),\n",
    "  v as (\n",
    "        select distinct case_id,\n",
    "               vehicle_age\n",
    "        from vehicles),\n",
    "  c_i as (\n",
    "          select distinct case_id\n",
    "          from case_ids)\n",
    "select p.party_type,\n",
    "       p.at_fault,\n",
    "       p.party_sobriety,\n",
    "       p.party_drug_physical,\n",
    "       c.road_surface,\n",
    "       c.lighting,\n",
    "       c.road_condition_1,\n",
    "       v.vehicle_age,\n",
    "       c.intersection,\n",
    "       p.cellphone_in_use,\n",
    "       c.control_device,\n",
    "       c.weather_1\n",
    "from c_i\n",
    "join p on c_i.case_id = p.case_id\n",
    "join c on c_i.case_id = c.case_id\n",
    "join v on c_i.case_id = v.case_id\n",
    "where party_type = 'car'\n",
    "  and collision_date between '2012-01-01' and '2013-01-01'\n",
    "  and collision_damage != 'scratch'\n",
    "'''\n",
    "df = pd.read_sql_query(query, con=engine)"
   ]
  },
  {
   "cell_type": "code",
   "execution_count": 19,
   "id": "2d2c76f1",
   "metadata": {},
   "outputs": [
    {
     "data": {
      "text/html": [
       "<div>\n",
       "<style scoped>\n",
       "    .dataframe tbody tr th:only-of-type {\n",
       "        vertical-align: middle;\n",
       "    }\n",
       "\n",
       "    .dataframe tbody tr th {\n",
       "        vertical-align: top;\n",
       "    }\n",
       "\n",
       "    .dataframe thead th {\n",
       "        text-align: right;\n",
       "    }\n",
       "</style>\n",
       "<table border=\"1\" class=\"dataframe\">\n",
       "  <thead>\n",
       "    <tr style=\"text-align: right;\">\n",
       "      <th></th>\n",
       "      <th>party_type</th>\n",
       "      <th>at_fault</th>\n",
       "      <th>party_sobriety</th>\n",
       "      <th>party_drug_physical</th>\n",
       "      <th>road_surface</th>\n",
       "      <th>lighting</th>\n",
       "      <th>road_condition_1</th>\n",
       "      <th>vehicle_age</th>\n",
       "      <th>intersection</th>\n",
       "      <th>cellphone_in_use</th>\n",
       "      <th>control_device</th>\n",
       "      <th>weather_1</th>\n",
       "    </tr>\n",
       "  </thead>\n",
       "  <tbody>\n",
       "    <tr>\n",
       "      <th>0</th>\n",
       "      <td>car</td>\n",
       "      <td>0</td>\n",
       "      <td>had not been drinking</td>\n",
       "      <td>None</td>\n",
       "      <td>dry</td>\n",
       "      <td>daylight</td>\n",
       "      <td>other</td>\n",
       "      <td>2.0</td>\n",
       "      <td>1.0</td>\n",
       "      <td>0.0</td>\n",
       "      <td>none</td>\n",
       "      <td>cloudy</td>\n",
       "    </tr>\n",
       "    <tr>\n",
       "      <th>1</th>\n",
       "      <td>car</td>\n",
       "      <td>1</td>\n",
       "      <td>had not been drinking</td>\n",
       "      <td>None</td>\n",
       "      <td>dry</td>\n",
       "      <td>daylight</td>\n",
       "      <td>other</td>\n",
       "      <td>2.0</td>\n",
       "      <td>1.0</td>\n",
       "      <td>0.0</td>\n",
       "      <td>none</td>\n",
       "      <td>cloudy</td>\n",
       "    </tr>\n",
       "    <tr>\n",
       "      <th>2</th>\n",
       "      <td>car</td>\n",
       "      <td>0</td>\n",
       "      <td>had not been drinking</td>\n",
       "      <td>None</td>\n",
       "      <td>dry</td>\n",
       "      <td>daylight</td>\n",
       "      <td>normal</td>\n",
       "      <td>5.0</td>\n",
       "      <td>1.0</td>\n",
       "      <td>0.0</td>\n",
       "      <td>none</td>\n",
       "      <td>clear</td>\n",
       "    </tr>\n",
       "    <tr>\n",
       "      <th>3</th>\n",
       "      <td>car</td>\n",
       "      <td>1</td>\n",
       "      <td>had not been drinking</td>\n",
       "      <td>None</td>\n",
       "      <td>dry</td>\n",
       "      <td>daylight</td>\n",
       "      <td>normal</td>\n",
       "      <td>5.0</td>\n",
       "      <td>1.0</td>\n",
       "      <td>0.0</td>\n",
       "      <td>none</td>\n",
       "      <td>clear</td>\n",
       "    </tr>\n",
       "    <tr>\n",
       "      <th>4</th>\n",
       "      <td>car</td>\n",
       "      <td>0</td>\n",
       "      <td>had not been drinking</td>\n",
       "      <td>None</td>\n",
       "      <td>dry</td>\n",
       "      <td>daylight</td>\n",
       "      <td>normal</td>\n",
       "      <td>1.0</td>\n",
       "      <td>1.0</td>\n",
       "      <td>0.0</td>\n",
       "      <td>functioning</td>\n",
       "      <td>clear</td>\n",
       "    </tr>\n",
       "  </tbody>\n",
       "</table>\n",
       "</div>"
      ],
      "text/plain": [
       "  party_type  at_fault         party_sobriety party_drug_physical  \\\n",
       "0        car         0  had not been drinking                None   \n",
       "1        car         1  had not been drinking                None   \n",
       "2        car         0  had not been drinking                None   \n",
       "3        car         1  had not been drinking                None   \n",
       "4        car         0  had not been drinking                None   \n",
       "\n",
       "  road_surface  lighting road_condition_1  vehicle_age  intersection  \\\n",
       "0          dry  daylight            other          2.0           1.0   \n",
       "1          dry  daylight            other          2.0           1.0   \n",
       "2          dry  daylight           normal          5.0           1.0   \n",
       "3          dry  daylight           normal          5.0           1.0   \n",
       "4          dry  daylight           normal          1.0           1.0   \n",
       "\n",
       "   cellphone_in_use control_device weather_1  \n",
       "0               0.0           none    cloudy  \n",
       "1               0.0           none    cloudy  \n",
       "2               0.0           none     clear  \n",
       "3               0.0           none     clear  \n",
       "4               0.0    functioning     clear  "
      ]
     },
     "execution_count": 19,
     "metadata": {},
     "output_type": "execute_result"
    }
   ],
   "source": [
    "df.head()"
   ]
  },
  {
   "cell_type": "markdown",
   "id": "2dd1bce7",
   "metadata": {},
   "source": [
    "**Были выбраны:**\n",
    "\n",
    "\n",
    "- Тип виновника — только машина (car).\n",
    "- 'at_fault' - Виновность участника (Таблица parties)\n",
    "- 'party_sobriety' - Уровень трезвости виновника (точно может влиять) (Таблица parties)\n",
    "- 'party_drug_physical' - Состояние участника: физическое или с учётом принятых лекарств. Таблица parties\n",
    "- 'cellphone_in_use' - Возможность говорить по громкой связи в машине или нет. Таблица parties\n",
    " \n",
    " \n",
    " \n",
    " \n",
    " \n",
    "- 'lighting' - Освещение. Таблица collisions    \n",
    "- 'road_surface' - Состояние дороги. Таблица collisions   \n",
    "- 'road_condition_1' - Дорожное состояние. Таблица collisions\n",
    "- 'intersection' - Является ли перекрестком. Таблица collisions\n",
    "- 'control_device' - Устройство управления. Таблица collisions\n",
    "- 'weather_1' - Погода. Таблица collisions\n",
    "\n",
    "\n",
    "\n",
    "- 'vehicle_age' - Возраст автомобиля (в годах) Таблица Vehicles \n",
    "\n"
   ]
  },
  {
   "cell_type": "code",
   "execution_count": 20,
   "id": "3895234f",
   "metadata": {
    "scrolled": true
   },
   "outputs": [
    {
     "name": "stdout",
     "output_type": "stream",
     "text": [
      "<class 'pandas.core.frame.DataFrame'>\n",
      "RangeIndex: 101523 entries, 0 to 101522\n",
      "Data columns (total 12 columns):\n",
      " #   Column               Non-Null Count   Dtype  \n",
      "---  ------               --------------   -----  \n",
      " 0   party_type           101523 non-null  object \n",
      " 1   at_fault             101523 non-null  int64  \n",
      " 2   party_sobriety       99951 non-null   object \n",
      " 3   party_drug_physical  8438 non-null    object \n",
      " 4   road_surface         100910 non-null  object \n",
      " 5   lighting             101245 non-null  object \n",
      " 6   road_condition_1     101073 non-null  object \n",
      " 7   vehicle_age          98622 non-null   float64\n",
      " 8   intersection         101186 non-null  float64\n",
      " 9   cellphone_in_use     91676 non-null   float64\n",
      " 10  control_device       101124 non-null  object \n",
      " 11  weather_1            101215 non-null  object \n",
      "dtypes: float64(3), int64(1), object(8)\n",
      "memory usage: 9.3+ MB\n"
     ]
    }
   ],
   "source": [
    "df.info()"
   ]
  },
  {
   "cell_type": "code",
   "execution_count": 21,
   "id": "80151537",
   "metadata": {
    "scrolled": true
   },
   "outputs": [
    {
     "data": {
      "text/plain": [
       "party_type             0.000000\n",
       "at_fault               0.000000\n",
       "party_sobriety         0.015484\n",
       "party_drug_physical    0.916886\n",
       "road_surface           0.006038\n",
       "lighting               0.002738\n",
       "road_condition_1       0.004432\n",
       "vehicle_age            0.028575\n",
       "intersection           0.003319\n",
       "cellphone_in_use       0.096993\n",
       "control_device         0.003930\n",
       "weather_1              0.003034\n",
       "dtype: float64"
      ]
     },
     "execution_count": 21,
     "metadata": {},
     "output_type": "execute_result"
    }
   ],
   "source": [
    "df.isna().mean()"
   ]
  },
  {
   "cell_type": "markdown",
   "id": "9e3fa751",
   "metadata": {},
   "source": [
    "Столбец party_drug_physical мог бы быть полезен, но в нем отсутствует более 90% данных, поэтому удалим его:"
   ]
  },
  {
   "cell_type": "code",
   "execution_count": 22,
   "id": "bb927859",
   "metadata": {},
   "outputs": [],
   "source": [
    "df.drop('party_drug_physical', axis=1, inplace= True)"
   ]
  },
  {
   "cell_type": "code",
   "execution_count": 23,
   "id": "314aeede",
   "metadata": {
    "scrolled": true
   },
   "outputs": [
    {
     "data": {
      "text/html": [
       "<div>\n",
       "<style scoped>\n",
       "    .dataframe tbody tr th:only-of-type {\n",
       "        vertical-align: middle;\n",
       "    }\n",
       "\n",
       "    .dataframe tbody tr th {\n",
       "        vertical-align: top;\n",
       "    }\n",
       "\n",
       "    .dataframe thead th {\n",
       "        text-align: right;\n",
       "    }\n",
       "</style>\n",
       "<table border=\"1\" class=\"dataframe\">\n",
       "  <thead>\n",
       "    <tr style=\"text-align: right;\">\n",
       "      <th></th>\n",
       "      <th>party_type</th>\n",
       "      <th>at_fault</th>\n",
       "      <th>party_sobriety</th>\n",
       "      <th>road_surface</th>\n",
       "      <th>lighting</th>\n",
       "      <th>road_condition_1</th>\n",
       "      <th>vehicle_age</th>\n",
       "      <th>intersection</th>\n",
       "      <th>cellphone_in_use</th>\n",
       "      <th>control_device</th>\n",
       "      <th>weather_1</th>\n",
       "    </tr>\n",
       "  </thead>\n",
       "  <tbody>\n",
       "    <tr>\n",
       "      <th>0</th>\n",
       "      <td>car</td>\n",
       "      <td>0</td>\n",
       "      <td>had not been drinking</td>\n",
       "      <td>dry</td>\n",
       "      <td>daylight</td>\n",
       "      <td>other</td>\n",
       "      <td>2.0</td>\n",
       "      <td>1.0</td>\n",
       "      <td>0.0</td>\n",
       "      <td>none</td>\n",
       "      <td>cloudy</td>\n",
       "    </tr>\n",
       "    <tr>\n",
       "      <th>1</th>\n",
       "      <td>car</td>\n",
       "      <td>1</td>\n",
       "      <td>had not been drinking</td>\n",
       "      <td>dry</td>\n",
       "      <td>daylight</td>\n",
       "      <td>other</td>\n",
       "      <td>2.0</td>\n",
       "      <td>1.0</td>\n",
       "      <td>0.0</td>\n",
       "      <td>none</td>\n",
       "      <td>cloudy</td>\n",
       "    </tr>\n",
       "    <tr>\n",
       "      <th>2</th>\n",
       "      <td>car</td>\n",
       "      <td>0</td>\n",
       "      <td>had not been drinking</td>\n",
       "      <td>dry</td>\n",
       "      <td>daylight</td>\n",
       "      <td>normal</td>\n",
       "      <td>5.0</td>\n",
       "      <td>1.0</td>\n",
       "      <td>0.0</td>\n",
       "      <td>none</td>\n",
       "      <td>clear</td>\n",
       "    </tr>\n",
       "    <tr>\n",
       "      <th>3</th>\n",
       "      <td>car</td>\n",
       "      <td>1</td>\n",
       "      <td>had not been drinking</td>\n",
       "      <td>dry</td>\n",
       "      <td>daylight</td>\n",
       "      <td>normal</td>\n",
       "      <td>5.0</td>\n",
       "      <td>1.0</td>\n",
       "      <td>0.0</td>\n",
       "      <td>none</td>\n",
       "      <td>clear</td>\n",
       "    </tr>\n",
       "    <tr>\n",
       "      <th>4</th>\n",
       "      <td>car</td>\n",
       "      <td>0</td>\n",
       "      <td>had not been drinking</td>\n",
       "      <td>dry</td>\n",
       "      <td>daylight</td>\n",
       "      <td>normal</td>\n",
       "      <td>1.0</td>\n",
       "      <td>1.0</td>\n",
       "      <td>0.0</td>\n",
       "      <td>functioning</td>\n",
       "      <td>clear</td>\n",
       "    </tr>\n",
       "  </tbody>\n",
       "</table>\n",
       "</div>"
      ],
      "text/plain": [
       "  party_type  at_fault         party_sobriety road_surface  lighting  \\\n",
       "0        car         0  had not been drinking          dry  daylight   \n",
       "1        car         1  had not been drinking          dry  daylight   \n",
       "2        car         0  had not been drinking          dry  daylight   \n",
       "3        car         1  had not been drinking          dry  daylight   \n",
       "4        car         0  had not been drinking          dry  daylight   \n",
       "\n",
       "  road_condition_1  vehicle_age  intersection  cellphone_in_use  \\\n",
       "0            other          2.0           1.0               0.0   \n",
       "1            other          2.0           1.0               0.0   \n",
       "2           normal          5.0           1.0               0.0   \n",
       "3           normal          5.0           1.0               0.0   \n",
       "4           normal          1.0           1.0               0.0   \n",
       "\n",
       "  control_device weather_1  \n",
       "0           none    cloudy  \n",
       "1           none    cloudy  \n",
       "2           none     clear  \n",
       "3           none     clear  \n",
       "4    functioning     clear  "
      ]
     },
     "execution_count": 23,
     "metadata": {},
     "output_type": "execute_result"
    }
   ],
   "source": [
    "df.head()"
   ]
  },
  {
   "cell_type": "markdown",
   "id": "c0a5c529",
   "metadata": {},
   "source": [
    "В категориальных значениях есть тоже небольшой процент пропусков, удалим их."
   ]
  },
  {
   "cell_type": "code",
   "execution_count": 24,
   "id": "a2b9a3dd",
   "metadata": {},
   "outputs": [],
   "source": [
    "df = df.dropna(subset = ['control_device','party_sobriety','weather_1','road_surface','lighting','road_condition_1'])"
   ]
  },
  {
   "cell_type": "code",
   "execution_count": 25,
   "id": "ef438ca7",
   "metadata": {},
   "outputs": [],
   "source": [
    "df=df.fillna(df[{'vehicle_age','cellphone_in_use','intersection'}].median())"
   ]
  },
  {
   "cell_type": "code",
   "execution_count": 26,
   "id": "7afeb0da",
   "metadata": {
    "scrolled": true
   },
   "outputs": [
    {
     "data": {
      "text/plain": [
       "party_type          0.0\n",
       "at_fault            0.0\n",
       "party_sobriety      0.0\n",
       "road_surface        0.0\n",
       "lighting            0.0\n",
       "road_condition_1    0.0\n",
       "vehicle_age         0.0\n",
       "intersection        0.0\n",
       "cellphone_in_use    0.0\n",
       "control_device      0.0\n",
       "weather_1           0.0\n",
       "dtype: float64"
      ]
     },
     "execution_count": 26,
     "metadata": {},
     "output_type": "execute_result"
    }
   ],
   "source": [
    "df.isna().mean()"
   ]
  },
  {
   "cell_type": "code",
   "execution_count": 27,
   "id": "9f948afc",
   "metadata": {
    "scrolled": false
   },
   "outputs": [
    {
     "name": "stdout",
     "output_type": "stream",
     "text": [
      "<class 'pandas.core.frame.DataFrame'>\n",
      "Int64Index: 98385 entries, 0 to 101522\n",
      "Data columns (total 11 columns):\n",
      " #   Column            Non-Null Count  Dtype  \n",
      "---  ------            --------------  -----  \n",
      " 0   party_type        98385 non-null  object \n",
      " 1   at_fault          98385 non-null  int64  \n",
      " 2   party_sobriety    98385 non-null  object \n",
      " 3   road_surface      98385 non-null  object \n",
      " 4   lighting          98385 non-null  object \n",
      " 5   road_condition_1  98385 non-null  object \n",
      " 6   vehicle_age       98385 non-null  float64\n",
      " 7   intersection      98385 non-null  float64\n",
      " 8   cellphone_in_use  98385 non-null  float64\n",
      " 9   control_device    98385 non-null  object \n",
      " 10  weather_1         98385 non-null  object \n",
      "dtypes: float64(3), int64(1), object(7)\n",
      "memory usage: 9.0+ MB\n"
     ]
    }
   ],
   "source": [
    "df.info()"
   ]
  },
  {
   "cell_type": "markdown",
   "id": "692fb800",
   "metadata": {},
   "source": [
    "Изменим тип данных на 'int'"
   ]
  },
  {
   "cell_type": "code",
   "execution_count": 28,
   "id": "ae0ccb26",
   "metadata": {},
   "outputs": [],
   "source": [
    "columns = ['vehicle_age','intersection','cellphone_in_use']"
   ]
  },
  {
   "cell_type": "code",
   "execution_count": 29,
   "id": "7f0b6902",
   "metadata": {},
   "outputs": [],
   "source": [
    "for i in columns:\n",
    "    df[i] = df[i].astype(int)"
   ]
  },
  {
   "cell_type": "code",
   "execution_count": 30,
   "id": "addc236d",
   "metadata": {
    "scrolled": true
   },
   "outputs": [
    {
     "data": {
      "text/plain": [
       "party_type          object\n",
       "at_fault             int64\n",
       "party_sobriety      object\n",
       "road_surface        object\n",
       "lighting            object\n",
       "road_condition_1    object\n",
       "vehicle_age          int64\n",
       "intersection         int64\n",
       "cellphone_in_use     int64\n",
       "control_device      object\n",
       "weather_1           object\n",
       "dtype: object"
      ]
     },
     "execution_count": 30,
     "metadata": {},
     "output_type": "execute_result"
    }
   ],
   "source": [
    "df.dtypes"
   ]
  },
  {
   "cell_type": "markdown",
   "id": "3cdd8257",
   "metadata": {},
   "source": [
    "**Нормализация входных данных**"
   ]
  },
  {
   "cell_type": "code",
   "execution_count": 31,
   "id": "5e75e1b6",
   "metadata": {},
   "outputs": [
    {
     "data": {
      "text/plain": [
       "Index(['party_type', 'at_fault', 'party_sobriety', 'road_surface', 'lighting',\n",
       "       'road_condition_1', 'vehicle_age', 'intersection', 'cellphone_in_use',\n",
       "       'control_device', 'weather_1'],\n",
       "      dtype='object')"
      ]
     },
     "execution_count": 31,
     "metadata": {},
     "output_type": "execute_result"
    }
   ],
   "source": [
    "df.columns"
   ]
  },
  {
   "cell_type": "code",
   "execution_count": 32,
   "id": "49a3d5f9",
   "metadata": {},
   "outputs": [
    {
     "name": "stdout",
     "output_type": "stream",
     "text": [
      "(98385, 11)\n",
      "Кол-во строк в обучающей выборке: 78708\n",
      "Кол-во строк в тестовой выборке: 19677\n"
     ]
    }
   ],
   "source": [
    "# разделение на 2 выборки (обучающая и валидационная)\n",
    "df_train, df_test = train_test_split(df, test_size=0.2, random_state=12345)\n",
    "\n",
    "# размер таблицы\n",
    "print(df.shape)\n",
    "print('Кол-во строк в обучающей выборке:', df_train.shape[0])\n",
    "print('Кол-во строк в тестовой выборке:', df_test.shape[0])\n",
    "\n",
    "target=['at_fault']\n",
    "numerics = ['vehicle_age','intersection','cellphone_in_use']\n",
    "categories = ['party_sobriety','road_surface','road_condition_1', 'lighting','party_type','control_device', 'weather_1']"
   ]
  },
  {
   "cell_type": "code",
   "execution_count": 33,
   "id": "73459ab6",
   "metadata": {},
   "outputs": [
    {
     "data": {
      "text/html": [
       "<div>\n",
       "<style scoped>\n",
       "    .dataframe tbody tr th:only-of-type {\n",
       "        vertical-align: middle;\n",
       "    }\n",
       "\n",
       "    .dataframe tbody tr th {\n",
       "        vertical-align: top;\n",
       "    }\n",
       "\n",
       "    .dataframe thead th {\n",
       "        text-align: right;\n",
       "    }\n",
       "</style>\n",
       "<table border=\"1\" class=\"dataframe\">\n",
       "  <thead>\n",
       "    <tr style=\"text-align: right;\">\n",
       "      <th></th>\n",
       "      <th>party_sobriety_had been drinking, not under influence</th>\n",
       "      <th>party_sobriety_had been drinking, under influence</th>\n",
       "      <th>party_sobriety_had not been drinking</th>\n",
       "      <th>party_sobriety_impairment unknown</th>\n",
       "      <th>party_sobriety_not applicable</th>\n",
       "      <th>road_surface_slippery</th>\n",
       "      <th>road_surface_snowy</th>\n",
       "      <th>road_surface_wet</th>\n",
       "      <th>road_condition_1_flooded</th>\n",
       "      <th>road_condition_1_holes</th>\n",
       "      <th>...</th>\n",
       "      <th>control_device_obscured</th>\n",
       "      <th>weather_1_cloudy</th>\n",
       "      <th>weather_1_fog</th>\n",
       "      <th>weather_1_other</th>\n",
       "      <th>weather_1_raining</th>\n",
       "      <th>weather_1_snowing</th>\n",
       "      <th>weather_1_wind</th>\n",
       "      <th>vehicle_age</th>\n",
       "      <th>intersection</th>\n",
       "      <th>cellphone_in_use</th>\n",
       "    </tr>\n",
       "  </thead>\n",
       "  <tbody>\n",
       "    <tr>\n",
       "      <th>58333</th>\n",
       "      <td>0.0</td>\n",
       "      <td>0.0</td>\n",
       "      <td>1.0</td>\n",
       "      <td>0.0</td>\n",
       "      <td>0.0</td>\n",
       "      <td>0.0</td>\n",
       "      <td>0.0</td>\n",
       "      <td>0.0</td>\n",
       "      <td>0.0</td>\n",
       "      <td>0.0</td>\n",
       "      <td>...</td>\n",
       "      <td>0.0</td>\n",
       "      <td>0.0</td>\n",
       "      <td>0.0</td>\n",
       "      <td>0.0</td>\n",
       "      <td>0.0</td>\n",
       "      <td>0.0</td>\n",
       "      <td>0.0</td>\n",
       "      <td>8</td>\n",
       "      <td>0</td>\n",
       "      <td>0</td>\n",
       "    </tr>\n",
       "    <tr>\n",
       "      <th>86939</th>\n",
       "      <td>0.0</td>\n",
       "      <td>0.0</td>\n",
       "      <td>1.0</td>\n",
       "      <td>0.0</td>\n",
       "      <td>0.0</td>\n",
       "      <td>0.0</td>\n",
       "      <td>0.0</td>\n",
       "      <td>0.0</td>\n",
       "      <td>0.0</td>\n",
       "      <td>0.0</td>\n",
       "      <td>...</td>\n",
       "      <td>0.0</td>\n",
       "      <td>0.0</td>\n",
       "      <td>0.0</td>\n",
       "      <td>0.0</td>\n",
       "      <td>0.0</td>\n",
       "      <td>0.0</td>\n",
       "      <td>0.0</td>\n",
       "      <td>3</td>\n",
       "      <td>0</td>\n",
       "      <td>0</td>\n",
       "    </tr>\n",
       "    <tr>\n",
       "      <th>88725</th>\n",
       "      <td>0.0</td>\n",
       "      <td>1.0</td>\n",
       "      <td>0.0</td>\n",
       "      <td>0.0</td>\n",
       "      <td>0.0</td>\n",
       "      <td>0.0</td>\n",
       "      <td>0.0</td>\n",
       "      <td>0.0</td>\n",
       "      <td>0.0</td>\n",
       "      <td>0.0</td>\n",
       "      <td>...</td>\n",
       "      <td>0.0</td>\n",
       "      <td>0.0</td>\n",
       "      <td>0.0</td>\n",
       "      <td>0.0</td>\n",
       "      <td>0.0</td>\n",
       "      <td>0.0</td>\n",
       "      <td>0.0</td>\n",
       "      <td>4</td>\n",
       "      <td>0</td>\n",
       "      <td>0</td>\n",
       "    </tr>\n",
       "    <tr>\n",
       "      <th>24594</th>\n",
       "      <td>0.0</td>\n",
       "      <td>0.0</td>\n",
       "      <td>1.0</td>\n",
       "      <td>0.0</td>\n",
       "      <td>0.0</td>\n",
       "      <td>0.0</td>\n",
       "      <td>0.0</td>\n",
       "      <td>0.0</td>\n",
       "      <td>0.0</td>\n",
       "      <td>0.0</td>\n",
       "      <td>...</td>\n",
       "      <td>0.0</td>\n",
       "      <td>0.0</td>\n",
       "      <td>0.0</td>\n",
       "      <td>0.0</td>\n",
       "      <td>0.0</td>\n",
       "      <td>0.0</td>\n",
       "      <td>0.0</td>\n",
       "      <td>2</td>\n",
       "      <td>0</td>\n",
       "      <td>0</td>\n",
       "    </tr>\n",
       "    <tr>\n",
       "      <th>24267</th>\n",
       "      <td>0.0</td>\n",
       "      <td>0.0</td>\n",
       "      <td>1.0</td>\n",
       "      <td>0.0</td>\n",
       "      <td>0.0</td>\n",
       "      <td>0.0</td>\n",
       "      <td>0.0</td>\n",
       "      <td>0.0</td>\n",
       "      <td>0.0</td>\n",
       "      <td>0.0</td>\n",
       "      <td>...</td>\n",
       "      <td>0.0</td>\n",
       "      <td>1.0</td>\n",
       "      <td>0.0</td>\n",
       "      <td>0.0</td>\n",
       "      <td>0.0</td>\n",
       "      <td>0.0</td>\n",
       "      <td>0.0</td>\n",
       "      <td>11</td>\n",
       "      <td>0</td>\n",
       "      <td>0</td>\n",
       "    </tr>\n",
       "  </tbody>\n",
       "</table>\n",
       "<p>5 rows × 31 columns</p>\n",
       "</div>"
      ],
      "text/plain": [
       "       party_sobriety_had been drinking, not under influence  \\\n",
       "58333                                                0.0       \n",
       "86939                                                0.0       \n",
       "88725                                                0.0       \n",
       "24594                                                0.0       \n",
       "24267                                                0.0       \n",
       "\n",
       "       party_sobriety_had been drinking, under influence  \\\n",
       "58333                                                0.0   \n",
       "86939                                                0.0   \n",
       "88725                                                1.0   \n",
       "24594                                                0.0   \n",
       "24267                                                0.0   \n",
       "\n",
       "       party_sobriety_had not been drinking  \\\n",
       "58333                                   1.0   \n",
       "86939                                   1.0   \n",
       "88725                                   0.0   \n",
       "24594                                   1.0   \n",
       "24267                                   1.0   \n",
       "\n",
       "       party_sobriety_impairment unknown  party_sobriety_not applicable  \\\n",
       "58333                                0.0                            0.0   \n",
       "86939                                0.0                            0.0   \n",
       "88725                                0.0                            0.0   \n",
       "24594                                0.0                            0.0   \n",
       "24267                                0.0                            0.0   \n",
       "\n",
       "       road_surface_slippery  road_surface_snowy  road_surface_wet  \\\n",
       "58333                    0.0                 0.0               0.0   \n",
       "86939                    0.0                 0.0               0.0   \n",
       "88725                    0.0                 0.0               0.0   \n",
       "24594                    0.0                 0.0               0.0   \n",
       "24267                    0.0                 0.0               0.0   \n",
       "\n",
       "       road_condition_1_flooded  road_condition_1_holes  ...  \\\n",
       "58333                       0.0                     0.0  ...   \n",
       "86939                       0.0                     0.0  ...   \n",
       "88725                       0.0                     0.0  ...   \n",
       "24594                       0.0                     0.0  ...   \n",
       "24267                       0.0                     0.0  ...   \n",
       "\n",
       "       control_device_obscured  weather_1_cloudy  weather_1_fog  \\\n",
       "58333                      0.0               0.0            0.0   \n",
       "86939                      0.0               0.0            0.0   \n",
       "88725                      0.0               0.0            0.0   \n",
       "24594                      0.0               0.0            0.0   \n",
       "24267                      0.0               1.0            0.0   \n",
       "\n",
       "       weather_1_other  weather_1_raining  weather_1_snowing  weather_1_wind  \\\n",
       "58333              0.0                0.0                0.0             0.0   \n",
       "86939              0.0                0.0                0.0             0.0   \n",
       "88725              0.0                0.0                0.0             0.0   \n",
       "24594              0.0                0.0                0.0             0.0   \n",
       "24267              0.0                0.0                0.0             0.0   \n",
       "\n",
       "       vehicle_age  intersection  cellphone_in_use  \n",
       "58333            8             0                 0  \n",
       "86939            3             0                 0  \n",
       "88725            4             0                 0  \n",
       "24594            2             0                 0  \n",
       "24267           11             0                 0  \n",
       "\n",
       "[5 rows x 31 columns]"
      ]
     },
     "execution_count": 33,
     "metadata": {},
     "output_type": "execute_result"
    }
   ],
   "source": [
    "# OneHotEncoder обучающая выборка\n",
    "features_train = df_train.drop(['at_fault'], axis=1)\n",
    "target_train = df_train['at_fault']\n",
    "\n",
    "onehot_encoder = OneHotEncoder(sparse=False, drop='first')\n",
    "\n",
    "result_train = onehot_encoder.fit_transform(features_train[categories])\n",
    "result_train = pd.DataFrame(result_train, columns=onehot_encoder.get_feature_names(categories),\\\n",
    "                                                                        index=features_train.index)\n",
    "features_train = result_train.join(features_train[numerics])\n",
    "features_train.head()"
   ]
  },
  {
   "cell_type": "code",
   "execution_count": 34,
   "id": "389c23bf",
   "metadata": {},
   "outputs": [
    {
     "data": {
      "text/html": [
       "<div>\n",
       "<style scoped>\n",
       "    .dataframe tbody tr th:only-of-type {\n",
       "        vertical-align: middle;\n",
       "    }\n",
       "\n",
       "    .dataframe tbody tr th {\n",
       "        vertical-align: top;\n",
       "    }\n",
       "\n",
       "    .dataframe thead th {\n",
       "        text-align: right;\n",
       "    }\n",
       "</style>\n",
       "<table border=\"1\" class=\"dataframe\">\n",
       "  <thead>\n",
       "    <tr style=\"text-align: right;\">\n",
       "      <th></th>\n",
       "      <th>party_sobriety_had been drinking, not under influence</th>\n",
       "      <th>party_sobriety_had been drinking, under influence</th>\n",
       "      <th>party_sobriety_had not been drinking</th>\n",
       "      <th>party_sobriety_impairment unknown</th>\n",
       "      <th>party_sobriety_not applicable</th>\n",
       "      <th>road_surface_slippery</th>\n",
       "      <th>road_surface_snowy</th>\n",
       "      <th>road_surface_wet</th>\n",
       "      <th>road_condition_1_flooded</th>\n",
       "      <th>road_condition_1_holes</th>\n",
       "      <th>...</th>\n",
       "      <th>control_device_obscured</th>\n",
       "      <th>weather_1_cloudy</th>\n",
       "      <th>weather_1_fog</th>\n",
       "      <th>weather_1_other</th>\n",
       "      <th>weather_1_raining</th>\n",
       "      <th>weather_1_snowing</th>\n",
       "      <th>weather_1_wind</th>\n",
       "      <th>vehicle_age</th>\n",
       "      <th>intersection</th>\n",
       "      <th>cellphone_in_use</th>\n",
       "    </tr>\n",
       "  </thead>\n",
       "  <tbody>\n",
       "    <tr>\n",
       "      <th>41776</th>\n",
       "      <td>0.0</td>\n",
       "      <td>0.0</td>\n",
       "      <td>1.0</td>\n",
       "      <td>0.0</td>\n",
       "      <td>0.0</td>\n",
       "      <td>0.0</td>\n",
       "      <td>0.0</td>\n",
       "      <td>0.0</td>\n",
       "      <td>0.0</td>\n",
       "      <td>0.0</td>\n",
       "      <td>...</td>\n",
       "      <td>0.0</td>\n",
       "      <td>0.0</td>\n",
       "      <td>0.0</td>\n",
       "      <td>0.0</td>\n",
       "      <td>0.0</td>\n",
       "      <td>0.0</td>\n",
       "      <td>0.0</td>\n",
       "      <td>13</td>\n",
       "      <td>1</td>\n",
       "      <td>0</td>\n",
       "    </tr>\n",
       "    <tr>\n",
       "      <th>31706</th>\n",
       "      <td>0.0</td>\n",
       "      <td>0.0</td>\n",
       "      <td>1.0</td>\n",
       "      <td>0.0</td>\n",
       "      <td>0.0</td>\n",
       "      <td>0.0</td>\n",
       "      <td>0.0</td>\n",
       "      <td>0.0</td>\n",
       "      <td>0.0</td>\n",
       "      <td>0.0</td>\n",
       "      <td>...</td>\n",
       "      <td>0.0</td>\n",
       "      <td>0.0</td>\n",
       "      <td>0.0</td>\n",
       "      <td>0.0</td>\n",
       "      <td>0.0</td>\n",
       "      <td>0.0</td>\n",
       "      <td>0.0</td>\n",
       "      <td>3</td>\n",
       "      <td>0</td>\n",
       "      <td>0</td>\n",
       "    </tr>\n",
       "    <tr>\n",
       "      <th>7283</th>\n",
       "      <td>0.0</td>\n",
       "      <td>0.0</td>\n",
       "      <td>1.0</td>\n",
       "      <td>0.0</td>\n",
       "      <td>0.0</td>\n",
       "      <td>0.0</td>\n",
       "      <td>0.0</td>\n",
       "      <td>0.0</td>\n",
       "      <td>0.0</td>\n",
       "      <td>0.0</td>\n",
       "      <td>...</td>\n",
       "      <td>0.0</td>\n",
       "      <td>0.0</td>\n",
       "      <td>0.0</td>\n",
       "      <td>0.0</td>\n",
       "      <td>0.0</td>\n",
       "      <td>0.0</td>\n",
       "      <td>0.0</td>\n",
       "      <td>4</td>\n",
       "      <td>1</td>\n",
       "      <td>0</td>\n",
       "    </tr>\n",
       "    <tr>\n",
       "      <th>77879</th>\n",
       "      <td>0.0</td>\n",
       "      <td>0.0</td>\n",
       "      <td>1.0</td>\n",
       "      <td>0.0</td>\n",
       "      <td>0.0</td>\n",
       "      <td>0.0</td>\n",
       "      <td>0.0</td>\n",
       "      <td>0.0</td>\n",
       "      <td>0.0</td>\n",
       "      <td>0.0</td>\n",
       "      <td>...</td>\n",
       "      <td>0.0</td>\n",
       "      <td>0.0</td>\n",
       "      <td>0.0</td>\n",
       "      <td>0.0</td>\n",
       "      <td>0.0</td>\n",
       "      <td>0.0</td>\n",
       "      <td>0.0</td>\n",
       "      <td>2</td>\n",
       "      <td>0</td>\n",
       "      <td>0</td>\n",
       "    </tr>\n",
       "    <tr>\n",
       "      <th>53939</th>\n",
       "      <td>0.0</td>\n",
       "      <td>0.0</td>\n",
       "      <td>1.0</td>\n",
       "      <td>0.0</td>\n",
       "      <td>0.0</td>\n",
       "      <td>0.0</td>\n",
       "      <td>0.0</td>\n",
       "      <td>1.0</td>\n",
       "      <td>0.0</td>\n",
       "      <td>0.0</td>\n",
       "      <td>...</td>\n",
       "      <td>0.0</td>\n",
       "      <td>0.0</td>\n",
       "      <td>0.0</td>\n",
       "      <td>0.0</td>\n",
       "      <td>1.0</td>\n",
       "      <td>0.0</td>\n",
       "      <td>0.0</td>\n",
       "      <td>4</td>\n",
       "      <td>1</td>\n",
       "      <td>0</td>\n",
       "    </tr>\n",
       "  </tbody>\n",
       "</table>\n",
       "<p>5 rows × 31 columns</p>\n",
       "</div>"
      ],
      "text/plain": [
       "       party_sobriety_had been drinking, not under influence  \\\n",
       "41776                                                0.0       \n",
       "31706                                                0.0       \n",
       "7283                                                 0.0       \n",
       "77879                                                0.0       \n",
       "53939                                                0.0       \n",
       "\n",
       "       party_sobriety_had been drinking, under influence  \\\n",
       "41776                                                0.0   \n",
       "31706                                                0.0   \n",
       "7283                                                 0.0   \n",
       "77879                                                0.0   \n",
       "53939                                                0.0   \n",
       "\n",
       "       party_sobriety_had not been drinking  \\\n",
       "41776                                   1.0   \n",
       "31706                                   1.0   \n",
       "7283                                    1.0   \n",
       "77879                                   1.0   \n",
       "53939                                   1.0   \n",
       "\n",
       "       party_sobriety_impairment unknown  party_sobriety_not applicable  \\\n",
       "41776                                0.0                            0.0   \n",
       "31706                                0.0                            0.0   \n",
       "7283                                 0.0                            0.0   \n",
       "77879                                0.0                            0.0   \n",
       "53939                                0.0                            0.0   \n",
       "\n",
       "       road_surface_slippery  road_surface_snowy  road_surface_wet  \\\n",
       "41776                    0.0                 0.0               0.0   \n",
       "31706                    0.0                 0.0               0.0   \n",
       "7283                     0.0                 0.0               0.0   \n",
       "77879                    0.0                 0.0               0.0   \n",
       "53939                    0.0                 0.0               1.0   \n",
       "\n",
       "       road_condition_1_flooded  road_condition_1_holes  ...  \\\n",
       "41776                       0.0                     0.0  ...   \n",
       "31706                       0.0                     0.0  ...   \n",
       "7283                        0.0                     0.0  ...   \n",
       "77879                       0.0                     0.0  ...   \n",
       "53939                       0.0                     0.0  ...   \n",
       "\n",
       "       control_device_obscured  weather_1_cloudy  weather_1_fog  \\\n",
       "41776                      0.0               0.0            0.0   \n",
       "31706                      0.0               0.0            0.0   \n",
       "7283                       0.0               0.0            0.0   \n",
       "77879                      0.0               0.0            0.0   \n",
       "53939                      0.0               0.0            0.0   \n",
       "\n",
       "       weather_1_other  weather_1_raining  weather_1_snowing  weather_1_wind  \\\n",
       "41776              0.0                0.0                0.0             0.0   \n",
       "31706              0.0                0.0                0.0             0.0   \n",
       "7283               0.0                0.0                0.0             0.0   \n",
       "77879              0.0                0.0                0.0             0.0   \n",
       "53939              0.0                1.0                0.0             0.0   \n",
       "\n",
       "       vehicle_age  intersection  cellphone_in_use  \n",
       "41776           13             1                 0  \n",
       "31706            3             0                 0  \n",
       "7283             4             1                 0  \n",
       "77879            2             0                 0  \n",
       "53939            4             1                 0  \n",
       "\n",
       "[5 rows x 31 columns]"
      ]
     },
     "execution_count": 34,
     "metadata": {},
     "output_type": "execute_result"
    }
   ],
   "source": [
    "# тестовая\n",
    "features_test = df_test.drop(['at_fault'], axis=1)\n",
    "target_test = df_test['at_fault']\n",
    "\n",
    "result_test = onehot_encoder.transform(features_test[categories])\n",
    "result_test = pd.DataFrame(result_test, columns=onehot_encoder.get_feature_names(categories),\\\n",
    "                                                                        index=features_test.index)\n",
    "features_test = result_test.join(features_test[numerics])\n",
    "features_test.head()"
   ]
  },
  {
   "cell_type": "code",
   "execution_count": 35,
   "id": "01ffedf4",
   "metadata": {},
   "outputs": [],
   "source": [
    "scaler = StandardScaler()\n",
    "scaler.fit(features_train[numerics])\n",
    "features_train[numerics] = scaler.transform(features_train[numerics])\n",
    "features_test[numerics] = scaler.transform(features_test[numerics])"
   ]
  },
  {
   "cell_type": "code",
   "execution_count": 36,
   "id": "0e69b4be",
   "metadata": {},
   "outputs": [
    {
     "data": {
      "text/html": [
       "<div>\n",
       "<style scoped>\n",
       "    .dataframe tbody tr th:only-of-type {\n",
       "        vertical-align: middle;\n",
       "    }\n",
       "\n",
       "    .dataframe tbody tr th {\n",
       "        vertical-align: top;\n",
       "    }\n",
       "\n",
       "    .dataframe thead th {\n",
       "        text-align: right;\n",
       "    }\n",
       "</style>\n",
       "<table border=\"1\" class=\"dataframe\">\n",
       "  <thead>\n",
       "    <tr style=\"text-align: right;\">\n",
       "      <th></th>\n",
       "      <th>vehicle_age</th>\n",
       "      <th>intersection</th>\n",
       "      <th>cellphone_in_use</th>\n",
       "    </tr>\n",
       "  </thead>\n",
       "  <tbody>\n",
       "    <tr>\n",
       "      <th>58333</th>\n",
       "      <td>0.958587</td>\n",
       "      <td>-0.560857</td>\n",
       "      <td>-0.139857</td>\n",
       "    </tr>\n",
       "    <tr>\n",
       "      <th>86939</th>\n",
       "      <td>-0.577916</td>\n",
       "      <td>-0.560857</td>\n",
       "      <td>-0.139857</td>\n",
       "    </tr>\n",
       "    <tr>\n",
       "      <th>88725</th>\n",
       "      <td>-0.270616</td>\n",
       "      <td>-0.560857</td>\n",
       "      <td>-0.139857</td>\n",
       "    </tr>\n",
       "    <tr>\n",
       "      <th>24594</th>\n",
       "      <td>-0.885217</td>\n",
       "      <td>-0.560857</td>\n",
       "      <td>-0.139857</td>\n",
       "    </tr>\n",
       "    <tr>\n",
       "      <th>24267</th>\n",
       "      <td>1.880488</td>\n",
       "      <td>-0.560857</td>\n",
       "      <td>-0.139857</td>\n",
       "    </tr>\n",
       "    <tr>\n",
       "      <th>...</th>\n",
       "      <td>...</td>\n",
       "      <td>...</td>\n",
       "      <td>...</td>\n",
       "    </tr>\n",
       "    <tr>\n",
       "      <th>4222</th>\n",
       "      <td>1.880488</td>\n",
       "      <td>-0.560857</td>\n",
       "      <td>-0.139857</td>\n",
       "    </tr>\n",
       "    <tr>\n",
       "      <th>88132</th>\n",
       "      <td>0.651286</td>\n",
       "      <td>-0.560857</td>\n",
       "      <td>-0.139857</td>\n",
       "    </tr>\n",
       "    <tr>\n",
       "      <th>2256</th>\n",
       "      <td>-0.577916</td>\n",
       "      <td>-0.560857</td>\n",
       "      <td>-0.139857</td>\n",
       "    </tr>\n",
       "    <tr>\n",
       "      <th>79712</th>\n",
       "      <td>-0.577916</td>\n",
       "      <td>1.782986</td>\n",
       "      <td>-0.139857</td>\n",
       "    </tr>\n",
       "    <tr>\n",
       "      <th>89261</th>\n",
       "      <td>-0.270616</td>\n",
       "      <td>1.782986</td>\n",
       "      <td>-0.139857</td>\n",
       "    </tr>\n",
       "  </tbody>\n",
       "</table>\n",
       "<p>78708 rows × 3 columns</p>\n",
       "</div>"
      ],
      "text/plain": [
       "       vehicle_age  intersection  cellphone_in_use\n",
       "58333     0.958587     -0.560857         -0.139857\n",
       "86939    -0.577916     -0.560857         -0.139857\n",
       "88725    -0.270616     -0.560857         -0.139857\n",
       "24594    -0.885217     -0.560857         -0.139857\n",
       "24267     1.880488     -0.560857         -0.139857\n",
       "...            ...           ...               ...\n",
       "4222      1.880488     -0.560857         -0.139857\n",
       "88132     0.651286     -0.560857         -0.139857\n",
       "2256     -0.577916     -0.560857         -0.139857\n",
       "79712    -0.577916      1.782986         -0.139857\n",
       "89261    -0.270616      1.782986         -0.139857\n",
       "\n",
       "[78708 rows x 3 columns]"
      ]
     },
     "execution_count": 36,
     "metadata": {},
     "output_type": "execute_result"
    }
   ],
   "source": [
    "features_train[numerics]"
   ]
  },
  {
   "cell_type": "code",
   "execution_count": 37,
   "id": "0b21ec7b",
   "metadata": {
    "scrolled": true
   },
   "outputs": [
    {
     "data": {
      "text/html": [
       "<div>\n",
       "<style scoped>\n",
       "    .dataframe tbody tr th:only-of-type {\n",
       "        vertical-align: middle;\n",
       "    }\n",
       "\n",
       "    .dataframe tbody tr th {\n",
       "        vertical-align: top;\n",
       "    }\n",
       "\n",
       "    .dataframe thead th {\n",
       "        text-align: right;\n",
       "    }\n",
       "</style>\n",
       "<table border=\"1\" class=\"dataframe\">\n",
       "  <thead>\n",
       "    <tr style=\"text-align: right;\">\n",
       "      <th></th>\n",
       "      <th>party_sobriety_had been drinking, not under influence</th>\n",
       "      <th>party_sobriety_had been drinking, under influence</th>\n",
       "      <th>party_sobriety_had not been drinking</th>\n",
       "      <th>party_sobriety_impairment unknown</th>\n",
       "      <th>party_sobriety_not applicable</th>\n",
       "      <th>road_surface_slippery</th>\n",
       "      <th>road_surface_snowy</th>\n",
       "      <th>road_surface_wet</th>\n",
       "      <th>road_condition_1_flooded</th>\n",
       "      <th>road_condition_1_holes</th>\n",
       "      <th>...</th>\n",
       "      <th>control_device_obscured</th>\n",
       "      <th>weather_1_cloudy</th>\n",
       "      <th>weather_1_fog</th>\n",
       "      <th>weather_1_other</th>\n",
       "      <th>weather_1_raining</th>\n",
       "      <th>weather_1_snowing</th>\n",
       "      <th>weather_1_wind</th>\n",
       "      <th>vehicle_age</th>\n",
       "      <th>intersection</th>\n",
       "      <th>cellphone_in_use</th>\n",
       "    </tr>\n",
       "  </thead>\n",
       "  <tbody>\n",
       "    <tr>\n",
       "      <th>58333</th>\n",
       "      <td>0.0</td>\n",
       "      <td>0.0</td>\n",
       "      <td>1.0</td>\n",
       "      <td>0.0</td>\n",
       "      <td>0.0</td>\n",
       "      <td>0.0</td>\n",
       "      <td>0.0</td>\n",
       "      <td>0.0</td>\n",
       "      <td>0.0</td>\n",
       "      <td>0.0</td>\n",
       "      <td>...</td>\n",
       "      <td>0.0</td>\n",
       "      <td>0.0</td>\n",
       "      <td>0.0</td>\n",
       "      <td>0.0</td>\n",
       "      <td>0.0</td>\n",
       "      <td>0.0</td>\n",
       "      <td>0.0</td>\n",
       "      <td>0.958587</td>\n",
       "      <td>-0.560857</td>\n",
       "      <td>-0.139857</td>\n",
       "    </tr>\n",
       "    <tr>\n",
       "      <th>86939</th>\n",
       "      <td>0.0</td>\n",
       "      <td>0.0</td>\n",
       "      <td>1.0</td>\n",
       "      <td>0.0</td>\n",
       "      <td>0.0</td>\n",
       "      <td>0.0</td>\n",
       "      <td>0.0</td>\n",
       "      <td>0.0</td>\n",
       "      <td>0.0</td>\n",
       "      <td>0.0</td>\n",
       "      <td>...</td>\n",
       "      <td>0.0</td>\n",
       "      <td>0.0</td>\n",
       "      <td>0.0</td>\n",
       "      <td>0.0</td>\n",
       "      <td>0.0</td>\n",
       "      <td>0.0</td>\n",
       "      <td>0.0</td>\n",
       "      <td>-0.577916</td>\n",
       "      <td>-0.560857</td>\n",
       "      <td>-0.139857</td>\n",
       "    </tr>\n",
       "    <tr>\n",
       "      <th>88725</th>\n",
       "      <td>0.0</td>\n",
       "      <td>1.0</td>\n",
       "      <td>0.0</td>\n",
       "      <td>0.0</td>\n",
       "      <td>0.0</td>\n",
       "      <td>0.0</td>\n",
       "      <td>0.0</td>\n",
       "      <td>0.0</td>\n",
       "      <td>0.0</td>\n",
       "      <td>0.0</td>\n",
       "      <td>...</td>\n",
       "      <td>0.0</td>\n",
       "      <td>0.0</td>\n",
       "      <td>0.0</td>\n",
       "      <td>0.0</td>\n",
       "      <td>0.0</td>\n",
       "      <td>0.0</td>\n",
       "      <td>0.0</td>\n",
       "      <td>-0.270616</td>\n",
       "      <td>-0.560857</td>\n",
       "      <td>-0.139857</td>\n",
       "    </tr>\n",
       "    <tr>\n",
       "      <th>24594</th>\n",
       "      <td>0.0</td>\n",
       "      <td>0.0</td>\n",
       "      <td>1.0</td>\n",
       "      <td>0.0</td>\n",
       "      <td>0.0</td>\n",
       "      <td>0.0</td>\n",
       "      <td>0.0</td>\n",
       "      <td>0.0</td>\n",
       "      <td>0.0</td>\n",
       "      <td>0.0</td>\n",
       "      <td>...</td>\n",
       "      <td>0.0</td>\n",
       "      <td>0.0</td>\n",
       "      <td>0.0</td>\n",
       "      <td>0.0</td>\n",
       "      <td>0.0</td>\n",
       "      <td>0.0</td>\n",
       "      <td>0.0</td>\n",
       "      <td>-0.885217</td>\n",
       "      <td>-0.560857</td>\n",
       "      <td>-0.139857</td>\n",
       "    </tr>\n",
       "    <tr>\n",
       "      <th>24267</th>\n",
       "      <td>0.0</td>\n",
       "      <td>0.0</td>\n",
       "      <td>1.0</td>\n",
       "      <td>0.0</td>\n",
       "      <td>0.0</td>\n",
       "      <td>0.0</td>\n",
       "      <td>0.0</td>\n",
       "      <td>0.0</td>\n",
       "      <td>0.0</td>\n",
       "      <td>0.0</td>\n",
       "      <td>...</td>\n",
       "      <td>0.0</td>\n",
       "      <td>1.0</td>\n",
       "      <td>0.0</td>\n",
       "      <td>0.0</td>\n",
       "      <td>0.0</td>\n",
       "      <td>0.0</td>\n",
       "      <td>0.0</td>\n",
       "      <td>1.880488</td>\n",
       "      <td>-0.560857</td>\n",
       "      <td>-0.139857</td>\n",
       "    </tr>\n",
       "    <tr>\n",
       "      <th>...</th>\n",
       "      <td>...</td>\n",
       "      <td>...</td>\n",
       "      <td>...</td>\n",
       "      <td>...</td>\n",
       "      <td>...</td>\n",
       "      <td>...</td>\n",
       "      <td>...</td>\n",
       "      <td>...</td>\n",
       "      <td>...</td>\n",
       "      <td>...</td>\n",
       "      <td>...</td>\n",
       "      <td>...</td>\n",
       "      <td>...</td>\n",
       "      <td>...</td>\n",
       "      <td>...</td>\n",
       "      <td>...</td>\n",
       "      <td>...</td>\n",
       "      <td>...</td>\n",
       "      <td>...</td>\n",
       "      <td>...</td>\n",
       "      <td>...</td>\n",
       "    </tr>\n",
       "    <tr>\n",
       "      <th>4222</th>\n",
       "      <td>0.0</td>\n",
       "      <td>0.0</td>\n",
       "      <td>1.0</td>\n",
       "      <td>0.0</td>\n",
       "      <td>0.0</td>\n",
       "      <td>0.0</td>\n",
       "      <td>0.0</td>\n",
       "      <td>1.0</td>\n",
       "      <td>0.0</td>\n",
       "      <td>0.0</td>\n",
       "      <td>...</td>\n",
       "      <td>0.0</td>\n",
       "      <td>0.0</td>\n",
       "      <td>0.0</td>\n",
       "      <td>0.0</td>\n",
       "      <td>1.0</td>\n",
       "      <td>0.0</td>\n",
       "      <td>0.0</td>\n",
       "      <td>1.880488</td>\n",
       "      <td>-0.560857</td>\n",
       "      <td>-0.139857</td>\n",
       "    </tr>\n",
       "    <tr>\n",
       "      <th>88132</th>\n",
       "      <td>0.0</td>\n",
       "      <td>0.0</td>\n",
       "      <td>0.0</td>\n",
       "      <td>1.0</td>\n",
       "      <td>0.0</td>\n",
       "      <td>0.0</td>\n",
       "      <td>0.0</td>\n",
       "      <td>0.0</td>\n",
       "      <td>0.0</td>\n",
       "      <td>0.0</td>\n",
       "      <td>...</td>\n",
       "      <td>0.0</td>\n",
       "      <td>0.0</td>\n",
       "      <td>0.0</td>\n",
       "      <td>0.0</td>\n",
       "      <td>0.0</td>\n",
       "      <td>0.0</td>\n",
       "      <td>0.0</td>\n",
       "      <td>0.651286</td>\n",
       "      <td>-0.560857</td>\n",
       "      <td>-0.139857</td>\n",
       "    </tr>\n",
       "    <tr>\n",
       "      <th>2256</th>\n",
       "      <td>0.0</td>\n",
       "      <td>0.0</td>\n",
       "      <td>1.0</td>\n",
       "      <td>0.0</td>\n",
       "      <td>0.0</td>\n",
       "      <td>0.0</td>\n",
       "      <td>0.0</td>\n",
       "      <td>0.0</td>\n",
       "      <td>0.0</td>\n",
       "      <td>0.0</td>\n",
       "      <td>...</td>\n",
       "      <td>0.0</td>\n",
       "      <td>0.0</td>\n",
       "      <td>0.0</td>\n",
       "      <td>0.0</td>\n",
       "      <td>0.0</td>\n",
       "      <td>0.0</td>\n",
       "      <td>0.0</td>\n",
       "      <td>-0.577916</td>\n",
       "      <td>-0.560857</td>\n",
       "      <td>-0.139857</td>\n",
       "    </tr>\n",
       "    <tr>\n",
       "      <th>79712</th>\n",
       "      <td>0.0</td>\n",
       "      <td>0.0</td>\n",
       "      <td>1.0</td>\n",
       "      <td>0.0</td>\n",
       "      <td>0.0</td>\n",
       "      <td>0.0</td>\n",
       "      <td>0.0</td>\n",
       "      <td>0.0</td>\n",
       "      <td>0.0</td>\n",
       "      <td>0.0</td>\n",
       "      <td>...</td>\n",
       "      <td>0.0</td>\n",
       "      <td>0.0</td>\n",
       "      <td>0.0</td>\n",
       "      <td>0.0</td>\n",
       "      <td>0.0</td>\n",
       "      <td>0.0</td>\n",
       "      <td>0.0</td>\n",
       "      <td>-0.577916</td>\n",
       "      <td>1.782986</td>\n",
       "      <td>-0.139857</td>\n",
       "    </tr>\n",
       "    <tr>\n",
       "      <th>89261</th>\n",
       "      <td>0.0</td>\n",
       "      <td>0.0</td>\n",
       "      <td>1.0</td>\n",
       "      <td>0.0</td>\n",
       "      <td>0.0</td>\n",
       "      <td>0.0</td>\n",
       "      <td>0.0</td>\n",
       "      <td>0.0</td>\n",
       "      <td>0.0</td>\n",
       "      <td>0.0</td>\n",
       "      <td>...</td>\n",
       "      <td>0.0</td>\n",
       "      <td>0.0</td>\n",
       "      <td>0.0</td>\n",
       "      <td>0.0</td>\n",
       "      <td>0.0</td>\n",
       "      <td>0.0</td>\n",
       "      <td>0.0</td>\n",
       "      <td>-0.270616</td>\n",
       "      <td>1.782986</td>\n",
       "      <td>-0.139857</td>\n",
       "    </tr>\n",
       "  </tbody>\n",
       "</table>\n",
       "<p>78708 rows × 31 columns</p>\n",
       "</div>"
      ],
      "text/plain": [
       "       party_sobriety_had been drinking, not under influence  \\\n",
       "58333                                                0.0       \n",
       "86939                                                0.0       \n",
       "88725                                                0.0       \n",
       "24594                                                0.0       \n",
       "24267                                                0.0       \n",
       "...                                                  ...       \n",
       "4222                                                 0.0       \n",
       "88132                                                0.0       \n",
       "2256                                                 0.0       \n",
       "79712                                                0.0       \n",
       "89261                                                0.0       \n",
       "\n",
       "       party_sobriety_had been drinking, under influence  \\\n",
       "58333                                                0.0   \n",
       "86939                                                0.0   \n",
       "88725                                                1.0   \n",
       "24594                                                0.0   \n",
       "24267                                                0.0   \n",
       "...                                                  ...   \n",
       "4222                                                 0.0   \n",
       "88132                                                0.0   \n",
       "2256                                                 0.0   \n",
       "79712                                                0.0   \n",
       "89261                                                0.0   \n",
       "\n",
       "       party_sobriety_had not been drinking  \\\n",
       "58333                                   1.0   \n",
       "86939                                   1.0   \n",
       "88725                                   0.0   \n",
       "24594                                   1.0   \n",
       "24267                                   1.0   \n",
       "...                                     ...   \n",
       "4222                                    1.0   \n",
       "88132                                   0.0   \n",
       "2256                                    1.0   \n",
       "79712                                   1.0   \n",
       "89261                                   1.0   \n",
       "\n",
       "       party_sobriety_impairment unknown  party_sobriety_not applicable  \\\n",
       "58333                                0.0                            0.0   \n",
       "86939                                0.0                            0.0   \n",
       "88725                                0.0                            0.0   \n",
       "24594                                0.0                            0.0   \n",
       "24267                                0.0                            0.0   \n",
       "...                                  ...                            ...   \n",
       "4222                                 0.0                            0.0   \n",
       "88132                                1.0                            0.0   \n",
       "2256                                 0.0                            0.0   \n",
       "79712                                0.0                            0.0   \n",
       "89261                                0.0                            0.0   \n",
       "\n",
       "       road_surface_slippery  road_surface_snowy  road_surface_wet  \\\n",
       "58333                    0.0                 0.0               0.0   \n",
       "86939                    0.0                 0.0               0.0   \n",
       "88725                    0.0                 0.0               0.0   \n",
       "24594                    0.0                 0.0               0.0   \n",
       "24267                    0.0                 0.0               0.0   \n",
       "...                      ...                 ...               ...   \n",
       "4222                     0.0                 0.0               1.0   \n",
       "88132                    0.0                 0.0               0.0   \n",
       "2256                     0.0                 0.0               0.0   \n",
       "79712                    0.0                 0.0               0.0   \n",
       "89261                    0.0                 0.0               0.0   \n",
       "\n",
       "       road_condition_1_flooded  road_condition_1_holes  ...  \\\n",
       "58333                       0.0                     0.0  ...   \n",
       "86939                       0.0                     0.0  ...   \n",
       "88725                       0.0                     0.0  ...   \n",
       "24594                       0.0                     0.0  ...   \n",
       "24267                       0.0                     0.0  ...   \n",
       "...                         ...                     ...  ...   \n",
       "4222                        0.0                     0.0  ...   \n",
       "88132                       0.0                     0.0  ...   \n",
       "2256                        0.0                     0.0  ...   \n",
       "79712                       0.0                     0.0  ...   \n",
       "89261                       0.0                     0.0  ...   \n",
       "\n",
       "       control_device_obscured  weather_1_cloudy  weather_1_fog  \\\n",
       "58333                      0.0               0.0            0.0   \n",
       "86939                      0.0               0.0            0.0   \n",
       "88725                      0.0               0.0            0.0   \n",
       "24594                      0.0               0.0            0.0   \n",
       "24267                      0.0               1.0            0.0   \n",
       "...                        ...               ...            ...   \n",
       "4222                       0.0               0.0            0.0   \n",
       "88132                      0.0               0.0            0.0   \n",
       "2256                       0.0               0.0            0.0   \n",
       "79712                      0.0               0.0            0.0   \n",
       "89261                      0.0               0.0            0.0   \n",
       "\n",
       "       weather_1_other  weather_1_raining  weather_1_snowing  weather_1_wind  \\\n",
       "58333              0.0                0.0                0.0             0.0   \n",
       "86939              0.0                0.0                0.0             0.0   \n",
       "88725              0.0                0.0                0.0             0.0   \n",
       "24594              0.0                0.0                0.0             0.0   \n",
       "24267              0.0                0.0                0.0             0.0   \n",
       "...                ...                ...                ...             ...   \n",
       "4222               0.0                1.0                0.0             0.0   \n",
       "88132              0.0                0.0                0.0             0.0   \n",
       "2256               0.0                0.0                0.0             0.0   \n",
       "79712              0.0                0.0                0.0             0.0   \n",
       "89261              0.0                0.0                0.0             0.0   \n",
       "\n",
       "       vehicle_age  intersection  cellphone_in_use  \n",
       "58333     0.958587     -0.560857         -0.139857  \n",
       "86939    -0.577916     -0.560857         -0.139857  \n",
       "88725    -0.270616     -0.560857         -0.139857  \n",
       "24594    -0.885217     -0.560857         -0.139857  \n",
       "24267     1.880488     -0.560857         -0.139857  \n",
       "...            ...           ...               ...  \n",
       "4222      1.880488     -0.560857         -0.139857  \n",
       "88132     0.651286     -0.560857         -0.139857  \n",
       "2256     -0.577916     -0.560857         -0.139857  \n",
       "79712    -0.577916      1.782986         -0.139857  \n",
       "89261    -0.270616      1.782986         -0.139857  \n",
       "\n",
       "[78708 rows x 31 columns]"
      ]
     },
     "execution_count": 37,
     "metadata": {},
     "output_type": "execute_result"
    }
   ],
   "source": [
    "features_train"
   ]
  },
  {
   "cell_type": "markdown",
   "id": "f17e82c8",
   "metadata": {},
   "source": [
    "ВЫВОД:\n",
    "- Подготовили набор данных на основе первичного предположения заказчика.\n",
    "- Выберите тип виновника — только машина (car). \n",
    "- Возьмите случаи, когда ДТП привело к любым значимым повреждениям автомобиля любого из участников — все, кроме типа SCRATCH (царапина).\n",
    "- Для моделирования возьмите данные только за 2012 год.\n",
    "\n",
    "**В датасетах:**\n",
    "- пропуски обнаружены в столбце party_drug_physical, в нем отсутствовало более 90% данных, поэтому мы его удалили.\n",
    "- В категориальных значениях есть тоже небольшой процент пропусков, удалили их и заменили на медианные значения.\n",
    "- заменили типы данных в колонках 'vehicle_age','intersection','cellphone_in_use' на int\n",
    "- разделили датасет на 2 выборки (обучающая и валидационная)\n",
    "- Нормализовали входные данные"
   ]
  },
  {
   "cell_type": "markdown",
   "id": "b4b3cce9",
   "metadata": {},
   "source": [
    "## Проведите анализ важности факторов ДТП"
   ]
  },
  {
   "cell_type": "markdown",
   "id": "08cea847",
   "metadata": {},
   "source": [
    "Для нас важно чтобы наша модель предсказывала виновность участника, важна метрика Recall (is_canceled = 1, predictions = 0) и (is_canceled = 1, predictions = 1):\n",
    "\n",
    "**Будем использовать recall и roc_auc, так как на нее не влияет дисбаланс классов.**"
   ]
  },
  {
   "cell_type": "code",
   "execution_count": 38,
   "id": "0500641f",
   "metadata": {},
   "outputs": [
    {
     "data": {
      "text/plain": [
       "GridSearchCV(cv=5,\n",
       "             estimator=LogisticRegression(random_state=12345,\n",
       "                                          solver='liblinear'),\n",
       "             param_grid={'C': [0.5, 1, 1.5], 'class_weight': [None, 'balanced'],\n",
       "                         'intercept_scaling': [0.5, 1.0, 1.5]},\n",
       "             refit='recall', scoring=['roc_auc', 'recall'])"
      ]
     },
     "execution_count": 38,
     "metadata": {},
     "output_type": "execute_result"
    }
   ],
   "source": [
    "# Попробуем подобрать параметры для \n",
    "# Логистическая регрессия\n",
    "par_grid_logist = {\n",
    "                   'intercept_scaling': [0.5, 1.0, 1.5],\n",
    "                   'class_weight': [None, 'balanced'],\n",
    "                   'C': [0.5, 1, 1.5]\n",
    "                   }\n",
    "model_lg = LogisticRegression(solver='liblinear',random_state=12345)\n",
    "\n",
    "grid_search_LR = GridSearchCV(model_lg, par_grid_logist, cv=5,\n",
    "                           scoring=['roc_auc', 'recall'],\n",
    "                           refit='recall')\n",
    "grid_search_LR.fit(features_train , target_train)"
   ]
  },
  {
   "cell_type": "code",
   "execution_count": 39,
   "id": "b80983c3",
   "metadata": {},
   "outputs": [
    {
     "data": {
      "text/plain": [
       "{'C': 0.5, 'class_weight': None, 'intercept_scaling': 0.5}"
      ]
     },
     "execution_count": 39,
     "metadata": {},
     "output_type": "execute_result"
    }
   ],
   "source": [
    "grid_search_LR.best_params_"
   ]
  },
  {
   "cell_type": "code",
   "execution_count": 40,
   "id": "064db1b8",
   "metadata": {},
   "outputs": [
    {
     "name": "stdout",
     "output_type": "stream",
     "text": [
      "0.35048154176424806\n"
     ]
    }
   ],
   "source": [
    "print(grid_search_LR.best_score_)"
   ]
  },
  {
   "cell_type": "code",
   "execution_count": 41,
   "id": "c4638a51",
   "metadata": {},
   "outputs": [
    {
     "data": {
      "text/plain": [
       "{'mean_fit_time': array([0.3775197 , 0.41743989, 0.44056554, 0.42265472, 0.37683673,\n",
       "        0.44030848, 0.43499107, 0.42978358, 0.47567835, 0.40766535,\n",
       "        0.39431515, 0.4219769 , 0.38293571, 0.42356334, 0.56072774,\n",
       "        0.47785063, 0.39274206, 0.40014095]),\n",
       " 'std_fit_time': array([0.07414796, 0.03015833, 0.04902636, 0.01009315, 0.07034288,\n",
       "        0.01807259, 0.03460135, 0.05627229, 0.05026335, 0.04299509,\n",
       "        0.03084148, 0.04657491, 0.07003772, 0.0818922 , 0.09411635,\n",
       "        0.10828014, 0.04434162, 0.0630826 ]),\n",
       " 'mean_score_time': array([0.06409307, 0.07695327, 0.05743403, 0.0731029 , 0.08171787,\n",
       "        0.05563693, 0.06221328, 0.07469316, 0.10078874, 0.07048969,\n",
       "        0.12407002, 0.05590892, 0.09541812, 0.09906282, 0.08705091,\n",
       "        0.06571126, 0.10454245, 0.07816186]),\n",
       " 'std_score_time': array([0.00665745, 0.03035266, 0.02680271, 0.01000412, 0.03058767,\n",
       "        0.01931167, 0.02570479, 0.03464642, 0.02545141, 0.04605575,\n",
       "        0.03054445, 0.02116688, 0.04541713, 0.0355944 , 0.0474292 ,\n",
       "        0.0316372 , 0.0455169 , 0.03909013]),\n",
       " 'param_C': masked_array(data=[0.5, 0.5, 0.5, 0.5, 0.5, 0.5, 1, 1, 1, 1, 1, 1, 1.5,\n",
       "                    1.5, 1.5, 1.5, 1.5, 1.5],\n",
       "              mask=[False, False, False, False, False, False, False, False,\n",
       "                    False, False, False, False, False, False, False, False,\n",
       "                    False, False],\n",
       "        fill_value='?',\n",
       "             dtype=object),\n",
       " 'param_class_weight': masked_array(data=[None, None, None, 'balanced', 'balanced', 'balanced',\n",
       "                    None, None, None, 'balanced', 'balanced', 'balanced',\n",
       "                    None, None, None, 'balanced', 'balanced', 'balanced'],\n",
       "              mask=[False, False, False, False, False, False, False, False,\n",
       "                    False, False, False, False, False, False, False, False,\n",
       "                    False, False],\n",
       "        fill_value='?',\n",
       "             dtype=object),\n",
       " 'param_intercept_scaling': masked_array(data=[0.5, 1.0, 1.5, 0.5, 1.0, 1.5, 0.5, 1.0, 1.5, 0.5, 1.0,\n",
       "                    1.5, 0.5, 1.0, 1.5, 0.5, 1.0, 1.5],\n",
       "              mask=[False, False, False, False, False, False, False, False,\n",
       "                    False, False, False, False, False, False, False, False,\n",
       "                    False, False],\n",
       "        fill_value='?',\n",
       "             dtype=object),\n",
       " 'params': [{'C': 0.5, 'class_weight': None, 'intercept_scaling': 0.5},\n",
       "  {'C': 0.5, 'class_weight': None, 'intercept_scaling': 1.0},\n",
       "  {'C': 0.5, 'class_weight': None, 'intercept_scaling': 1.5},\n",
       "  {'C': 0.5, 'class_weight': 'balanced', 'intercept_scaling': 0.5},\n",
       "  {'C': 0.5, 'class_weight': 'balanced', 'intercept_scaling': 1.0},\n",
       "  {'C': 0.5, 'class_weight': 'balanced', 'intercept_scaling': 1.5},\n",
       "  {'C': 1, 'class_weight': None, 'intercept_scaling': 0.5},\n",
       "  {'C': 1, 'class_weight': None, 'intercept_scaling': 1.0},\n",
       "  {'C': 1, 'class_weight': None, 'intercept_scaling': 1.5},\n",
       "  {'C': 1, 'class_weight': 'balanced', 'intercept_scaling': 0.5},\n",
       "  {'C': 1, 'class_weight': 'balanced', 'intercept_scaling': 1.0},\n",
       "  {'C': 1, 'class_weight': 'balanced', 'intercept_scaling': 1.5},\n",
       "  {'C': 1.5, 'class_weight': None, 'intercept_scaling': 0.5},\n",
       "  {'C': 1.5, 'class_weight': None, 'intercept_scaling': 1.0},\n",
       "  {'C': 1.5, 'class_weight': None, 'intercept_scaling': 1.5},\n",
       "  {'C': 1.5, 'class_weight': 'balanced', 'intercept_scaling': 0.5},\n",
       "  {'C': 1.5, 'class_weight': 'balanced', 'intercept_scaling': 1.0},\n",
       "  {'C': 1.5, 'class_weight': 'balanced', 'intercept_scaling': 1.5}],\n",
       " 'split0_test_roc_auc': array([0.6216995 , 0.62148104, 0.62142701, 0.62165773, 0.62147577,\n",
       "        0.62140293, 0.62154451, 0.62134189, 0.62132293, 0.62154357,\n",
       "        0.6213372 , 0.62130047, 0.6215576 , 0.62139201, 0.62133036,\n",
       "        0.62151804, 0.62131707, 0.62131279]),\n",
       " 'split1_test_roc_auc': array([0.61096897, 0.61103524, 0.61110525, 0.61101824, 0.61101854,\n",
       "        0.61109676, 0.61107669, 0.61113411, 0.61116701, 0.61103897,\n",
       "        0.6111057 , 0.61113401, 0.61138034, 0.61144037, 0.61144499,\n",
       "        0.61133882, 0.61140042, 0.61140959]),\n",
       " 'split2_test_roc_auc': array([0.61967413, 0.61967602, 0.61965409, 0.61967701, 0.61965249,\n",
       "        0.61963437, 0.61966726, 0.61964049, 0.61962689, 0.61965478,\n",
       "        0.61963366, 0.61961539, 0.61966784, 0.6196319 , 0.61964018,\n",
       "        0.61967428, 0.6196205 , 0.6196162 ]),\n",
       " 'split3_test_roc_auc': array([0.61985421, 0.61982066, 0.61985232, 0.61983884, 0.61980082,\n",
       "        0.61983144, 0.61980934, 0.61981056, 0.6198401 , 0.61981331,\n",
       "        0.6198151 , 0.61985154, 0.61980959, 0.61982995, 0.61984556,\n",
       "        0.61982368, 0.61985247, 0.61986204]),\n",
       " 'split4_test_roc_auc': array([0.61263896, 0.61264837, 0.61265045, 0.61260117, 0.61263126,\n",
       "        0.61262189, 0.61252772, 0.61254711, 0.61253388, 0.61248715,\n",
       "        0.61250951, 0.61250123, 0.61252466, 0.61251636, 0.6125097 ,\n",
       "        0.61249221, 0.61247693, 0.61247156]),\n",
       " 'mean_test_roc_auc': array([0.61696715, 0.61693227, 0.61693782, 0.6169586 , 0.61691577,\n",
       "        0.61691748, 0.61692511, 0.61689483, 0.61689816, 0.61690756,\n",
       "        0.61688023, 0.61688053, 0.61698801, 0.61696212, 0.61695416,\n",
       "        0.61696941, 0.61693348, 0.61693444]),\n",
       " 'std_test_roc_auc': array([0.00430742, 0.0042353 , 0.00420537, 0.00429051, 0.00423653,\n",
       "        0.00420297, 0.00425953, 0.00419297, 0.00418504, 0.004277  ,\n",
       "        0.00420732, 0.00419626, 0.0041807 , 0.0041287 , 0.00411899,\n",
       "        0.0041929 , 0.00413357, 0.00413216]),\n",
       " 'rank_test_roc_auc': array([ 3, 10,  7,  5, 13, 12, 11, 16, 15, 14, 18, 17,  1,  4,  6,  2,  9,\n",
       "         8], dtype=int32),\n",
       " 'split0_test_recall': array([0.33325327, 0.33337336, 0.33337336, 0.27849165, 0.27849165,\n",
       "        0.27849165, 0.33349346, 0.33349346, 0.33073136, 0.27849165,\n",
       "        0.27849165, 0.27849165, 0.33361355, 0.33061126, 0.33061126,\n",
       "        0.27849165, 0.27849165, 0.27849165]),\n",
       " 'split1_test_recall': array([0.34221902, 0.3423391 , 0.34221902, 0.28302113, 0.28302113,\n",
       "        0.28302113, 0.3423391 , 0.34161864, 0.34113833, 0.28302113,\n",
       "        0.28302113, 0.28302113, 0.34161864, 0.34041787, 0.33933718,\n",
       "        0.28302113, 0.28302113, 0.28302113]),\n",
       " 'split2_test_recall': array([0.35878963, 0.35302594, 0.34714217, 0.28254083, 0.2826609 ,\n",
       "        0.2826609 , 0.35302594, 0.34714217, 0.34702209, 0.28278098,\n",
       "        0.28278098, 0.28278098, 0.35302594, 0.34702209, 0.34702209,\n",
       "        0.28278098, 0.28278098, 0.28278098]),\n",
       " 'split3_test_recall': array([0.33553501, 0.332893  , 0.332893  , 0.28245467, 0.28233457,\n",
       "        0.28233457, 0.332893  , 0.33025099, 0.3301309 , 0.28281494,\n",
       "        0.28257476, 0.28245467, 0.332893  , 0.3301309 , 0.3301309 ,\n",
       "        0.28257476, 0.28245467, 0.28245467]),\n",
       " 'split4_test_recall': array([0.38261078, 0.36807974, 0.36807974, 0.28089348, 0.28029302,\n",
       "        0.28029302, 0.38261078, 0.36807974, 0.36807974, 0.28029302,\n",
       "        0.28029302, 0.28029302, 0.36807974, 0.36807974, 0.36807974,\n",
       "        0.28029302, 0.28029302, 0.28029302]),\n",
       " 'mean_test_recall': array([0.35048154, 0.34594223, 0.34474146, 0.28148035, 0.28136026,\n",
       "        0.28136026, 0.34887245, 0.344117  , 0.34342048, 0.28148035,\n",
       "        0.28143231, 0.28140829, 0.34584617, 0.34325237, 0.34303623,\n",
       "        0.28143231, 0.28140829, 0.28140829]),\n",
       " 'std_test_recall': array([0.01838366, 0.01327772, 0.01285629, 0.00165678, 0.00171857,\n",
       "        0.00171857, 0.01838514, 0.01337709, 0.01388442, 0.00179938,\n",
       "        0.00176601, 0.00175106, 0.01327535, 0.0139328 , 0.01398338,\n",
       "        0.00176601, 0.00175106, 0.00175106]),\n",
       " 'rank_test_recall': array([ 1,  3,  5, 10, 17, 17,  2,  6,  7, 11, 12, 14,  4,  8,  9, 12, 14,\n",
       "        14], dtype=int32)}"
      ]
     },
     "execution_count": 41,
     "metadata": {},
     "output_type": "execute_result"
    }
   ],
   "source": [
    "grid_search_LR.cv_results_"
   ]
  },
  {
   "cell_type": "markdown",
   "id": "e6643235",
   "metadata": {},
   "source": [
    "Теперь перейдем к модели решающего дерева. Переберем гиперпараметры (размер глубины), и выведем на экран при какой глубине результат кросс-валидации дал наивысшую оценку качества модели:"
   ]
  },
  {
   "cell_type": "code",
   "execution_count": 42,
   "id": "6107abd6",
   "metadata": {},
   "outputs": [
    {
     "data": {
      "text/plain": [
       "GridSearchCV(cv=5, estimator=DecisionTreeClassifier(random_state=12345),\n",
       "             param_grid={'criterion': ['gini', 'entropy'],\n",
       "                         'max_depth': array([1, 2, 3, 4, 5, 6, 7, 8, 9])},\n",
       "             refit='recall', scoring=['roc_auc', 'recall'])"
      ]
     },
     "execution_count": 42,
     "metadata": {},
     "output_type": "execute_result"
    }
   ],
   "source": [
    "# Модель дерево решений\n",
    "par_grid_DT = {\n",
    "                     'criterion': ['gini', 'entropy'],\n",
    "                     'max_depth': np.arange(1, 10)\n",
    "              }\n",
    "model_grid_DT = DecisionTreeClassifier(random_state=12345)\n",
    "\n",
    "grid_search_DT = GridSearchCV(model_grid_DT, par_grid_DT, cv=5,\n",
    "                           scoring=['roc_auc', 'recall'],\n",
    "                           refit='recall'\n",
    "                          )\n",
    "grid_search_DT.fit(features_train, target_train)"
   ]
  },
  {
   "cell_type": "code",
   "execution_count": 43,
   "id": "313593bd",
   "metadata": {},
   "outputs": [
    {
     "data": {
      "text/plain": [
       "{'criterion': 'gini', 'max_depth': 8}"
      ]
     },
     "execution_count": 43,
     "metadata": {},
     "output_type": "execute_result"
    }
   ],
   "source": [
    "grid_search_DT.best_params_"
   ]
  },
  {
   "cell_type": "code",
   "execution_count": 44,
   "id": "b14edd01",
   "metadata": {},
   "outputs": [
    {
     "name": "stdout",
     "output_type": "stream",
     "text": [
      "0.48442386242362645\n"
     ]
    }
   ],
   "source": [
    "print(grid_search_DT.best_score_)"
   ]
  },
  {
   "cell_type": "code",
   "execution_count": 45,
   "id": "f90fb1fe",
   "metadata": {},
   "outputs": [
    {
     "data": {
      "text/plain": [
       "{'mean_fit_time': array([0.02195239, 0.03030691, 0.03994613, 0.04857793, 0.0542964 ,\n",
       "        0.05721641, 0.06334214, 0.06376109, 0.07121611, 0.02201018,\n",
       "        0.03345933, 0.04132633, 0.04823413, 0.05061703, 0.05431314,\n",
       "        0.05962839, 0.06312137, 0.06817651]),\n",
       " 'std_fit_time': array([0.00056358, 0.0019628 , 0.00378418, 0.00272482, 0.0032242 ,\n",
       "        0.00186261, 0.00196719, 0.00041104, 0.00139327, 0.00044239,\n",
       "        0.00092122, 0.00090041, 0.00348314, 0.00045403, 0.00106327,\n",
       "        0.00308551, 0.0017666 , 0.00311516]),\n",
       " 'mean_score_time': array([0.01367679, 0.01376085, 0.01516113, 0.01602902, 0.01502042,\n",
       "        0.0149806 , 0.01596808, 0.01489768, 0.01586742, 0.01313281,\n",
       "        0.01549902, 0.01522284, 0.01486268, 0.0146183 , 0.01450701,\n",
       "        0.01482158, 0.01507926, 0.01522708]),\n",
       " 'std_score_time': array([0.00096847, 0.00064094, 0.00116643, 0.00073831, 0.00064617,\n",
       "        0.00028077, 0.00095239, 0.00027922, 0.00064247, 0.00047422,\n",
       "        0.00022694, 0.00030493, 0.00046054, 0.00070786, 0.00035753,\n",
       "        0.00015165, 0.00039447, 0.00042156]),\n",
       " 'param_criterion': masked_array(data=['gini', 'gini', 'gini', 'gini', 'gini', 'gini', 'gini',\n",
       "                    'gini', 'gini', 'entropy', 'entropy', 'entropy',\n",
       "                    'entropy', 'entropy', 'entropy', 'entropy', 'entropy',\n",
       "                    'entropy'],\n",
       "              mask=[False, False, False, False, False, False, False, False,\n",
       "                    False, False, False, False, False, False, False, False,\n",
       "                    False, False],\n",
       "        fill_value='?',\n",
       "             dtype=object),\n",
       " 'param_max_depth': masked_array(data=[1, 2, 3, 4, 5, 6, 7, 8, 9, 1, 2, 3, 4, 5, 6, 7, 8, 9],\n",
       "              mask=[False, False, False, False, False, False, False, False,\n",
       "                    False, False, False, False, False, False, False, False,\n",
       "                    False, False],\n",
       "        fill_value='?',\n",
       "             dtype=object),\n",
       " 'params': [{'criterion': 'gini', 'max_depth': 1},\n",
       "  {'criterion': 'gini', 'max_depth': 2},\n",
       "  {'criterion': 'gini', 'max_depth': 3},\n",
       "  {'criterion': 'gini', 'max_depth': 4},\n",
       "  {'criterion': 'gini', 'max_depth': 5},\n",
       "  {'criterion': 'gini', 'max_depth': 6},\n",
       "  {'criterion': 'gini', 'max_depth': 7},\n",
       "  {'criterion': 'gini', 'max_depth': 8},\n",
       "  {'criterion': 'gini', 'max_depth': 9},\n",
       "  {'criterion': 'entropy', 'max_depth': 1},\n",
       "  {'criterion': 'entropy', 'max_depth': 2},\n",
       "  {'criterion': 'entropy', 'max_depth': 3},\n",
       "  {'criterion': 'entropy', 'max_depth': 4},\n",
       "  {'criterion': 'entropy', 'max_depth': 5},\n",
       "  {'criterion': 'entropy', 'max_depth': 6},\n",
       "  {'criterion': 'entropy', 'max_depth': 7},\n",
       "  {'criterion': 'entropy', 'max_depth': 8},\n",
       "  {'criterion': 'entropy', 'max_depth': 9}],\n",
       " 'split0_test_roc_auc': array([0.58276056, 0.60068753, 0.60889999, 0.61016377, 0.61800601,\n",
       "        0.6184786 , 0.6198859 , 0.62182116, 0.6207734 , 0.58276056,\n",
       "        0.60068753, 0.60889999, 0.61016377, 0.61825619, 0.61839154,\n",
       "        0.62071515, 0.62234682, 0.62182968]),\n",
       " 'split1_test_roc_auc': array([0.58456883, 0.60051264, 0.60788579, 0.60824298, 0.60979192,\n",
       "        0.60838277, 0.60908868, 0.61012707, 0.60817519, 0.58456883,\n",
       "        0.60051264, 0.60788579, 0.60824687, 0.60956135, 0.60910434,\n",
       "        0.60752819, 0.61050844, 0.6079905 ]),\n",
       " 'split2_test_roc_auc': array([0.5858033 , 0.60107159, 0.60968649, 0.6161905 , 0.61782602,\n",
       "        0.61783976, 0.61721812, 0.61724415, 0.61456557, 0.5858033 ,\n",
       "        0.60107159, 0.60968649, 0.6161905 , 0.61775504, 0.61794721,\n",
       "        0.61743105, 0.61747814, 0.61537712]),\n",
       " 'split3_test_roc_auc': array([0.58873132, 0.60463753, 0.61124568, 0.61232564, 0.62002866,\n",
       "        0.61935691, 0.61647265, 0.61606043, 0.61267744, 0.58873132,\n",
       "        0.60463753, 0.6112933 , 0.61220361, 0.62025626, 0.61950658,\n",
       "        0.61703439, 0.61758665, 0.61407925]),\n",
       " 'split4_test_roc_auc': array([0.58390789, 0.59966194, 0.60406568, 0.60851575, 0.60917259,\n",
       "        0.60826576, 0.60889874, 0.60746316, 0.60617551, 0.58390789,\n",
       "        0.59966194, 0.60400413, 0.60833533, 0.60915495, 0.60878756,\n",
       "        0.6085039 , 0.6087158 , 0.6077941 ]),\n",
       " 'mean_test_roc_auc': array([0.58515438, 0.60131424, 0.60835673, 0.61108773, 0.61496504,\n",
       "        0.61446476, 0.61431282, 0.61454319, 0.61247342, 0.58515438,\n",
       "        0.60131424, 0.60835394, 0.61102802, 0.61499676, 0.61474745,\n",
       "        0.61424254, 0.61532717, 0.61341413]),\n",
       " 'std_test_roc_auc': array([0.00204169, 0.00172445, 0.00241016, 0.00293707, 0.00454723,\n",
       "        0.00503692, 0.00448929, 0.00514188, 0.00512732, 0.00204169,\n",
       "        0.00172445, 0.00244351, 0.00295856, 0.00468113, 0.00476513,\n",
       "        0.0052511 , 0.00501872, 0.00521762]),\n",
       " 'rank_test_roc_auc': array([17, 15, 13, 11,  3,  6,  7,  5, 10, 17, 15, 14, 12,  2,  4,  8,  1,\n",
       "         9], dtype=int32),\n",
       " 'split0_test_recall': array([0.21892638, 0.21892638, 0.28101357, 0.2751291 , 0.28954005,\n",
       "        0.29206197, 0.40698931, 0.40398703, 0.43821304, 0.21892638,\n",
       "        0.21892638, 0.28101357, 0.2751291 , 0.28954005, 0.29194188,\n",
       "        0.40686922, 0.40350667, 0.43004684]),\n",
       " 'split1_test_recall': array([0.22430355, 0.22430355, 0.28434198, 0.28037944, 0.28482229,\n",
       "        0.28206052, 0.39961575, 0.39817483, 0.41294428, 0.22430355,\n",
       "        0.22430355, 0.28434198, 0.28037944, 0.28506244, 0.28206052,\n",
       "        0.39901537, 0.39793468, 0.41198367]),\n",
       " 'split2_test_recall': array([0.22178194, 0.22178194, 0.28446206, 0.27317483, 0.28374159,\n",
       "        0.28338136, 0.59918348, 0.61431316, 0.61227185, 0.22178194,\n",
       "        0.22178194, 0.28446206, 0.27317483, 0.28374159, 0.28338136,\n",
       "        0.59930355, 0.61455331, 0.61539385]),\n",
       " 'split3_test_recall': array([0.22156839, 0.22156839, 0.28209439, 0.27765101, 0.28281494,\n",
       "        0.27993275, 0.58844722, 0.60862255, 0.40903086, 0.22156839,\n",
       "        0.22156839, 0.28209439, 0.27753092, 0.28293503, 0.28053321,\n",
       "        0.58724631, 0.60910292, 0.40819022]),\n",
       " 'split4_test_recall': array([0.22433049, 0.22433049, 0.28089348, 0.27056563, 0.28221448,\n",
       "        0.28053321, 0.39798247, 0.39702174, 0.37444458, 0.22433049,\n",
       "        0.22433049, 0.28089348, 0.27056563, 0.28221448, 0.28149394,\n",
       "        0.39570073, 0.39570073, 0.41431488]),\n",
       " 'mean_test_recall': array([0.22218215, 0.22218215, 0.2825611 , 0.27538   , 0.28462667,\n",
       "        0.28359396, 0.47844365, 0.48442386, 0.44938092, 0.22218215,\n",
       "        0.22218215, 0.2825611 , 0.27535599, 0.28469872, 0.28388218,\n",
       "        0.47762704, 0.48415966, 0.45598589]),\n",
       " 'std_test_recall': array([0.00201259, 0.00201259, 0.00156069, 0.00341338, 0.00261013,\n",
       "        0.00440174, 0.09431061, 0.10377346, 0.08393973, 0.00201259,\n",
       "        0.00201259, 0.00156069, 0.0033977 , 0.0025988 , 0.00413394,\n",
       "        0.09457266, 0.1042861 , 0.08005102]),\n",
       " 'rank_test_recall': array([15, 15, 11, 13,  8, 10,  3,  1,  6, 15, 15, 11, 14,  7,  9,  4,  2,\n",
       "         5], dtype=int32)}"
      ]
     },
     "execution_count": 45,
     "metadata": {},
     "output_type": "execute_result"
    }
   ],
   "source": [
    "grid_search_DT.cv_results_"
   ]
  },
  {
   "cell_type": "markdown",
   "id": "90617ee1",
   "metadata": {},
   "source": [
    "Теперь перейдем к модели случайного леса. Аналогично работе с предыдущей моделью, в цикле переберем значения гиперпараметра n_estimators, который отвечает за количество деревьев в лесу. Выведем на экран значение n_estimators при котором возможно получить максимальную оценку качества модели, полученную кросс-валидацией:"
   ]
  },
  {
   "cell_type": "code",
   "execution_count": 46,
   "id": "e9393958",
   "metadata": {},
   "outputs": [
    {
     "data": {
      "text/plain": [
       "GridSearchCV(cv=5, estimator=RandomForestClassifier(random_state=12345),\n",
       "             param_grid={'criterion': ['gini', 'entropy'],\n",
       "                         'min_samples_split': range(5, 10),\n",
       "                         'n_estimators': [3, 10]},\n",
       "             refit='recall', scoring=['roc_auc', 'recall'])"
      ]
     },
     "execution_count": 46,
     "metadata": {},
     "output_type": "execute_result"
    }
   ],
   "source": [
    "# Модель случайный лес\n",
    "par_grid_ensemble = {'n_estimators': [3, 10],\n",
    "                     'criterion': ['gini', 'entropy'],\n",
    "                     'min_samples_split': range(5, 10)\n",
    "                    }\n",
    "model_RF = RandomForestClassifier(random_state=12345)\n",
    "\n",
    "grid_search_RF = GridSearchCV(model_RF, par_grid_ensemble, cv=5,\n",
    "                           scoring=['roc_auc', 'recall'],\n",
    "                           refit='recall'\n",
    "                          )\n",
    "grid_search_RF.fit(features_train, target_train)"
   ]
  },
  {
   "cell_type": "code",
   "execution_count": 47,
   "id": "206efe23",
   "metadata": {},
   "outputs": [
    {
     "data": {
      "text/plain": [
       "{'criterion': 'entropy', 'min_samples_split': 9, 'n_estimators': 3}"
      ]
     },
     "execution_count": 47,
     "metadata": {},
     "output_type": "execute_result"
    }
   ],
   "source": [
    "grid_search_RF.best_params_"
   ]
  },
  {
   "cell_type": "code",
   "execution_count": 48,
   "id": "c178d226",
   "metadata": {},
   "outputs": [
    {
     "name": "stdout",
     "output_type": "stream",
     "text": [
      "0.4950880998088807\n"
     ]
    }
   ],
   "source": [
    "print(grid_search_RF.best_score_)"
   ]
  },
  {
   "cell_type": "code",
   "execution_count": 49,
   "id": "e1c449c6",
   "metadata": {
    "scrolled": true
   },
   "outputs": [
    {
     "data": {
      "text/plain": [
       "{'mean_fit_time': array([0.09454517, 0.30620785, 0.09483285, 0.28368907, 0.096947  ,\n",
       "        0.28970942, 0.09138956, 0.27524242, 0.09379506, 0.30018392,\n",
       "        0.09743714, 0.29553313, 0.10056705, 0.30162578, 0.09732056,\n",
       "        0.29493513, 0.10015545, 0.30425076, 0.1035563 , 0.2841785 ]),\n",
       " 'std_fit_time': array([0.00345924, 0.02325423, 0.00352502, 0.00729962, 0.00482734,\n",
       "        0.00309805, 0.0030812 , 0.00375713, 0.00391977, 0.02399867,\n",
       "        0.0031892 , 0.00948126, 0.00132335, 0.0088029 , 0.0041229 ,\n",
       "        0.00192916, 0.00311808, 0.01956865, 0.01052816, 0.00900938]),\n",
       " 'mean_score_time': array([0.02967353, 0.06651101, 0.03000264, 0.06382494, 0.0298831 ,\n",
       "        0.06399155, 0.02897596, 0.06329703, 0.0289773 , 0.0653213 ,\n",
       "        0.0291697 , 0.0648169 , 0.03064475, 0.06485438, 0.03012795,\n",
       "        0.06460609, 0.02982588, 0.0684607 , 0.03023901, 0.06301956]),\n",
       " 'std_score_time': array([0.0009011 , 0.00234083, 0.00139396, 0.00046048, 0.00114176,\n",
       "        0.00041366, 0.00031573, 0.00069801, 0.00038695, 0.00273106,\n",
       "        0.00048717, 0.00038295, 0.00024939, 0.00080676, 0.00100921,\n",
       "        0.00096776, 0.00086506, 0.00618562, 0.00094411, 0.00121035]),\n",
       " 'param_criterion': masked_array(data=['gini', 'gini', 'gini', 'gini', 'gini', 'gini', 'gini',\n",
       "                    'gini', 'gini', 'gini', 'entropy', 'entropy',\n",
       "                    'entropy', 'entropy', 'entropy', 'entropy', 'entropy',\n",
       "                    'entropy', 'entropy', 'entropy'],\n",
       "              mask=[False, False, False, False, False, False, False, False,\n",
       "                    False, False, False, False, False, False, False, False,\n",
       "                    False, False, False, False],\n",
       "        fill_value='?',\n",
       "             dtype=object),\n",
       " 'param_min_samples_split': masked_array(data=[5, 5, 6, 6, 7, 7, 8, 8, 9, 9, 5, 5, 6, 6, 7, 7, 8, 8,\n",
       "                    9, 9],\n",
       "              mask=[False, False, False, False, False, False, False, False,\n",
       "                    False, False, False, False, False, False, False, False,\n",
       "                    False, False, False, False],\n",
       "        fill_value='?',\n",
       "             dtype=object),\n",
       " 'param_n_estimators': masked_array(data=[3, 10, 3, 10, 3, 10, 3, 10, 3, 10, 3, 10, 3, 10, 3, 10,\n",
       "                    3, 10, 3, 10],\n",
       "              mask=[False, False, False, False, False, False, False, False,\n",
       "                    False, False, False, False, False, False, False, False,\n",
       "                    False, False, False, False],\n",
       "        fill_value='?',\n",
       "             dtype=object),\n",
       " 'params': [{'criterion': 'gini', 'min_samples_split': 5, 'n_estimators': 3},\n",
       "  {'criterion': 'gini', 'min_samples_split': 5, 'n_estimators': 10},\n",
       "  {'criterion': 'gini', 'min_samples_split': 6, 'n_estimators': 3},\n",
       "  {'criterion': 'gini', 'min_samples_split': 6, 'n_estimators': 10},\n",
       "  {'criterion': 'gini', 'min_samples_split': 7, 'n_estimators': 3},\n",
       "  {'criterion': 'gini', 'min_samples_split': 7, 'n_estimators': 10},\n",
       "  {'criterion': 'gini', 'min_samples_split': 8, 'n_estimators': 3},\n",
       "  {'criterion': 'gini', 'min_samples_split': 8, 'n_estimators': 10},\n",
       "  {'criterion': 'gini', 'min_samples_split': 9, 'n_estimators': 3},\n",
       "  {'criterion': 'gini', 'min_samples_split': 9, 'n_estimators': 10},\n",
       "  {'criterion': 'entropy', 'min_samples_split': 5, 'n_estimators': 3},\n",
       "  {'criterion': 'entropy', 'min_samples_split': 5, 'n_estimators': 10},\n",
       "  {'criterion': 'entropy', 'min_samples_split': 6, 'n_estimators': 3},\n",
       "  {'criterion': 'entropy', 'min_samples_split': 6, 'n_estimators': 10},\n",
       "  {'criterion': 'entropy', 'min_samples_split': 7, 'n_estimators': 3},\n",
       "  {'criterion': 'entropy', 'min_samples_split': 7, 'n_estimators': 10},\n",
       "  {'criterion': 'entropy', 'min_samples_split': 8, 'n_estimators': 3},\n",
       "  {'criterion': 'entropy', 'min_samples_split': 8, 'n_estimators': 10},\n",
       "  {'criterion': 'entropy', 'min_samples_split': 9, 'n_estimators': 3},\n",
       "  {'criterion': 'entropy', 'min_samples_split': 9, 'n_estimators': 10}],\n",
       " 'split0_test_roc_auc': array([0.58949699, 0.59023232, 0.59035102, 0.59070752, 0.59054025,\n",
       "        0.59103092, 0.59197947, 0.59166598, 0.59249415, 0.59320764,\n",
       "        0.58935671, 0.59063061, 0.58973559, 0.59049813, 0.5905916 ,\n",
       "        0.59176496, 0.59289163, 0.59263795, 0.59156033, 0.59230359]),\n",
       " 'split1_test_roc_auc': array([0.58650028, 0.5854886 , 0.58630852, 0.58763153, 0.58821235,\n",
       "        0.58710395, 0.58901557, 0.58867956, 0.58936477, 0.58899659,\n",
       "        0.58579914, 0.58544004, 0.58541702, 0.5871447 , 0.58690756,\n",
       "        0.58830775, 0.588883  , 0.58967038, 0.58990914, 0.58955794]),\n",
       " 'split2_test_roc_auc': array([0.59363508, 0.59302357, 0.59394284, 0.5939611 , 0.59495104,\n",
       "        0.59439594, 0.59503166, 0.59610983, 0.59805   , 0.59637248,\n",
       "        0.59208577, 0.59220968, 0.59396207, 0.59334759, 0.59566116,\n",
       "        0.59509063, 0.59567821, 0.59639146, 0.5983107 , 0.59687186]),\n",
       " 'split3_test_roc_auc': array([0.58793129, 0.58703576, 0.58983327, 0.58850363, 0.59014942,\n",
       "        0.5876901 , 0.58939988, 0.58844038, 0.59070626, 0.58854027,\n",
       "        0.58837969, 0.58664789, 0.58953059, 0.58770769, 0.59006733,\n",
       "        0.5884775 , 0.59059389, 0.58953621, 0.59126235, 0.59084515]),\n",
       " 'split4_test_roc_auc': array([0.58622708, 0.58460387, 0.58597096, 0.58539937, 0.58770128,\n",
       "        0.58623272, 0.58955361, 0.58650895, 0.58796204, 0.58639961,\n",
       "        0.58608002, 0.58408736, 0.58528285, 0.58446205, 0.58728871,\n",
       "        0.58642547, 0.5896566 , 0.58705996, 0.58926273, 0.58694452]),\n",
       " 'mean_test_roc_auc': array([0.58875814, 0.58807682, 0.58928132, 0.58924063, 0.59031087,\n",
       "        0.58929073, 0.59099604, 0.59028094, 0.59171544, 0.59070332,\n",
       "        0.58834026, 0.58780312, 0.58878563, 0.58863203, 0.59010327,\n",
       "        0.59001326, 0.59154067, 0.59105919, 0.59206105, 0.59130461]),\n",
       " 'std_test_roc_auc': array([0.00270253, 0.00312924, 0.00293171, 0.00290937, 0.00256217,\n",
       "        0.00302612, 0.00227174, 0.00334886, 0.00350329, 0.00359234,\n",
       "        0.00230779, 0.00310284, 0.00322087, 0.00303889, 0.00313892,\n",
       "        0.00306554, 0.00246794, 0.00319899, 0.00323753, 0.00329438]),\n",
       " 'rank_test_roc_auc': array([16, 19, 13, 14,  8, 12,  6,  9,  2,  7, 18, 20, 15, 17, 10, 11,  3,\n",
       "         5,  1,  4], dtype=int32),\n",
       " 'split0_test_recall': array([0.50378287, 0.48156599, 0.50438333, 0.48240663, 0.50426324,\n",
       "        0.48264681, 0.5061847 , 0.48360754, 0.50390297, 0.48372763,\n",
       "        0.50246187, 0.48156599, 0.50390297, 0.48192626, 0.50378287,\n",
       "        0.48372763, 0.50570434, 0.48312718, 0.5061847 , 0.48336736]),\n",
       " 'split1_test_recall': array([0.49507685, 0.49735831, 0.49627762, 0.50168108, 0.49711816,\n",
       "        0.50012008, 0.49831892, 0.50204131, 0.49807877, 0.50360231,\n",
       "        0.49591739, 0.49855908, 0.49555716, 0.50060038, 0.49627762,\n",
       "        0.50060038, 0.49759846, 0.50240154, 0.49783862, 0.50348223]),\n",
       " 'split2_test_recall': array([0.50504323, 0.51008646, 0.50420269, 0.50936599, 0.50528338,\n",
       "        0.50912584, 0.50648415, 0.51092699, 0.50768492, 0.51260807,\n",
       "        0.50396254, 0.50912584, 0.504683  , 0.50996638, 0.50720461,\n",
       "        0.51152738, 0.50684438, 0.51260807, 0.50912584, 0.51260807]),\n",
       " 'split3_test_recall': array([0.47363997, 0.46235139, 0.4731596 , 0.46499339, 0.47556143,\n",
       "        0.46439294, 0.47424042, 0.46427285, 0.47520115, 0.46511349,\n",
       "        0.47279933, 0.46307193, 0.47351988, 0.46475321, 0.47580161,\n",
       "        0.46391257, 0.47580161, 0.46439294, 0.47676234, 0.46679476]),\n",
       " 'split4_test_recall': array([0.48396782, 0.46715504, 0.48192626, 0.46715504, 0.48396782,\n",
       "        0.46823586, 0.48709019, 0.4690765 , 0.48528882, 0.46991714,\n",
       "        0.485529  , 0.46679476, 0.48204636, 0.46535367, 0.48396782,\n",
       "        0.46883632, 0.48504864, 0.46703495, 0.485529  , 0.47063768]),\n",
       " 'mean_test_recall': array([0.49230215, 0.48370344, 0.4919899 , 0.48512043, 0.4932388 ,\n",
       "        0.48490431, 0.49446368, 0.48598504, 0.49403133, 0.48699373,\n",
       "        0.49213402, 0.48382352, 0.49194187, 0.48451998, 0.49340691,\n",
       "        0.48572086, 0.49419948, 0.48591293, 0.4950881 , 0.48737802]),\n",
       " 'std_test_recall': array([0.01199649, 0.01798248, 0.01246588, 0.01787356, 0.01166276,\n",
       "        0.01744621, 0.01232952, 0.01812664, 0.01209346, 0.01850925,\n",
       "        0.01164774, 0.01779352, 0.01229443, 0.01828058, 0.01187705,\n",
       "        0.01817712, 0.01205013, 0.01903551, 0.01228794, 0.01797718]),\n",
       " 'rank_test_recall': array([ 7, 20,  9, 16,  6, 17,  2, 13,  4, 12,  8, 19, 10, 18,  5, 15,  3,\n",
       "        14,  1, 11], dtype=int32)}"
      ]
     },
     "execution_count": 49,
     "metadata": {},
     "output_type": "execute_result"
    }
   ],
   "source": [
    "grid_search_RF.cv_results_"
   ]
  },
  {
   "cell_type": "code",
   "execution_count": 50,
   "id": "9d0fb3a5",
   "metadata": {
    "scrolled": true
   },
   "outputs": [
    {
     "data": {
      "text/html": [
       "<div>\n",
       "<style scoped>\n",
       "    .dataframe tbody tr th:only-of-type {\n",
       "        vertical-align: middle;\n",
       "    }\n",
       "\n",
       "    .dataframe tbody tr th {\n",
       "        vertical-align: top;\n",
       "    }\n",
       "\n",
       "    .dataframe thead th {\n",
       "        text-align: right;\n",
       "    }\n",
       "</style>\n",
       "<table border=\"1\" class=\"dataframe\">\n",
       "  <thead>\n",
       "    <tr style=\"text-align: right;\">\n",
       "      <th></th>\n",
       "      <th>model</th>\n",
       "      <th>training_score</th>\n",
       "    </tr>\n",
       "  </thead>\n",
       "  <tbody>\n",
       "    <tr>\n",
       "      <th>0</th>\n",
       "      <td>LogisticRegression</td>\n",
       "      <td>0.350482</td>\n",
       "    </tr>\n",
       "    <tr>\n",
       "      <th>1</th>\n",
       "      <td>DecisionTreeClassifier</td>\n",
       "      <td>0.484424</td>\n",
       "    </tr>\n",
       "    <tr>\n",
       "      <th>2</th>\n",
       "      <td>RandomForestClassifier</td>\n",
       "      <td>0.495088</td>\n",
       "    </tr>\n",
       "  </tbody>\n",
       "</table>\n",
       "</div>"
      ],
      "text/plain": [
       "                    model  training_score\n",
       "0      LogisticRegression        0.350482\n",
       "1  DecisionTreeClassifier        0.484424\n",
       "2  RandomForestClassifier        0.495088"
      ]
     },
     "execution_count": 50,
     "metadata": {},
     "output_type": "execute_result"
    }
   ],
   "source": [
    "predictive_model_scores = pd.DataFrame(data=[('LogisticRegression',grid_search_LR.best_score_), \n",
    "                                             ('DecisionTreeClassifier', grid_search_DT.best_score_),\n",
    "                                            ('RandomForestClassifier', grid_search_RF.best_score_)], \n",
    "                                       columns=['model', 'training_score'])\n",
    "predictive_model_scores"
   ]
  },
  {
   "cell_type": "markdown",
   "id": "c792263a",
   "metadata": {},
   "source": [
    "**ВЫВОД:**\n",
    "\n",
    "Таким образом лучшая модель Логистическая регрессия, проверим её на тестовой выборке.\n"
   ]
  },
  {
   "cell_type": "markdown",
   "id": "1bbef4d2",
   "metadata": {},
   "source": [
    "### Проверьте лучшую модель в работе"
   ]
  },
  {
   "cell_type": "code",
   "execution_count": 51,
   "id": "a1206deb",
   "metadata": {
    "scrolled": true
   },
   "outputs": [
    {
     "name": "stdout",
     "output_type": "stream",
     "text": [
      "ROC_auc\n",
      "Test set: 0.5848707229079511\n",
      "Recall: 0.3346708703544473\n"
     ]
    }
   ],
   "source": [
    "grid_search_LR.fit(features_train, target_train)\n",
    "predicted = grid_search_LR.predict(features_test)\n",
    "\n",
    "roc_auc_test = roc_auc_score(target_test, predicted)\n",
    "recall = recall_score(target_test, predicted)\n",
    "\n",
    "print(\"ROC_auc\")\n",
    "print(\"Test set:\", roc_auc_test)\n",
    "print(\"Recall:\", recall)"
   ]
  },
  {
   "cell_type": "markdown",
   "id": "7c143bc4",
   "metadata": {},
   "source": [
    "**Confusion Matrix**\n",
    "\n",
    "Создаём матрицу ошибок для обученной модели:"
   ]
  },
  {
   "cell_type": "code",
   "execution_count": 52,
   "id": "d779e6f3",
   "metadata": {},
   "outputs": [],
   "source": [
    "cm = confusion_matrix(target_test, predicted)"
   ]
  },
  {
   "cell_type": "code",
   "execution_count": 53,
   "id": "5cc54d47",
   "metadata": {},
   "outputs": [],
   "source": [
    "cm_df = pd.DataFrame(cm, index=['Actually Not At Fault', 'Actually At Fault'],\n",
    "                 columns=['Predicted Not At Fault', 'Predicted At Fault'])"
   ]
  },
  {
   "cell_type": "markdown",
   "id": "46e2f177",
   "metadata": {},
   "source": [
    "**Визуализируем:**"
   ]
  },
  {
   "cell_type": "code",
   "execution_count": 54,
   "id": "8f3db8ae",
   "metadata": {
    "scrolled": true
   },
   "outputs": [
    {
     "data": {
      "image/png": "[encoded data removed]",
      "text/plain": [
       "<Figure size 720x288 with 2 Axes>"
      ]
     },
     "metadata": {},
     "output_type": "display_data"
    }
   ],
   "source": [
    "sns.set(font_scale=1.2)\n",
    "plt.figure(figsize=(10,4))\n",
    "    \n",
    "sns.heatmap(cm, annot=True, fmt='g', cmap=\"Blues\",xticklabels=cm_df.columns, yticklabels=cm_df.index, annot_kws={\"size\": 20})\n",
    "plt.title(\"Матрица ошибок\", size=20)\n",
    "plt.xlabel('Класс предсказаний')\n",
    "plt.ylabel('Реальный класс');"
   ]
  },
  {
   "cell_type": "code",
   "execution_count": 55,
   "id": "19281d5b",
   "metadata": {
    "scrolled": true
   },
   "outputs": [
    {
     "name": "stdout",
     "output_type": "stream",
     "text": [
      "Всего предсказаний: 19677\n",
      "Правильно классифицированные: 57.0%\n",
      "Правильно классифицированная вина: 52.0%\n",
      "Правильно классифицированое отсутствие вины: 70.0%\n",
      "Прогнозируемая вина, соответствующая действительности: 84.0%\n",
      "Прогнозируемое отсутствие вины, которой так же на самом деле нет: 33.0%\n"
     ]
    }
   ],
   "source": [
    "TP = cm[0][0]\n",
    "TN = cm[1][1]\n",
    "FP = cm[0][1]\n",
    "FN = cm[1][0]\n",
    "total = cm[0][0]+cm[1][1]+cm[0][1]+cm[1][0]\n",
    "\n",
    "print('Всего предсказаний:',total)\n",
    "print(f'Правильно классифицированные: {np.round((TP+TN)/total*100)}%')\n",
    "print(f'Правильно классифицированная вина: {np.round(TP/(TP+FN)*100)}%')\n",
    "print(f'Правильно классифицированое отсутствие вины: {np.round(TN/(TN+FP)*100)}%')\n",
    "print(f'Прогнозируемая вина, соответствующая действительности: {np.round(TP/(TP+FP)*100)}%')\n",
    "print(f'Прогнозируемое отсутствие вины, которой так же на самом деле нет: {np.round(TN/(TN+FN)*100)}%')\n",
    "\n"
   ]
  },
  {
   "cell_type": "code",
   "execution_count": 56,
   "id": "12421d38",
   "metadata": {
    "scrolled": true
   },
   "outputs": [
    {
     "name": "stdout",
     "output_type": "stream",
     "text": [
      "Requirement already satisfied: eli5 in /opt/conda/lib/python3.9/site-packages (0.13.0)\n",
      "Requirement already satisfied: scipy in /opt/conda/lib/python3.9/site-packages (from eli5) (1.9.1)\n",
      "Requirement already satisfied: attrs>17.1.0 in /opt/conda/lib/python3.9/site-packages (from eli5) (21.2.0)\n",
      "Requirement already satisfied: scikit-learn>=0.20 in /opt/conda/lib/python3.9/site-packages (from eli5) (0.24.1)\n",
      "Requirement already satisfied: graphviz in /opt/conda/lib/python3.9/site-packages (from eli5) (0.20.1)\n",
      "Requirement already satisfied: six in /opt/conda/lib/python3.9/site-packages (from eli5) (1.16.0)\n",
      "Requirement already satisfied: numpy>=1.9.0 in /opt/conda/lib/python3.9/site-packages (from eli5) (1.21.1)\n",
      "Requirement already satisfied: tabulate>=0.7.7 in /opt/conda/lib/python3.9/site-packages (from eli5) (0.9.0)\n",
      "Requirement already satisfied: jinja2>=3.0.0 in /opt/conda/lib/python3.9/site-packages (from eli5) (3.0.1)\n",
      "Requirement already satisfied: MarkupSafe>=2.0 in /opt/conda/lib/python3.9/site-packages (from jinja2>=3.0.0->eli5) (2.1.1)\n",
      "Requirement already satisfied: joblib>=0.11 in /opt/conda/lib/python3.9/site-packages (from scikit-learn>=0.20->eli5) (1.1.0)\n",
      "Requirement already satisfied: threadpoolctl>=2.0.0 in /opt/conda/lib/python3.9/site-packages (from scikit-learn>=0.20->eli5) (3.1.0)\n"
     ]
    },
    {
     "data": {
      "text/html": [
       "\n",
       "    <style>\n",
       "    table.eli5-weights tr:hover {\n",
       "        filter: brightness(85%);\n",
       "    }\n",
       "</style>\n",
       "\n",
       "\n",
       "\n",
       "    \n",
       "\n",
       "    \n",
       "\n",
       "    \n",
       "\n",
       "    \n",
       "\n",
       "    \n",
       "\n",
       "    \n",
       "\n",
       "\n",
       "    \n",
       "\n",
       "    \n",
       "\n",
       "    \n",
       "\n",
       "    \n",
       "        \n",
       "\n",
       "    \n",
       "\n",
       "        \n",
       "            \n",
       "                \n",
       "                \n",
       "    \n",
       "        <p style=\"margin-bottom: 0.5em; margin-top: 0em\">\n",
       "            <b>\n",
       "    \n",
       "        y=1\n",
       "    \n",
       "</b>\n",
       "\n",
       "top features\n",
       "        </p>\n",
       "    \n",
       "    <table class=\"eli5-weights\"\n",
       "           style=\"border-collapse: collapse; border: none; margin-top: 0em; table-layout: auto; margin-bottom: 2em;\">\n",
       "        <thead>\n",
       "        <tr style=\"border: none;\">\n",
       "            \n",
       "                <th style=\"padding: 0 1em 0 0.5em; text-align: right; border: none;\" title=\"Feature weights. Note that weights do not account for feature value scales, so if feature values have different scales, features with highest weights might not be the most important.\">\n",
       "                    Weight<sup>?</sup>\n",
       "                </th>\n",
       "            \n",
       "            <th style=\"padding: 0 0.5em 0 0.5em; text-align: left; border: none;\">Feature</th>\n",
       "            \n",
       "        </tr>\n",
       "        </thead>\n",
       "        <tbody>\n",
       "        \n",
       "            <tr style=\"background-color: hsl(120, 100.00%, 80.00%); border: none;\">\n",
       "    <td style=\"padding: 0 1em 0 0.5em; text-align: right; border: none;\">\n",
       "        +1.541\n",
       "    </td>\n",
       "    <td style=\"padding: 0 0.5em 0 0.5em; text-align: left; border: none;\">\n",
       "        party_sobriety_had been drinking, under influence\n",
       "    </td>\n",
       "    \n",
       "</tr>\n",
       "        \n",
       "            <tr style=\"background-color: hsl(120, 100.00%, 84.19%); border: none;\">\n",
       "    <td style=\"padding: 0 1em 0 0.5em; text-align: right; border: none;\">\n",
       "        +1.102\n",
       "    </td>\n",
       "    <td style=\"padding: 0 0.5em 0 0.5em; text-align: left; border: none;\">\n",
       "        &lt;BIAS&gt;\n",
       "    </td>\n",
       "    \n",
       "</tr>\n",
       "        \n",
       "            <tr style=\"background-color: hsl(120, 100.00%, 88.83%); border: none;\">\n",
       "    <td style=\"padding: 0 1em 0 0.5em; text-align: right; border: none;\">\n",
       "        +0.670\n",
       "    </td>\n",
       "    <td style=\"padding: 0 0.5em 0 0.5em; text-align: left; border: none;\">\n",
       "        road_surface_snowy\n",
       "    </td>\n",
       "    \n",
       "</tr>\n",
       "        \n",
       "            <tr style=\"background-color: hsl(120, 100.00%, 94.12%); border: none;\">\n",
       "    <td style=\"padding: 0 1em 0 0.5em; text-align: right; border: none;\">\n",
       "        +0.268\n",
       "    </td>\n",
       "    <td style=\"padding: 0 0.5em 0 0.5em; text-align: left; border: none;\">\n",
       "        road_condition_1_loose material\n",
       "    </td>\n",
       "    \n",
       "</tr>\n",
       "        \n",
       "            <tr style=\"background-color: hsl(120, 100.00%, 94.19%); border: none;\">\n",
       "    <td style=\"padding: 0 1em 0 0.5em; text-align: right; border: none;\">\n",
       "        +0.264\n",
       "    </td>\n",
       "    <td style=\"padding: 0 0.5em 0 0.5em; text-align: left; border: none;\">\n",
       "        weather_1_other\n",
       "    </td>\n",
       "    \n",
       "</tr>\n",
       "        \n",
       "            <tr style=\"background-color: hsl(120, 100.00%, 94.41%); border: none;\">\n",
       "    <td style=\"padding: 0 1em 0 0.5em; text-align: right; border: none;\">\n",
       "        +0.249\n",
       "    </td>\n",
       "    <td style=\"padding: 0 0.5em 0 0.5em; text-align: left; border: none;\">\n",
       "        road_surface_wet\n",
       "    </td>\n",
       "    \n",
       "</tr>\n",
       "        \n",
       "            <tr style=\"background-color: hsl(120, 100.00%, 95.57%); border: none;\">\n",
       "    <td style=\"padding: 0 1em 0 0.5em; text-align: right; border: none;\">\n",
       "        +0.179\n",
       "    </td>\n",
       "    <td style=\"padding: 0 0.5em 0 0.5em; text-align: left; border: none;\">\n",
       "        road_condition_1_flooded\n",
       "    </td>\n",
       "    \n",
       "</tr>\n",
       "        \n",
       "            <tr style=\"background-color: hsl(120, 100.00%, 96.06%); border: none;\">\n",
       "    <td style=\"padding: 0 1em 0 0.5em; text-align: right; border: none;\">\n",
       "        +0.151\n",
       "    </td>\n",
       "    <td style=\"padding: 0 0.5em 0 0.5em; text-align: left; border: none;\">\n",
       "        road_condition_1_holes\n",
       "    </td>\n",
       "    \n",
       "</tr>\n",
       "        \n",
       "            <tr style=\"background-color: hsl(120, 100.00%, 96.35%); border: none;\">\n",
       "    <td style=\"padding: 0 1em 0 0.5em; text-align: right; border: none;\">\n",
       "        +0.136\n",
       "    </td>\n",
       "    <td style=\"padding: 0 0.5em 0 0.5em; text-align: left; border: none;\">\n",
       "        road_condition_1_obstruction\n",
       "    </td>\n",
       "    \n",
       "</tr>\n",
       "        \n",
       "            <tr style=\"background-color: hsl(120, 100.00%, 96.55%); border: none;\">\n",
       "    <td style=\"padding: 0 1em 0 0.5em; text-align: right; border: none;\">\n",
       "        +0.125\n",
       "    </td>\n",
       "    <td style=\"padding: 0 0.5em 0 0.5em; text-align: left; border: none;\">\n",
       "        road_condition_1_other\n",
       "    </td>\n",
       "    \n",
       "</tr>\n",
       "        \n",
       "            <tr style=\"background-color: hsl(120, 100.00%, 96.75%); border: none;\">\n",
       "    <td style=\"padding: 0 1em 0 0.5em; text-align: right; border: none;\">\n",
       "        +0.115\n",
       "    </td>\n",
       "    <td style=\"padding: 0 0.5em 0 0.5em; text-align: left; border: none;\">\n",
       "        control_device_none\n",
       "    </td>\n",
       "    \n",
       "</tr>\n",
       "        \n",
       "            <tr style=\"background-color: hsl(120, 100.00%, 97.10%); border: none;\">\n",
       "    <td style=\"padding: 0 1em 0 0.5em; text-align: right; border: none;\">\n",
       "        +0.098\n",
       "    </td>\n",
       "    <td style=\"padding: 0 0.5em 0 0.5em; text-align: left; border: none;\">\n",
       "        weather_1_fog\n",
       "    </td>\n",
       "    \n",
       "</tr>\n",
       "        \n",
       "            <tr style=\"background-color: hsl(120, 100.00%, 97.23%); border: none;\">\n",
       "    <td style=\"padding: 0 1em 0 0.5em; text-align: right; border: none;\">\n",
       "        +0.092\n",
       "    </td>\n",
       "    <td style=\"padding: 0 0.5em 0 0.5em; text-align: left; border: none;\">\n",
       "        road_surface_slippery\n",
       "    </td>\n",
       "    \n",
       "</tr>\n",
       "        \n",
       "            <tr style=\"background-color: hsl(120, 100.00%, 97.55%); border: none;\">\n",
       "    <td style=\"padding: 0 1em 0 0.5em; text-align: right; border: none;\">\n",
       "        +0.077\n",
       "    </td>\n",
       "    <td style=\"padding: 0 0.5em 0 0.5em; text-align: left; border: none;\">\n",
       "        lighting_daylight\n",
       "    </td>\n",
       "    \n",
       "</tr>\n",
       "        \n",
       "            <tr style=\"background-color: hsl(120, 100.00%, 97.61%); border: none;\">\n",
       "    <td style=\"padding: 0 1em 0 0.5em; text-align: right; border: none;\">\n",
       "        +0.074\n",
       "    </td>\n",
       "    <td style=\"padding: 0 0.5em 0 0.5em; text-align: left; border: none;\">\n",
       "        road_condition_1_normal\n",
       "    </td>\n",
       "    \n",
       "</tr>\n",
       "        \n",
       "            <tr style=\"background-color: hsl(120, 100.00%, 98.75%); border: none;\">\n",
       "    <td style=\"padding: 0 1em 0 0.5em; text-align: right; border: none;\">\n",
       "        +0.029\n",
       "    </td>\n",
       "    <td style=\"padding: 0 0.5em 0 0.5em; text-align: left; border: none;\">\n",
       "        road_condition_1_reduced width\n",
       "    </td>\n",
       "    \n",
       "</tr>\n",
       "        \n",
       "            <tr style=\"background-color: hsl(120, 100.00%, 99.01%); border: none;\">\n",
       "    <td style=\"padding: 0 1em 0 0.5em; text-align: right; border: none;\">\n",
       "        +0.021\n",
       "    </td>\n",
       "    <td style=\"padding: 0 0.5em 0 0.5em; text-align: left; border: none;\">\n",
       "        weather_1_cloudy\n",
       "    </td>\n",
       "    \n",
       "</tr>\n",
       "        \n",
       "            <tr style=\"background-color: hsl(120, 100.00%, 99.35%); border: none;\">\n",
       "    <td style=\"padding: 0 1em 0 0.5em; text-align: right; border: none;\">\n",
       "        +0.012\n",
       "    </td>\n",
       "    <td style=\"padding: 0 0.5em 0 0.5em; text-align: left; border: none;\">\n",
       "        cellphone_in_use\n",
       "    </td>\n",
       "    \n",
       "</tr>\n",
       "        \n",
       "            <tr style=\"background-color: hsl(120, 100.00%, 99.87%); border: none;\">\n",
       "    <td style=\"padding: 0 1em 0 0.5em; text-align: right; border: none;\">\n",
       "        +0.001\n",
       "    </td>\n",
       "    <td style=\"padding: 0 0.5em 0 0.5em; text-align: left; border: none;\">\n",
       "        vehicle_age\n",
       "    </td>\n",
       "    \n",
       "</tr>\n",
       "        \n",
       "            <tr style=\"background-color: hsl(120, 100.00%, 99.89%); border: none;\">\n",
       "    <td style=\"padding: 0 1em 0 0.5em; text-align: right; border: none;\">\n",
       "        +0.001\n",
       "    </td>\n",
       "    <td style=\"padding: 0 0.5em 0 0.5em; text-align: left; border: none;\">\n",
       "        lighting_dusk or dawn\n",
       "    </td>\n",
       "    \n",
       "</tr>\n",
       "        \n",
       "        \n",
       "\n",
       "        \n",
       "        \n",
       "            <tr style=\"background-color: hsl(0, 100.00%, 99.80%); border: none;\">\n",
       "    <td style=\"padding: 0 1em 0 0.5em; text-align: right; border: none;\">\n",
       "        -0.002\n",
       "    </td>\n",
       "    <td style=\"padding: 0 0.5em 0 0.5em; text-align: left; border: none;\">\n",
       "        weather_1_raining\n",
       "    </td>\n",
       "    \n",
       "</tr>\n",
       "        \n",
       "            <tr style=\"background-color: hsl(0, 100.00%, 98.90%); border: none;\">\n",
       "    <td style=\"padding: 0 1em 0 0.5em; text-align: right; border: none;\">\n",
       "        -0.024\n",
       "    </td>\n",
       "    <td style=\"padding: 0 0.5em 0 0.5em; text-align: left; border: none;\">\n",
       "        intersection\n",
       "    </td>\n",
       "    \n",
       "</tr>\n",
       "        \n",
       "            <tr style=\"background-color: hsl(0, 100.00%, 98.11%); border: none;\">\n",
       "    <td style=\"padding: 0 1em 0 0.5em; text-align: right; border: none;\">\n",
       "        -0.053\n",
       "    </td>\n",
       "    <td style=\"padding: 0 0.5em 0 0.5em; text-align: left; border: none;\">\n",
       "        control_device_obscured\n",
       "    </td>\n",
       "    \n",
       "</tr>\n",
       "        \n",
       "            <tr style=\"background-color: hsl(0, 100.00%, 97.79%); border: none;\">\n",
       "    <td style=\"padding: 0 1em 0 0.5em; text-align: right; border: none;\">\n",
       "        -0.066\n",
       "    </td>\n",
       "    <td style=\"padding: 0 0.5em 0 0.5em; text-align: left; border: none;\">\n",
       "        party_sobriety_impairment unknown\n",
       "    </td>\n",
       "    \n",
       "</tr>\n",
       "        \n",
       "            <tr style=\"background-color: hsl(0, 100.00%, 97.32%); border: none;\">\n",
       "    <td style=\"padding: 0 1em 0 0.5em; text-align: right; border: none;\">\n",
       "        -0.087\n",
       "    </td>\n",
       "    <td style=\"padding: 0 0.5em 0 0.5em; text-align: left; border: none;\">\n",
       "        control_device_not functioning\n",
       "    </td>\n",
       "    \n",
       "</tr>\n",
       "        \n",
       "            <tr style=\"background-color: hsl(0, 100.00%, 96.59%); border: none;\">\n",
       "    <td style=\"padding: 0 1em 0 0.5em; text-align: right; border: none;\">\n",
       "        -0.123\n",
       "    </td>\n",
       "    <td style=\"padding: 0 0.5em 0 0.5em; text-align: left; border: none;\">\n",
       "        weather_1_snowing\n",
       "    </td>\n",
       "    \n",
       "</tr>\n",
       "        \n",
       "            <tr style=\"background-color: hsl(0, 100.00%, 95.51%); border: none;\">\n",
       "    <td style=\"padding: 0 1em 0 0.5em; text-align: right; border: none;\">\n",
       "        -0.182\n",
       "    </td>\n",
       "    <td style=\"padding: 0 0.5em 0 0.5em; text-align: left; border: none;\">\n",
       "        lighting_dark with street lights\n",
       "    </td>\n",
       "    \n",
       "</tr>\n",
       "        \n",
       "            <tr style=\"background-color: hsl(0, 100.00%, 94.89%); border: none;\">\n",
       "    <td style=\"padding: 0 1em 0 0.5em; text-align: right; border: none;\">\n",
       "        -0.219\n",
       "    </td>\n",
       "    <td style=\"padding: 0 0.5em 0 0.5em; text-align: left; border: none;\">\n",
       "        lighting_dark with street lights not functioning\n",
       "    </td>\n",
       "    \n",
       "</tr>\n",
       "        \n",
       "            <tr style=\"background-color: hsl(0, 100.00%, 94.04%); border: none;\">\n",
       "    <td style=\"padding: 0 1em 0 0.5em; text-align: right; border: none;\">\n",
       "        -0.273\n",
       "    </td>\n",
       "    <td style=\"padding: 0 0.5em 0 0.5em; text-align: left; border: none;\">\n",
       "        weather_1_wind\n",
       "    </td>\n",
       "    \n",
       "</tr>\n",
       "        \n",
       "            <tr style=\"background-color: hsl(0, 100.00%, 90.96%); border: none;\">\n",
       "    <td style=\"padding: 0 1em 0 0.5em; text-align: right; border: none;\">\n",
       "        -0.496\n",
       "    </td>\n",
       "    <td style=\"padding: 0 0.5em 0 0.5em; text-align: left; border: none;\">\n",
       "        party_sobriety_had been drinking, not under influence\n",
       "    </td>\n",
       "    \n",
       "</tr>\n",
       "        \n",
       "            <tr style=\"background-color: hsl(0, 100.00%, 81.42%); border: none;\">\n",
       "    <td style=\"padding: 0 1em 0 0.5em; text-align: right; border: none;\">\n",
       "        -1.387\n",
       "    </td>\n",
       "    <td style=\"padding: 0 0.5em 0 0.5em; text-align: left; border: none;\">\n",
       "        party_sobriety_had not been drinking\n",
       "    </td>\n",
       "    \n",
       "</tr>\n",
       "        \n",
       "            <tr style=\"background-color: hsl(0, 100.00%, 80.75%); border: none;\">\n",
       "    <td style=\"padding: 0 1em 0 0.5em; text-align: right; border: none;\">\n",
       "        -1.459\n",
       "    </td>\n",
       "    <td style=\"padding: 0 0.5em 0 0.5em; text-align: left; border: none;\">\n",
       "        party_sobriety_not applicable\n",
       "    </td>\n",
       "    \n",
       "</tr>\n",
       "        \n",
       "\n",
       "        </tbody>\n",
       "    </table>\n",
       "\n",
       "            \n",
       "        \n",
       "\n",
       "        \n",
       "\n",
       "\n",
       "\n",
       "    \n",
       "\n",
       "    \n",
       "\n",
       "    \n",
       "\n",
       "    \n",
       "\n",
       "\n",
       "    \n",
       "\n",
       "    \n",
       "\n",
       "    \n",
       "\n",
       "    \n",
       "\n",
       "    \n",
       "\n",
       "    \n",
       "\n",
       "\n",
       "    \n",
       "\n",
       "    \n",
       "\n",
       "    \n",
       "\n",
       "    \n",
       "\n",
       "    \n",
       "\n",
       "    \n",
       "\n",
       "\n",
       "\n"
      ],
      "text/plain": [
       "<IPython.core.display.HTML object>"
      ]
     },
     "execution_count": 56,
     "metadata": {},
     "output_type": "execute_result"
    }
   ],
   "source": [
    "#КОД РЕВЬЮЕРА\n",
    "\n",
    "!pip install eli5\n",
    "import eli5\n",
    "\n",
    "eli5.show_weights(estimator=grid_search_LR.best_estimator_, feature_names=list(features_test.columns), top=(20, 12))"
   ]
  },
  {
   "cell_type": "markdown",
   "id": "49a095d0",
   "metadata": {},
   "source": [
    "Данная модель больше всего обращает внимание на трезвость участника, а именно на показатель: \"Был пьян, под влиянием\"\n",
    "\n",
    "\n",
    "Для графического анализа будем использовать столбчатую диаграмму. В ней отразим зависимость числа ДТП от уровня трезвости."
   ]
  },
  {
   "cell_type": "code",
   "execution_count": 57,
   "id": "c3eef115",
   "metadata": {},
   "outputs": [
    {
     "data": {
      "text/html": [
       "<div>\n",
       "<style scoped>\n",
       "    .dataframe tbody tr th:only-of-type {\n",
       "        vertical-align: middle;\n",
       "    }\n",
       "\n",
       "    .dataframe tbody tr th {\n",
       "        vertical-align: top;\n",
       "    }\n",
       "\n",
       "    .dataframe thead th {\n",
       "        text-align: right;\n",
       "    }\n",
       "</style>\n",
       "<table border=\"1\" class=\"dataframe\">\n",
       "  <thead>\n",
       "    <tr style=\"text-align: right;\">\n",
       "      <th></th>\n",
       "      <th>party_sobriety</th>\n",
       "      <th>count_party_sobriety</th>\n",
       "    </tr>\n",
       "  </thead>\n",
       "  <tbody>\n",
       "    <tr>\n",
       "      <th>0</th>\n",
       "      <td>impairment unknown</td>\n",
       "      <td>232901</td>\n",
       "    </tr>\n",
       "    <tr>\n",
       "      <th>1</th>\n",
       "      <td>had been drinking, under influence</td>\n",
       "      <td>112413</td>\n",
       "    </tr>\n",
       "    <tr>\n",
       "      <th>2</th>\n",
       "      <td>had been drinking, impairment unknown</td>\n",
       "      <td>21419</td>\n",
       "    </tr>\n",
       "    <tr>\n",
       "      <th>3</th>\n",
       "      <td>had been drinking, not under influence</td>\n",
       "      <td>17650</td>\n",
       "    </tr>\n",
       "  </tbody>\n",
       "</table>\n",
       "</div>"
      ],
      "text/plain": [
       "                           party_sobriety  count_party_sobriety\n",
       "0                      impairment unknown                232901\n",
       "1      had been drinking, under influence                112413\n",
       "2   had been drinking, impairment unknown                 21419\n",
       "3  had been drinking, not under influence                 17650"
      ]
     },
     "execution_count": 57,
     "metadata": {},
     "output_type": "execute_result"
    }
   ],
   "source": [
    "query = '''\n",
    "select distinct party_sobriety,\n",
    "       count(case_id) count_party_sobriety\n",
    "from parties\n",
    "where party_sobriety != 'had not been drinking'\n",
    "   and party_sobriety != 'not applicable'\n",
    "group by party_sobriety\n",
    "order by count_party_sobriety desc\n",
    "'''\n",
    "party_sobriety = pd.read_sql_query(query, con=engine)\n",
    "party_sobriety"
   ]
  },
  {
   "cell_type": "code",
   "execution_count": 58,
   "id": "4758b707",
   "metadata": {
    "scrolled": true
   },
   "outputs": [
    {
     "data": {
      "image/png": "[encoded data removed]",
      "text/plain": [
       "<Figure size 432x288 with 1 Axes>"
      ]
     },
     "metadata": {},
     "output_type": "display_data"
    }
   ],
   "source": [
    "import seaborn as sns\n",
    "sns.barplot(data = party_sobriety, x='party_sobriety', y='count_party_sobriety')\n",
    "plt.title('Влияние уровня трезвости на вероятность ДТП')\n",
    "plt.xticks(rotation=70)\n",
    "plt.xlabel('Уровень трезвости')\n",
    "plt.ylabel('Количество аварий')\n",
    "plt.show()"
   ]
  },
  {
   "cell_type": "markdown",
   "id": "e724df21",
   "metadata": {},
   "source": [
    "**ВЫВОД:**\n",
    "\n",
    "- Выявили, что самый важный фактор ДТП — уровень трезвости виновника party_sobriety. \n",
    "\n",
    "- Из таблицы исходных данных известно: есть несколько уровней трезвости. Данная модель больше всего обращает внимание на трезвость участника, а именно на показатель: \"Был пьян, под влиянием\"\n",
    "\n",
    "- Предложение оборудовать автомобиль анализатором алкогольного опьянения и однократными экспресс-анализами образца биологической жидкости (слюны) на содержание наркотических веществ. \n",
    "\n",
    "- Измерение состояния при посадке сделать обязательным условием допуска за руль. А чтобы убедиться, что тесты проходит именно водитель, добавить камеру, направленную на водительское место. "
   ]
  },
  {
   "cell_type": "markdown",
   "id": "144956c2",
   "metadata": {},
   "source": [
    "## Выводы"
   ]
  },
  {
   "cell_type": "markdown",
   "id": "101e3671",
   "metadata": {},
   "source": [
    "**Таким образом лучшая модель Логистическая регрессия, проверив её на тестовой выборке, получили:**\n",
    "\n",
    "- Всего предсказаний: 19677\n",
    "- Правильно классифицированные: 57.0%\n",
    "- Правильно классифицированная вина: 52.0%\n",
    "- Правильно классифицированое отсутствие вины: 70.0%\n",
    "- Прогнозируемая вина, соответствующая действительности: 84.0%\n",
    "- Прогнозируемое отсутствие вины, которой так же на самом деле нет: 33.0%\n",
    "\n",
    "\n",
    "- Данная модель больше всего обращает внимание на трезвость участника, а именно на показатель: \"Был пьян, под влиянием\"\n",
    "\n",
    "- Так как самый важный фактор ДТП —  показатель: \"Был пьян, под влиянием\", то можно:\n",
    "\n",
    "* оборудовать автомобиль анализатором алкогольного опьянения и однократными экспресс-анализами образца биологической жидкости (слюны) на содержание наркотических веществ.\n",
    "\n",
    "* измерение состояния при посадке сделать обязательным условием допуска за руль, без этого машина не заведется\n",
    "\n",
    "* чтобы убедиться, что в трубку дышит именно водитель, добавить камеру, направленную на водительское место\n",
    "\n",
    "* чтобы убедиться, что в трубку дышит именно водитель, добавить отпечаток пальца или face id на водительском месте\n",
    "\n",
    "**Возможно создание адекватной системы оценка риска при выдаче авто, однако создание такой системы несёт существенные траты. Чтобы улучшить модель, необходимо соотнести траты на оборудование автомобилей и процент уменьшения ДТП. Предложение - оборудовать несколько автомобилей и проверить результат, а уже потом проводить массовое внедрение.**\n"
   ]
  }
 ],
 "metadata": {
  "ExecuteTimeLog": [
   {
    "duration": 2024,
    "start_time": "2023-03-10T10:38:40.609Z"
   },
   {
    "duration": 3,
    "start_time": "2023-03-10T10:38:42.635Z"
   },
   {
    "duration": 223,
    "start_time": "2023-03-10T11:08:55.178Z"
   },
   {
    "duration": 9870,
    "start_time": "2023-03-10T11:14:49.196Z"
   },
   {
    "duration": 140,
    "start_time": "2023-03-10T11:16:17.745Z"
   },
   {
    "duration": 1746,
    "start_time": "2023-03-10T11:20:14.019Z"
   },
   {
    "duration": 7,
    "start_time": "2023-03-10T11:20:15.767Z"
   },
   {
    "duration": 9106,
    "start_time": "2023-03-10T11:20:15.777Z"
   },
   {
    "duration": 282,
    "start_time": "2023-03-10T11:20:24.889Z"
   },
   {
    "duration": 55,
    "start_time": "2023-03-10T12:00:04.407Z"
   },
   {
    "duration": 47,
    "start_time": "2023-03-10T12:00:39.892Z"
   },
   {
    "duration": 66,
    "start_time": "2023-03-10T12:00:59.453Z"
   },
   {
    "duration": 1687,
    "start_time": "2023-03-10T12:01:08.549Z"
   },
   {
    "duration": 4,
    "start_time": "2023-03-10T12:01:10.238Z"
   },
   {
    "duration": 10670,
    "start_time": "2023-03-10T12:01:10.243Z"
   },
   {
    "duration": 272,
    "start_time": "2023-03-10T12:01:20.915Z"
   },
   {
    "duration": 52,
    "start_time": "2023-03-10T12:01:21.189Z"
   },
   {
    "duration": 63,
    "start_time": "2023-03-10T12:01:21.243Z"
   },
   {
    "duration": 54,
    "start_time": "2023-03-10T12:01:21.308Z"
   },
   {
    "duration": 264,
    "start_time": "2023-03-10T12:14:13.737Z"
   },
   {
    "duration": 393,
    "start_time": "2023-03-10T12:15:07.160Z"
   },
   {
    "duration": 1281,
    "start_time": "2023-03-10T13:37:43.171Z"
   },
   {
    "duration": 163,
    "start_time": "2023-03-10T13:38:59.809Z"
   },
   {
    "duration": 223,
    "start_time": "2023-03-10T13:49:28.594Z"
   },
   {
    "duration": 164,
    "start_time": "2023-03-10T13:50:13.743Z"
   },
   {
    "duration": 384,
    "start_time": "2023-03-10T14:21:39.072Z"
   },
   {
    "duration": 232,
    "start_time": "2023-03-10T14:21:58.936Z"
   },
   {
    "duration": 204,
    "start_time": "2023-03-10T14:22:08.528Z"
   },
   {
    "duration": 554,
    "start_time": "2023-03-10T14:23:08.498Z"
   },
   {
    "duration": 562,
    "start_time": "2023-03-10T14:24:05.562Z"
   },
   {
    "duration": 554,
    "start_time": "2023-03-10T14:24:12.702Z"
   },
   {
    "duration": 572,
    "start_time": "2023-03-10T14:25:19.664Z"
   },
   {
    "duration": 216,
    "start_time": "2023-03-10T14:31:42.473Z"
   },
   {
    "duration": 205,
    "start_time": "2023-03-10T14:37:24.500Z"
   },
   {
    "duration": 528,
    "start_time": "2023-03-10T14:37:38.530Z"
   },
   {
    "duration": 332,
    "start_time": "2023-03-10T14:41:15.403Z"
   },
   {
    "duration": 32,
    "start_time": "2023-03-10T14:50:01.003Z"
   },
   {
    "duration": 15,
    "start_time": "2023-03-10T14:51:37.833Z"
   },
   {
    "duration": 301,
    "start_time": "2023-03-10T14:51:45.421Z"
   },
   {
    "duration": 211,
    "start_time": "2023-03-10T14:52:40.128Z"
   },
   {
    "duration": 211,
    "start_time": "2023-03-10T14:53:37.118Z"
   },
   {
    "duration": 222,
    "start_time": "2023-03-10T14:54:50.599Z"
   },
   {
    "duration": 206,
    "start_time": "2023-03-10T14:55:01.258Z"
   },
   {
    "duration": 207,
    "start_time": "2023-03-10T14:55:17.711Z"
   },
   {
    "duration": 198,
    "start_time": "2023-03-10T14:55:44.216Z"
   },
   {
    "duration": 195,
    "start_time": "2023-03-10T14:56:11.911Z"
   },
   {
    "duration": 184,
    "start_time": "2023-03-10T14:56:27.228Z"
   },
   {
    "duration": 179,
    "start_time": "2023-03-10T14:56:49.710Z"
   },
   {
    "duration": 206,
    "start_time": "2023-03-10T14:57:12.416Z"
   },
   {
    "duration": 1729,
    "start_time": "2023-03-10T15:03:41.515Z"
   },
   {
    "duration": 4,
    "start_time": "2023-03-10T15:03:43.246Z"
   },
   {
    "duration": 10603,
    "start_time": "2023-03-10T15:03:43.251Z"
   },
   {
    "duration": 308,
    "start_time": "2023-03-10T15:03:53.856Z"
   },
   {
    "duration": 67,
    "start_time": "2023-03-10T15:03:54.167Z"
   },
   {
    "duration": 64,
    "start_time": "2023-03-10T15:03:54.236Z"
   },
   {
    "duration": 68,
    "start_time": "2023-03-10T15:03:54.301Z"
   },
   {
    "duration": 286,
    "start_time": "2023-03-10T15:03:54.371Z"
   },
   {
    "duration": 407,
    "start_time": "2023-03-10T15:03:54.659Z"
   },
   {
    "duration": 3143,
    "start_time": "2023-03-10T15:03:55.074Z"
   },
   {
    "duration": 158,
    "start_time": "2023-03-10T15:03:58.219Z"
   },
   {
    "duration": 223,
    "start_time": "2023-03-10T15:03:58.379Z"
   },
   {
    "duration": 151,
    "start_time": "2023-03-10T15:03:58.608Z"
   },
   {
    "duration": 564,
    "start_time": "2023-03-10T15:03:58.761Z"
   },
   {
    "duration": 291,
    "start_time": "2023-03-10T15:03:59.327Z"
   },
   {
    "duration": 1729,
    "start_time": "2023-03-10T19:22:11.891Z"
   },
   {
    "duration": 4,
    "start_time": "2023-03-10T19:22:13.622Z"
   },
   {
    "duration": 8479,
    "start_time": "2023-03-10T19:22:13.628Z"
   },
   {
    "duration": 586,
    "start_time": "2023-03-10T19:22:22.109Z"
   },
   {
    "duration": 43,
    "start_time": "2023-03-10T19:22:22.696Z"
   },
   {
    "duration": 53,
    "start_time": "2023-03-10T19:22:22.741Z"
   },
   {
    "duration": 53,
    "start_time": "2023-03-10T19:22:22.796Z"
   },
   {
    "duration": 245,
    "start_time": "2023-03-10T19:22:22.851Z"
   },
   {
    "duration": 333,
    "start_time": "2023-03-10T19:22:23.097Z"
   },
   {
    "duration": 1345,
    "start_time": "2023-03-10T19:22:23.432Z"
   },
   {
    "duration": 149,
    "start_time": "2023-03-10T19:22:24.779Z"
   },
   {
    "duration": 207,
    "start_time": "2023-03-10T19:22:24.930Z"
   },
   {
    "duration": 139,
    "start_time": "2023-03-10T19:22:25.139Z"
   },
   {
    "duration": 493,
    "start_time": "2023-03-10T19:22:25.280Z"
   },
   {
    "duration": 281,
    "start_time": "2023-03-10T19:22:25.775Z"
   },
   {
    "duration": 114,
    "start_time": "2023-03-10T19:26:29.235Z"
   },
   {
    "duration": 4627,
    "start_time": "2023-03-10T19:26:42.677Z"
   },
   {
    "duration": 131,
    "start_time": "2023-03-10T19:30:04.940Z"
   },
   {
    "duration": 1664,
    "start_time": "2023-03-10T19:44:46.445Z"
   },
   {
    "duration": 4,
    "start_time": "2023-03-10T19:44:48.111Z"
   },
   {
    "duration": 7804,
    "start_time": "2023-03-10T19:44:48.117Z"
   },
   {
    "duration": 253,
    "start_time": "2023-03-10T19:44:55.923Z"
   },
   {
    "duration": 44,
    "start_time": "2023-03-10T19:44:56.177Z"
   },
   {
    "duration": 54,
    "start_time": "2023-03-10T19:44:56.223Z"
   },
   {
    "duration": 54,
    "start_time": "2023-03-10T19:44:56.279Z"
   },
   {
    "duration": 240,
    "start_time": "2023-03-10T19:44:56.334Z"
   },
   {
    "duration": 362,
    "start_time": "2023-03-10T19:44:56.575Z"
   },
   {
    "duration": 1256,
    "start_time": "2023-03-10T19:44:56.940Z"
   },
   {
    "duration": 141,
    "start_time": "2023-03-10T19:44:58.198Z"
   },
   {
    "duration": 205,
    "start_time": "2023-03-10T19:44:58.341Z"
   },
   {
    "duration": 146,
    "start_time": "2023-03-10T19:44:58.547Z"
   },
   {
    "duration": 511,
    "start_time": "2023-03-10T19:44:58.695Z"
   },
   {
    "duration": 261,
    "start_time": "2023-03-10T19:44:59.208Z"
   },
   {
    "duration": 4766,
    "start_time": "2023-03-10T19:44:59.470Z"
   },
   {
    "duration": 149,
    "start_time": "2023-03-10T19:45:04.237Z"
   },
   {
    "duration": 1485,
    "start_time": "2023-03-10T19:47:09.351Z"
   },
   {
    "duration": 3,
    "start_time": "2023-03-10T19:47:10.838Z"
   },
   {
    "duration": 7963,
    "start_time": "2023-03-10T19:47:10.843Z"
   },
   {
    "duration": 262,
    "start_time": "2023-03-10T19:47:18.808Z"
   },
   {
    "duration": 44,
    "start_time": "2023-03-10T19:47:19.072Z"
   },
   {
    "duration": 55,
    "start_time": "2023-03-10T19:47:19.117Z"
   },
   {
    "duration": 54,
    "start_time": "2023-03-10T19:47:19.173Z"
   },
   {
    "duration": 241,
    "start_time": "2023-03-10T19:47:19.229Z"
   },
   {
    "duration": 349,
    "start_time": "2023-03-10T19:47:19.472Z"
   },
   {
    "duration": 1256,
    "start_time": "2023-03-10T19:47:19.825Z"
   },
   {
    "duration": 171,
    "start_time": "2023-03-10T19:47:21.083Z"
   },
   {
    "duration": 201,
    "start_time": "2023-03-10T19:47:21.256Z"
   },
   {
    "duration": 143,
    "start_time": "2023-03-10T19:47:21.458Z"
   },
   {
    "duration": 514,
    "start_time": "2023-03-10T19:47:21.603Z"
   },
   {
    "duration": 278,
    "start_time": "2023-03-10T19:47:22.119Z"
   },
   {
    "duration": 4778,
    "start_time": "2023-03-10T19:47:22.399Z"
   },
   {
    "duration": 153,
    "start_time": "2023-03-10T19:47:27.179Z"
   },
   {
    "duration": 1722,
    "start_time": "2023-03-11T07:01:15.364Z"
   },
   {
    "duration": 4,
    "start_time": "2023-03-11T07:01:17.089Z"
   },
   {
    "duration": 7042,
    "start_time": "2023-03-11T07:01:17.095Z"
   },
   {
    "duration": 85,
    "start_time": "2023-03-11T07:01:24.139Z"
   },
   {
    "duration": 11,
    "start_time": "2023-03-11T07:01:24.226Z"
   },
   {
    "duration": 31,
    "start_time": "2023-03-11T07:01:24.239Z"
   },
   {
    "duration": 27,
    "start_time": "2023-03-11T07:01:24.273Z"
   },
   {
    "duration": 216,
    "start_time": "2023-03-11T07:01:24.301Z"
   },
   {
    "duration": 348,
    "start_time": "2023-03-11T07:01:24.519Z"
   },
   {
    "duration": 1224,
    "start_time": "2023-03-11T07:01:24.877Z"
   },
   {
    "duration": 179,
    "start_time": "2023-03-11T07:01:26.102Z"
   },
   {
    "duration": 188,
    "start_time": "2023-03-11T07:01:26.283Z"
   },
   {
    "duration": 1621,
    "start_time": "2023-03-11T07:01:41.677Z"
   },
   {
    "duration": 3,
    "start_time": "2023-03-11T07:01:43.301Z"
   },
   {
    "duration": 7344,
    "start_time": "2023-03-11T07:01:43.305Z"
   },
   {
    "duration": 89,
    "start_time": "2023-03-11T07:01:50.651Z"
   },
   {
    "duration": 34,
    "start_time": "2023-03-11T07:01:50.756Z"
   },
   {
    "duration": 31,
    "start_time": "2023-03-11T07:01:50.792Z"
   },
   {
    "duration": 28,
    "start_time": "2023-03-11T07:01:50.825Z"
   },
   {
    "duration": 246,
    "start_time": "2023-03-11T07:01:50.855Z"
   },
   {
    "duration": 404,
    "start_time": "2023-03-11T07:01:51.104Z"
   },
   {
    "duration": 1273,
    "start_time": "2023-03-11T07:01:51.509Z"
   },
   {
    "duration": 144,
    "start_time": "2023-03-11T07:01:52.784Z"
   },
   {
    "duration": 172,
    "start_time": "2023-03-11T07:01:52.929Z"
   },
   {
    "duration": 164,
    "start_time": "2023-03-11T07:01:53.103Z"
   },
   {
    "duration": 481,
    "start_time": "2023-03-11T07:01:53.274Z"
   },
   {
    "duration": 293,
    "start_time": "2023-03-11T07:01:53.757Z"
   },
   {
    "duration": 5177,
    "start_time": "2023-03-11T07:01:54.053Z"
   },
   {
    "duration": 171,
    "start_time": "2023-03-11T07:01:59.232Z"
   },
   {
    "duration": 1750,
    "start_time": "2023-03-11T07:02:06.702Z"
   },
   {
    "duration": 4,
    "start_time": "2023-03-11T07:02:08.461Z"
   },
   {
    "duration": 6743,
    "start_time": "2023-03-11T07:02:08.471Z"
   },
   {
    "duration": 100,
    "start_time": "2023-03-11T07:02:15.216Z"
   },
   {
    "duration": 11,
    "start_time": "2023-03-11T07:02:15.319Z"
   },
   {
    "duration": 40,
    "start_time": "2023-03-11T07:02:15.331Z"
   },
   {
    "duration": 29,
    "start_time": "2023-03-11T07:02:15.375Z"
   },
   {
    "duration": 214,
    "start_time": "2023-03-11T07:02:15.406Z"
   },
   {
    "duration": 360,
    "start_time": "2023-03-11T07:02:15.622Z"
   },
   {
    "duration": 1248,
    "start_time": "2023-03-11T07:02:15.983Z"
   },
   {
    "duration": 194,
    "start_time": "2023-03-11T07:02:17.234Z"
   },
   {
    "duration": 188,
    "start_time": "2023-03-11T07:02:17.430Z"
   },
   {
    "duration": 193,
    "start_time": "2023-03-11T07:02:17.620Z"
   },
   {
    "duration": 482,
    "start_time": "2023-03-11T07:02:17.818Z"
   },
   {
    "duration": 295,
    "start_time": "2023-03-11T07:02:18.302Z"
   },
   {
    "duration": 4622,
    "start_time": "2023-03-11T07:02:18.598Z"
   },
   {
    "duration": 149,
    "start_time": "2023-03-11T07:02:23.222Z"
   },
   {
    "duration": 19143,
    "start_time": "2023-03-11T07:05:53.427Z"
   },
   {
    "duration": 20,
    "start_time": "2023-03-11T07:06:12.582Z"
   },
   {
    "duration": 58,
    "start_time": "2023-03-11T07:18:03.680Z"
   },
   {
    "duration": 1829,
    "start_time": "2023-03-11T07:23:11.061Z"
   },
   {
    "duration": 6,
    "start_time": "2023-03-11T07:23:12.894Z"
   },
   {
    "duration": 7851,
    "start_time": "2023-03-11T07:23:12.902Z"
   },
   {
    "duration": 74,
    "start_time": "2023-03-11T07:23:20.755Z"
   },
   {
    "duration": 19,
    "start_time": "2023-03-11T07:23:20.832Z"
   },
   {
    "duration": 54,
    "start_time": "2023-03-11T07:23:20.853Z"
   },
   {
    "duration": 20,
    "start_time": "2023-03-11T07:23:20.909Z"
   },
   {
    "duration": 265,
    "start_time": "2023-03-11T07:23:20.931Z"
   },
   {
    "duration": 402,
    "start_time": "2023-03-11T07:23:21.198Z"
   },
   {
    "duration": 1215,
    "start_time": "2023-03-11T07:23:21.602Z"
   },
   {
    "duration": 188,
    "start_time": "2023-03-11T07:23:22.819Z"
   },
   {
    "duration": 184,
    "start_time": "2023-03-11T07:23:23.009Z"
   },
   {
    "duration": 171,
    "start_time": "2023-03-11T07:23:23.195Z"
   },
   {
    "duration": 515,
    "start_time": "2023-03-11T07:23:23.378Z"
   },
   {
    "duration": 327,
    "start_time": "2023-03-11T07:23:23.896Z"
   },
   {
    "duration": 4706,
    "start_time": "2023-03-11T07:23:24.225Z"
   },
   {
    "duration": 188,
    "start_time": "2023-03-11T07:23:28.933Z"
   },
   {
    "duration": 279,
    "start_time": "2023-03-11T07:23:29.123Z"
   },
   {
    "duration": 0,
    "start_time": "2023-03-11T07:23:29.404Z"
   },
   {
    "duration": 21316,
    "start_time": "2023-03-11T07:23:47.567Z"
   },
   {
    "duration": 14,
    "start_time": "2023-03-11T07:24:08.885Z"
   },
   {
    "duration": 1714,
    "start_time": "2023-03-11T07:24:34.615Z"
   },
   {
    "duration": 4,
    "start_time": "2023-03-11T07:24:36.331Z"
   },
   {
    "duration": 6863,
    "start_time": "2023-03-11T07:24:36.337Z"
   },
   {
    "duration": 68,
    "start_time": "2023-03-11T07:24:43.201Z"
   },
   {
    "duration": 17,
    "start_time": "2023-03-11T07:24:43.276Z"
   },
   {
    "duration": 23,
    "start_time": "2023-03-11T07:24:43.295Z"
   },
   {
    "duration": 32,
    "start_time": "2023-03-11T07:24:43.320Z"
   },
   {
    "duration": 230,
    "start_time": "2023-03-11T07:24:43.357Z"
   },
   {
    "duration": 372,
    "start_time": "2023-03-11T07:24:43.589Z"
   },
   {
    "duration": 2092,
    "start_time": "2023-03-11T07:24:43.963Z"
   },
   {
    "duration": 143,
    "start_time": "2023-03-11T07:24:46.068Z"
   },
   {
    "duration": 172,
    "start_time": "2023-03-11T07:24:46.213Z"
   },
   {
    "duration": 164,
    "start_time": "2023-03-11T07:24:46.387Z"
   },
   {
    "duration": 529,
    "start_time": "2023-03-11T07:24:46.556Z"
   },
   {
    "duration": 297,
    "start_time": "2023-03-11T07:24:47.087Z"
   },
   {
    "duration": 4519,
    "start_time": "2023-03-11T07:24:47.386Z"
   },
   {
    "duration": 155,
    "start_time": "2023-03-11T07:24:51.906Z"
   },
   {
    "duration": 18964,
    "start_time": "2023-03-11T07:24:52.069Z"
   },
   {
    "duration": 24,
    "start_time": "2023-03-11T07:25:11.035Z"
   },
   {
    "duration": 1604,
    "start_time": "2023-03-11T07:25:50.285Z"
   },
   {
    "duration": 4,
    "start_time": "2023-03-11T07:25:51.892Z"
   },
   {
    "duration": 6704,
    "start_time": "2023-03-11T07:25:51.898Z"
   },
   {
    "duration": 101,
    "start_time": "2023-03-11T07:25:58.604Z"
   },
   {
    "duration": 12,
    "start_time": "2023-03-11T07:25:58.707Z"
   },
   {
    "duration": 34,
    "start_time": "2023-03-11T07:25:58.721Z"
   },
   {
    "duration": 36,
    "start_time": "2023-03-11T07:25:58.762Z"
   },
   {
    "duration": 205,
    "start_time": "2023-03-11T07:25:58.800Z"
   },
   {
    "duration": 337,
    "start_time": "2023-03-11T07:25:59.006Z"
   },
   {
    "duration": 1343,
    "start_time": "2023-03-11T07:25:59.345Z"
   },
   {
    "duration": 138,
    "start_time": "2023-03-11T07:26:00.690Z"
   },
   {
    "duration": 178,
    "start_time": "2023-03-11T07:26:00.830Z"
   },
   {
    "duration": 157,
    "start_time": "2023-03-11T07:26:01.010Z"
   },
   {
    "duration": 517,
    "start_time": "2023-03-11T07:26:01.174Z"
   },
   {
    "duration": 317,
    "start_time": "2023-03-11T07:26:01.693Z"
   },
   {
    "duration": 4471,
    "start_time": "2023-03-11T07:26:02.012Z"
   },
   {
    "duration": 135,
    "start_time": "2023-03-11T07:26:06.485Z"
   },
   {
    "duration": 25575,
    "start_time": "2023-03-11T07:26:06.622Z"
   },
   {
    "duration": 16,
    "start_time": "2023-03-11T07:26:32.199Z"
   },
   {
    "duration": 92,
    "start_time": "2023-03-11T07:26:46.890Z"
   },
   {
    "duration": 85,
    "start_time": "2023-03-11T07:27:11.377Z"
   },
   {
    "duration": 26,
    "start_time": "2023-03-11T07:28:46.194Z"
   },
   {
    "duration": 146,
    "start_time": "2023-03-11T07:28:49.292Z"
   },
   {
    "duration": 21,
    "start_time": "2023-03-11T07:28:54.206Z"
   },
   {
    "duration": 18,
    "start_time": "2023-03-11T07:29:21.110Z"
   },
   {
    "duration": 28,
    "start_time": "2023-03-11T07:29:33.773Z"
   },
   {
    "duration": 39,
    "start_time": "2023-03-11T07:33:01.847Z"
   },
   {
    "duration": 1696,
    "start_time": "2023-03-11T07:33:10.637Z"
   },
   {
    "duration": 12,
    "start_time": "2023-03-11T07:33:12.340Z"
   },
   {
    "duration": 6048,
    "start_time": "2023-03-11T07:33:12.362Z"
   },
   {
    "duration": 78,
    "start_time": "2023-03-11T07:33:18.412Z"
   },
   {
    "duration": 13,
    "start_time": "2023-03-11T07:33:18.492Z"
   },
   {
    "duration": 23,
    "start_time": "2023-03-11T07:33:18.506Z"
   },
   {
    "duration": 41,
    "start_time": "2023-03-11T07:33:18.531Z"
   },
   {
    "duration": 207,
    "start_time": "2023-03-11T07:33:18.575Z"
   },
   {
    "duration": 334,
    "start_time": "2023-03-11T07:33:18.784Z"
   },
   {
    "duration": 1248,
    "start_time": "2023-03-11T07:33:19.119Z"
   },
   {
    "duration": 174,
    "start_time": "2023-03-11T07:33:20.369Z"
   },
   {
    "duration": 177,
    "start_time": "2023-03-11T07:33:20.545Z"
   },
   {
    "duration": 163,
    "start_time": "2023-03-11T07:33:20.724Z"
   },
   {
    "duration": 486,
    "start_time": "2023-03-11T07:33:20.889Z"
   },
   {
    "duration": 283,
    "start_time": "2023-03-11T07:33:21.377Z"
   },
   {
    "duration": 4545,
    "start_time": "2023-03-11T07:33:21.665Z"
   },
   {
    "duration": 162,
    "start_time": "2023-03-11T07:33:26.212Z"
   },
   {
    "duration": 23401,
    "start_time": "2023-03-11T07:33:26.376Z"
   },
   {
    "duration": 17,
    "start_time": "2023-03-11T07:33:49.781Z"
   },
   {
    "duration": 93,
    "start_time": "2023-03-11T07:33:49.799Z"
   },
   {
    "duration": 70,
    "start_time": "2023-03-11T07:33:49.893Z"
   },
   {
    "duration": 30,
    "start_time": "2023-03-11T07:33:49.970Z"
   },
   {
    "duration": 171,
    "start_time": "2023-03-11T07:34:03.731Z"
   },
   {
    "duration": 1652,
    "start_time": "2023-03-11T07:34:12.969Z"
   },
   {
    "duration": 4,
    "start_time": "2023-03-11T07:34:14.623Z"
   },
   {
    "duration": 7004,
    "start_time": "2023-03-11T07:34:14.628Z"
   },
   {
    "duration": 89,
    "start_time": "2023-03-11T07:34:21.634Z"
   },
   {
    "duration": 20,
    "start_time": "2023-03-11T07:34:21.726Z"
   },
   {
    "duration": 89,
    "start_time": "2023-03-11T07:34:21.749Z"
   },
   {
    "duration": 35,
    "start_time": "2023-03-11T07:34:21.840Z"
   },
   {
    "duration": 246,
    "start_time": "2023-03-11T07:34:21.877Z"
   },
   {
    "duration": 427,
    "start_time": "2023-03-11T07:34:22.126Z"
   },
   {
    "duration": 2948,
    "start_time": "2023-03-11T07:34:22.554Z"
   },
   {
    "duration": 182,
    "start_time": "2023-03-11T07:34:25.504Z"
   },
   {
    "duration": 197,
    "start_time": "2023-03-11T07:34:25.688Z"
   },
   {
    "duration": 161,
    "start_time": "2023-03-11T07:34:25.887Z"
   },
   {
    "duration": 539,
    "start_time": "2023-03-11T07:34:26.053Z"
   },
   {
    "duration": 326,
    "start_time": "2023-03-11T07:34:26.594Z"
   },
   {
    "duration": 1792,
    "start_time": "2023-03-11T07:34:31.146Z"
   },
   {
    "duration": 9,
    "start_time": "2023-03-11T07:34:32.948Z"
   },
   {
    "duration": 7023,
    "start_time": "2023-03-11T07:34:32.960Z"
   },
   {
    "duration": 47,
    "start_time": "2023-03-11T07:34:39.988Z"
   },
   {
    "duration": 32,
    "start_time": "2023-03-11T07:34:40.037Z"
   },
   {
    "duration": 31,
    "start_time": "2023-03-11T07:34:40.071Z"
   },
   {
    "duration": 19,
    "start_time": "2023-03-11T07:34:40.104Z"
   },
   {
    "duration": 205,
    "start_time": "2023-03-11T07:34:40.124Z"
   },
   {
    "duration": 405,
    "start_time": "2023-03-11T07:34:40.331Z"
   },
   {
    "duration": 1268,
    "start_time": "2023-03-11T07:34:40.738Z"
   },
   {
    "duration": 177,
    "start_time": "2023-03-11T07:34:42.008Z"
   },
   {
    "duration": 205,
    "start_time": "2023-03-11T07:34:42.186Z"
   },
   {
    "duration": 168,
    "start_time": "2023-03-11T07:34:42.393Z"
   },
   {
    "duration": 525,
    "start_time": "2023-03-11T07:34:42.565Z"
   },
   {
    "duration": 321,
    "start_time": "2023-03-11T07:34:43.091Z"
   },
   {
    "duration": 4774,
    "start_time": "2023-03-11T07:34:43.413Z"
   },
   {
    "duration": 162,
    "start_time": "2023-03-11T07:34:48.188Z"
   },
   {
    "duration": 23403,
    "start_time": "2023-03-11T07:34:48.352Z"
   },
   {
    "duration": 18,
    "start_time": "2023-03-11T07:35:11.757Z"
   },
   {
    "duration": 127,
    "start_time": "2023-03-11T07:35:11.777Z"
   },
   {
    "duration": 88,
    "start_time": "2023-03-11T07:35:11.913Z"
   },
   {
    "duration": 191,
    "start_time": "2023-03-11T07:35:12.002Z"
   },
   {
    "duration": 9,
    "start_time": "2023-03-11T07:35:32.382Z"
   },
   {
    "duration": 1613,
    "start_time": "2023-03-11T07:35:39.190Z"
   },
   {
    "duration": 3,
    "start_time": "2023-03-11T07:35:40.805Z"
   },
   {
    "duration": 6472,
    "start_time": "2023-03-11T07:35:40.810Z"
   },
   {
    "duration": 86,
    "start_time": "2023-03-11T07:35:47.284Z"
   },
   {
    "duration": 30,
    "start_time": "2023-03-11T07:35:47.388Z"
   },
   {
    "duration": 64,
    "start_time": "2023-03-11T07:35:47.421Z"
   },
   {
    "duration": 28,
    "start_time": "2023-03-11T07:35:47.493Z"
   },
   {
    "duration": 207,
    "start_time": "2023-03-11T07:35:47.524Z"
   },
   {
    "duration": 447,
    "start_time": "2023-03-11T07:35:47.733Z"
   },
   {
    "duration": 3221,
    "start_time": "2023-03-11T07:35:48.182Z"
   },
   {
    "duration": 170,
    "start_time": "2023-03-11T07:35:51.405Z"
   },
   {
    "duration": 213,
    "start_time": "2023-03-11T07:35:51.576Z"
   },
   {
    "duration": 165,
    "start_time": "2023-03-11T07:35:51.791Z"
   },
   {
    "duration": 475,
    "start_time": "2023-03-11T07:35:51.960Z"
   },
   {
    "duration": 287,
    "start_time": "2023-03-11T07:35:52.437Z"
   },
   {
    "duration": 4326,
    "start_time": "2023-03-11T07:35:52.725Z"
   },
   {
    "duration": 161,
    "start_time": "2023-03-11T07:35:57.053Z"
   },
   {
    "duration": 17006,
    "start_time": "2023-03-11T07:35:57.215Z"
   },
   {
    "duration": 14,
    "start_time": "2023-03-11T07:36:14.223Z"
   },
   {
    "duration": 91,
    "start_time": "2023-03-11T07:36:14.241Z"
   },
   {
    "duration": 79,
    "start_time": "2023-03-11T07:36:14.334Z"
   },
   {
    "duration": 47,
    "start_time": "2023-03-11T07:36:14.415Z"
   },
   {
    "duration": 130,
    "start_time": "2023-03-11T07:36:32.801Z"
   },
   {
    "duration": 9,
    "start_time": "2023-03-11T07:36:48.222Z"
   },
   {
    "duration": 15,
    "start_time": "2023-03-11T07:36:52.968Z"
   },
   {
    "duration": 1735,
    "start_time": "2023-03-11T07:37:00.218Z"
   },
   {
    "duration": 8,
    "start_time": "2023-03-11T07:37:01.956Z"
   },
   {
    "duration": 6683,
    "start_time": "2023-03-11T07:37:01.967Z"
   },
   {
    "duration": 64,
    "start_time": "2023-03-11T07:37:08.652Z"
   },
   {
    "duration": 12,
    "start_time": "2023-03-11T07:37:08.718Z"
   },
   {
    "duration": 31,
    "start_time": "2023-03-11T07:37:08.732Z"
   },
   {
    "duration": 32,
    "start_time": "2023-03-11T07:37:08.765Z"
   },
   {
    "duration": 203,
    "start_time": "2023-03-11T07:37:08.800Z"
   },
   {
    "duration": 395,
    "start_time": "2023-03-11T07:37:09.006Z"
   },
   {
    "duration": 1269,
    "start_time": "2023-03-11T07:37:09.403Z"
   },
   {
    "duration": 181,
    "start_time": "2023-03-11T07:37:10.679Z"
   },
   {
    "duration": 187,
    "start_time": "2023-03-11T07:37:10.861Z"
   },
   {
    "duration": 160,
    "start_time": "2023-03-11T07:37:11.050Z"
   },
   {
    "duration": 473,
    "start_time": "2023-03-11T07:37:11.212Z"
   },
   {
    "duration": 322,
    "start_time": "2023-03-11T07:37:11.687Z"
   },
   {
    "duration": 4590,
    "start_time": "2023-03-11T07:37:12.010Z"
   },
   {
    "duration": 167,
    "start_time": "2023-03-11T07:37:16.602Z"
   },
   {
    "duration": 26015,
    "start_time": "2023-03-11T07:37:16.774Z"
   },
   {
    "duration": 15,
    "start_time": "2023-03-11T07:37:42.791Z"
   },
   {
    "duration": 95,
    "start_time": "2023-03-11T07:37:42.807Z"
   },
   {
    "duration": 82,
    "start_time": "2023-03-11T07:37:42.904Z"
   },
   {
    "duration": 17,
    "start_time": "2023-03-11T07:37:42.987Z"
   },
   {
    "duration": 13,
    "start_time": "2023-03-11T07:37:43.006Z"
   },
   {
    "duration": 111,
    "start_time": "2023-03-11T07:40:52.878Z"
   },
   {
    "duration": 37,
    "start_time": "2023-03-11T07:41:16.676Z"
   },
   {
    "duration": 67,
    "start_time": "2023-03-11T07:41:30.872Z"
   },
   {
    "duration": 76,
    "start_time": "2023-03-11T07:42:06.422Z"
   },
   {
    "duration": 431,
    "start_time": "2023-03-11T07:46:10.264Z"
   },
   {
    "duration": 5,
    "start_time": "2023-03-11T07:52:45.035Z"
   },
   {
    "duration": 1650,
    "start_time": "2023-03-11T08:36:56.419Z"
   },
   {
    "duration": 4,
    "start_time": "2023-03-11T08:36:58.071Z"
   },
   {
    "duration": 5162,
    "start_time": "2023-03-11T08:36:58.076Z"
   },
   {
    "duration": 50,
    "start_time": "2023-03-11T08:37:03.240Z"
   },
   {
    "duration": 11,
    "start_time": "2023-03-11T08:37:03.292Z"
   },
   {
    "duration": 31,
    "start_time": "2023-03-11T08:37:03.305Z"
   },
   {
    "duration": 26,
    "start_time": "2023-03-11T08:37:03.338Z"
   },
   {
    "duration": 220,
    "start_time": "2023-03-11T08:37:03.366Z"
   },
   {
    "duration": 347,
    "start_time": "2023-03-11T08:37:03.588Z"
   },
   {
    "duration": 1290,
    "start_time": "2023-03-11T08:37:03.941Z"
   },
   {
    "duration": 354,
    "start_time": "2023-03-11T08:37:05.241Z"
   },
   {
    "duration": 184,
    "start_time": "2023-03-11T08:37:05.596Z"
   },
   {
    "duration": 138,
    "start_time": "2023-03-11T08:37:05.781Z"
   },
   {
    "duration": 475,
    "start_time": "2023-03-11T08:37:05.923Z"
   },
   {
    "duration": 257,
    "start_time": "2023-03-11T08:37:06.399Z"
   },
   {
    "duration": 4639,
    "start_time": "2023-03-11T08:37:06.658Z"
   },
   {
    "duration": 137,
    "start_time": "2023-03-11T08:37:11.299Z"
   },
   {
    "duration": 18796,
    "start_time": "2023-03-11T08:37:11.443Z"
   },
   {
    "duration": 15,
    "start_time": "2023-03-11T08:37:30.241Z"
   },
   {
    "duration": 110,
    "start_time": "2023-03-11T08:37:30.257Z"
   },
   {
    "duration": 83,
    "start_time": "2023-03-11T08:37:30.369Z"
   },
   {
    "duration": 48,
    "start_time": "2023-03-11T08:37:30.454Z"
   },
   {
    "duration": 30,
    "start_time": "2023-03-11T08:37:30.504Z"
   },
   {
    "duration": 139,
    "start_time": "2023-03-11T08:37:30.536Z"
   },
   {
    "duration": 42,
    "start_time": "2023-03-11T08:37:30.677Z"
   },
   {
    "duration": 89,
    "start_time": "2023-03-11T08:37:30.721Z"
   },
   {
    "duration": 104,
    "start_time": "2023-03-11T08:37:30.812Z"
   },
   {
    "duration": 50,
    "start_time": "2023-03-11T08:37:30.918Z"
   },
   {
    "duration": 0,
    "start_time": "2023-03-11T08:37:30.970Z"
   },
   {
    "duration": 0,
    "start_time": "2023-03-11T08:37:30.971Z"
   },
   {
    "duration": 0,
    "start_time": "2023-03-11T08:37:30.972Z"
   },
   {
    "duration": 0,
    "start_time": "2023-03-11T08:37:30.973Z"
   },
   {
    "duration": 0,
    "start_time": "2023-03-11T08:37:30.974Z"
   },
   {
    "duration": 1404,
    "start_time": "2023-03-11T08:49:42.791Z"
   },
   {
    "duration": 6,
    "start_time": "2023-03-11T08:49:44.197Z"
   },
   {
    "duration": 4588,
    "start_time": "2023-03-11T08:49:44.205Z"
   },
   {
    "duration": 61,
    "start_time": "2023-03-11T08:49:48.795Z"
   },
   {
    "duration": 12,
    "start_time": "2023-03-11T08:49:48.859Z"
   },
   {
    "duration": 22,
    "start_time": "2023-03-11T08:49:48.872Z"
   },
   {
    "duration": 47,
    "start_time": "2023-03-11T08:49:48.896Z"
   },
   {
    "duration": 216,
    "start_time": "2023-03-11T08:49:48.945Z"
   },
   {
    "duration": 327,
    "start_time": "2023-03-11T08:49:49.163Z"
   },
   {
    "duration": 1244,
    "start_time": "2023-03-11T08:49:49.492Z"
   },
   {
    "duration": 145,
    "start_time": "2023-03-11T08:49:50.737Z"
   },
   {
    "duration": 182,
    "start_time": "2023-03-11T08:49:50.884Z"
   },
   {
    "duration": 145,
    "start_time": "2023-03-11T08:49:51.068Z"
   },
   {
    "duration": 3534,
    "start_time": "2023-03-11T08:49:51.217Z"
   },
   {
    "duration": 254,
    "start_time": "2023-03-11T08:49:54.753Z"
   },
   {
    "duration": 5203,
    "start_time": "2023-03-11T08:49:55.010Z"
   },
   {
    "duration": 136,
    "start_time": "2023-03-11T08:50:00.215Z"
   },
   {
    "duration": 23765,
    "start_time": "2023-03-11T08:50:00.353Z"
   },
   {
    "duration": 22,
    "start_time": "2023-03-11T08:50:24.121Z"
   },
   {
    "duration": 98,
    "start_time": "2023-03-11T08:50:24.145Z"
   },
   {
    "duration": 109,
    "start_time": "2023-03-11T08:50:24.245Z"
   },
   {
    "duration": 29,
    "start_time": "2023-03-11T08:50:24.356Z"
   },
   {
    "duration": 18,
    "start_time": "2023-03-11T08:50:24.387Z"
   },
   {
    "duration": 145,
    "start_time": "2023-03-11T08:50:24.408Z"
   },
   {
    "duration": 38,
    "start_time": "2023-03-11T08:50:24.555Z"
   },
   {
    "duration": 81,
    "start_time": "2023-03-11T08:50:24.594Z"
   },
   {
    "duration": 86,
    "start_time": "2023-03-11T08:50:24.677Z"
   },
   {
    "duration": 3,
    "start_time": "2023-03-11T08:50:24.765Z"
   },
   {
    "duration": 8,
    "start_time": "2023-03-11T08:50:24.770Z"
   },
   {
    "duration": 5,
    "start_time": "2023-03-11T08:50:24.780Z"
   },
   {
    "duration": 5,
    "start_time": "2023-03-11T08:50:24.787Z"
   },
   {
    "duration": 65,
    "start_time": "2023-03-11T08:50:24.794Z"
   },
   {
    "duration": 38,
    "start_time": "2023-03-11T08:55:35.795Z"
   },
   {
    "duration": 1559,
    "start_time": "2023-03-11T08:59:11.311Z"
   },
   {
    "duration": 4,
    "start_time": "2023-03-11T08:59:12.872Z"
   },
   {
    "duration": 4749,
    "start_time": "2023-03-11T08:59:12.877Z"
   },
   {
    "duration": 83,
    "start_time": "2023-03-11T08:59:17.629Z"
   },
   {
    "duration": 20,
    "start_time": "2023-03-11T08:59:17.715Z"
   },
   {
    "duration": 35,
    "start_time": "2023-03-11T08:59:17.738Z"
   },
   {
    "duration": 34,
    "start_time": "2023-03-11T08:59:17.774Z"
   },
   {
    "duration": 220,
    "start_time": "2023-03-11T08:59:17.811Z"
   },
   {
    "duration": 351,
    "start_time": "2023-03-11T08:59:18.033Z"
   },
   {
    "duration": 1261,
    "start_time": "2023-03-11T08:59:18.386Z"
   },
   {
    "duration": 147,
    "start_time": "2023-03-11T08:59:19.649Z"
   },
   {
    "duration": 175,
    "start_time": "2023-03-11T08:59:19.799Z"
   },
   {
    "duration": 130,
    "start_time": "2023-03-11T08:59:19.976Z"
   },
   {
    "duration": 492,
    "start_time": "2023-03-11T08:59:20.107Z"
   },
   {
    "duration": 250,
    "start_time": "2023-03-11T08:59:20.600Z"
   },
   {
    "duration": 4671,
    "start_time": "2023-03-11T08:59:20.852Z"
   },
   {
    "duration": 139,
    "start_time": "2023-03-11T08:59:25.524Z"
   },
   {
    "duration": 22859,
    "start_time": "2023-03-11T08:59:25.664Z"
   },
   {
    "duration": 18,
    "start_time": "2023-03-11T08:59:48.525Z"
   },
   {
    "duration": 97,
    "start_time": "2023-03-11T08:59:48.544Z"
   },
   {
    "duration": 85,
    "start_time": "2023-03-11T08:59:48.643Z"
   },
   {
    "duration": 22,
    "start_time": "2023-03-11T08:59:48.741Z"
   },
   {
    "duration": 15,
    "start_time": "2023-03-11T08:59:48.765Z"
   },
   {
    "duration": 124,
    "start_time": "2023-03-11T08:59:48.782Z"
   },
   {
    "duration": 50,
    "start_time": "2023-03-11T08:59:48.908Z"
   },
   {
    "duration": 95,
    "start_time": "2023-03-11T08:59:48.961Z"
   },
   {
    "duration": 91,
    "start_time": "2023-03-11T08:59:49.059Z"
   },
   {
    "duration": 3,
    "start_time": "2023-03-11T08:59:49.153Z"
   },
   {
    "duration": 8,
    "start_time": "2023-03-11T08:59:49.158Z"
   },
   {
    "duration": 5,
    "start_time": "2023-03-11T08:59:49.167Z"
   },
   {
    "duration": 8,
    "start_time": "2023-03-11T08:59:49.173Z"
   },
   {
    "duration": 81,
    "start_time": "2023-03-11T08:59:49.182Z"
   },
   {
    "duration": 1629,
    "start_time": "2023-03-11T09:01:33.479Z"
   },
   {
    "duration": 3,
    "start_time": "2023-03-11T09:01:35.111Z"
   },
   {
    "duration": 4682,
    "start_time": "2023-03-11T09:01:35.116Z"
   },
   {
    "duration": 51,
    "start_time": "2023-03-11T09:01:39.800Z"
   },
   {
    "duration": 13,
    "start_time": "2023-03-11T09:01:39.854Z"
   },
   {
    "duration": 27,
    "start_time": "2023-03-11T09:01:39.869Z"
   },
   {
    "duration": 41,
    "start_time": "2023-03-11T09:01:39.899Z"
   },
   {
    "duration": 218,
    "start_time": "2023-03-11T09:01:39.942Z"
   },
   {
    "duration": 351,
    "start_time": "2023-03-11T09:01:40.162Z"
   },
   {
    "duration": 1287,
    "start_time": "2023-03-11T09:01:40.515Z"
   },
   {
    "duration": 172,
    "start_time": "2023-03-11T09:01:41.804Z"
   },
   {
    "duration": 181,
    "start_time": "2023-03-11T09:01:41.978Z"
   },
   {
    "duration": 152,
    "start_time": "2023-03-11T09:01:42.162Z"
   },
   {
    "duration": 512,
    "start_time": "2023-03-11T09:01:42.317Z"
   },
   {
    "duration": 312,
    "start_time": "2023-03-11T09:01:42.831Z"
   },
   {
    "duration": 4719,
    "start_time": "2023-03-11T09:01:43.145Z"
   },
   {
    "duration": 158,
    "start_time": "2023-03-11T09:01:47.865Z"
   },
   {
    "duration": 21032,
    "start_time": "2023-03-11T09:01:48.025Z"
   },
   {
    "duration": 16,
    "start_time": "2023-03-11T09:02:09.059Z"
   },
   {
    "duration": 101,
    "start_time": "2023-03-11T09:02:09.077Z"
   },
   {
    "duration": 87,
    "start_time": "2023-03-11T09:02:09.180Z"
   },
   {
    "duration": 29,
    "start_time": "2023-03-11T09:02:09.268Z"
   },
   {
    "duration": 15,
    "start_time": "2023-03-11T09:02:09.299Z"
   },
   {
    "duration": 156,
    "start_time": "2023-03-11T09:02:09.316Z"
   },
   {
    "duration": 41,
    "start_time": "2023-03-11T09:02:09.474Z"
   },
   {
    "duration": 85,
    "start_time": "2023-03-11T09:02:09.517Z"
   },
   {
    "duration": 90,
    "start_time": "2023-03-11T09:02:09.603Z"
   },
   {
    "duration": 24,
    "start_time": "2023-03-11T09:02:09.694Z"
   },
   {
    "duration": 18,
    "start_time": "2023-03-11T09:02:09.720Z"
   },
   {
    "duration": 25,
    "start_time": "2023-03-11T09:02:09.740Z"
   },
   {
    "duration": 44,
    "start_time": "2023-03-11T09:02:09.767Z"
   },
   {
    "duration": 76,
    "start_time": "2023-03-11T09:02:09.813Z"
   },
   {
    "duration": 144,
    "start_time": "2023-03-11T09:02:09.891Z"
   },
   {
    "duration": 0,
    "start_time": "2023-03-11T09:02:10.041Z"
   },
   {
    "duration": 0,
    "start_time": "2023-03-11T09:02:10.042Z"
   },
   {
    "duration": 0,
    "start_time": "2023-03-11T09:02:10.043Z"
   },
   {
    "duration": 0,
    "start_time": "2023-03-11T09:02:10.044Z"
   },
   {
    "duration": 681,
    "start_time": "2023-03-11T09:03:07.348Z"
   },
   {
    "duration": 16,
    "start_time": "2023-03-11T09:03:10.494Z"
   },
   {
    "duration": 162,
    "start_time": "2023-03-11T09:03:21.259Z"
   },
   {
    "duration": 62,
    "start_time": "2023-03-11T09:03:23.861Z"
   },
   {
    "duration": 31,
    "start_time": "2023-03-11T09:03:24.820Z"
   },
   {
    "duration": 41,
    "start_time": "2023-03-11T09:03:25.980Z"
   },
   {
    "duration": 1761,
    "start_time": "2023-03-11T09:03:56.127Z"
   },
   {
    "duration": 3,
    "start_time": "2023-03-11T09:03:57.890Z"
   },
   {
    "duration": 4648,
    "start_time": "2023-03-11T09:03:57.895Z"
   },
   {
    "duration": 46,
    "start_time": "2023-03-11T09:04:02.545Z"
   },
   {
    "duration": 12,
    "start_time": "2023-03-11T09:04:02.592Z"
   },
   {
    "duration": 25,
    "start_time": "2023-03-11T09:04:02.606Z"
   },
   {
    "duration": 31,
    "start_time": "2023-03-11T09:04:02.632Z"
   },
   {
    "duration": 239,
    "start_time": "2023-03-11T09:04:02.665Z"
   },
   {
    "duration": 343,
    "start_time": "2023-03-11T09:04:02.906Z"
   },
   {
    "duration": 1277,
    "start_time": "2023-03-11T09:04:03.252Z"
   },
   {
    "duration": 155,
    "start_time": "2023-03-11T09:04:04.531Z"
   },
   {
    "duration": 178,
    "start_time": "2023-03-11T09:04:04.688Z"
   },
   {
    "duration": 142,
    "start_time": "2023-03-11T09:04:04.868Z"
   },
   {
    "duration": 520,
    "start_time": "2023-03-11T09:04:05.012Z"
   },
   {
    "duration": 284,
    "start_time": "2023-03-11T09:04:05.534Z"
   },
   {
    "duration": 4529,
    "start_time": "2023-03-11T09:04:05.821Z"
   },
   {
    "duration": 158,
    "start_time": "2023-03-11T09:04:10.353Z"
   },
   {
    "duration": 17150,
    "start_time": "2023-03-11T09:04:10.513Z"
   },
   {
    "duration": 20,
    "start_time": "2023-03-11T09:04:27.665Z"
   },
   {
    "duration": 108,
    "start_time": "2023-03-11T09:04:27.687Z"
   },
   {
    "duration": 102,
    "start_time": "2023-03-11T09:04:27.798Z"
   },
   {
    "duration": 41,
    "start_time": "2023-03-11T09:04:27.902Z"
   },
   {
    "duration": 15,
    "start_time": "2023-03-11T09:04:27.945Z"
   },
   {
    "duration": 146,
    "start_time": "2023-03-11T09:04:27.962Z"
   },
   {
    "duration": 50,
    "start_time": "2023-03-11T09:04:28.110Z"
   },
   {
    "duration": 84,
    "start_time": "2023-03-11T09:04:28.162Z"
   },
   {
    "duration": 96,
    "start_time": "2023-03-11T09:04:28.248Z"
   },
   {
    "duration": 3,
    "start_time": "2023-03-11T09:04:28.348Z"
   },
   {
    "duration": 37,
    "start_time": "2023-03-11T09:04:28.353Z"
   },
   {
    "duration": 24,
    "start_time": "2023-03-11T09:04:28.392Z"
   },
   {
    "duration": 11,
    "start_time": "2023-03-11T09:04:28.418Z"
   },
   {
    "duration": 77,
    "start_time": "2023-03-11T09:04:28.431Z"
   },
   {
    "duration": 676,
    "start_time": "2023-03-11T09:04:28.510Z"
   },
   {
    "duration": 231,
    "start_time": "2023-03-11T09:04:29.188Z"
   },
   {
    "duration": 74,
    "start_time": "2023-03-11T09:04:29.422Z"
   },
   {
    "duration": 44,
    "start_time": "2023-03-11T09:04:29.498Z"
   },
   {
    "duration": 61,
    "start_time": "2023-03-11T09:04:29.545Z"
   },
   {
    "duration": 1767,
    "start_time": "2023-03-11T09:24:49.283Z"
   },
   {
    "duration": 12,
    "start_time": "2023-03-11T09:24:51.062Z"
   },
   {
    "duration": 6664,
    "start_time": "2023-03-11T09:24:51.076Z"
   },
   {
    "duration": 111,
    "start_time": "2023-03-11T09:24:57.750Z"
   },
   {
    "duration": 41,
    "start_time": "2023-03-11T09:24:57.869Z"
   },
   {
    "duration": 51,
    "start_time": "2023-03-11T09:24:57.912Z"
   },
   {
    "duration": 42,
    "start_time": "2023-03-11T09:24:57.965Z"
   },
   {
    "duration": 214,
    "start_time": "2023-03-11T09:24:58.009Z"
   },
   {
    "duration": 380,
    "start_time": "2023-03-11T09:24:58.225Z"
   },
   {
    "duration": 1260,
    "start_time": "2023-03-11T09:24:58.607Z"
   },
   {
    "duration": 160,
    "start_time": "2023-03-11T09:24:59.869Z"
   },
   {
    "duration": 180,
    "start_time": "2023-03-11T09:25:00.031Z"
   },
   {
    "duration": 156,
    "start_time": "2023-03-11T09:25:00.213Z"
   },
   {
    "duration": 513,
    "start_time": "2023-03-11T09:25:00.375Z"
   },
   {
    "duration": 299,
    "start_time": "2023-03-11T09:25:00.890Z"
   },
   {
    "duration": 3090,
    "start_time": "2023-03-11T09:25:01.191Z"
   },
   {
    "duration": 185,
    "start_time": "2023-03-11T09:25:04.283Z"
   },
   {
    "duration": 25228,
    "start_time": "2023-03-11T09:25:04.472Z"
   },
   {
    "duration": 14,
    "start_time": "2023-03-11T09:25:29.702Z"
   },
   {
    "duration": 106,
    "start_time": "2023-03-11T09:25:29.718Z"
   },
   {
    "duration": 94,
    "start_time": "2023-03-11T09:25:29.826Z"
   },
   {
    "duration": 40,
    "start_time": "2023-03-11T09:25:29.921Z"
   },
   {
    "duration": 17,
    "start_time": "2023-03-11T09:25:29.969Z"
   },
   {
    "duration": 121,
    "start_time": "2023-03-11T09:25:29.988Z"
   },
   {
    "duration": 40,
    "start_time": "2023-03-11T09:25:30.111Z"
   },
   {
    "duration": 93,
    "start_time": "2023-03-11T09:25:30.153Z"
   },
   {
    "duration": 111,
    "start_time": "2023-03-11T09:25:30.248Z"
   },
   {
    "duration": 24,
    "start_time": "2023-03-11T09:25:30.361Z"
   },
   {
    "duration": 38,
    "start_time": "2023-03-11T09:25:30.387Z"
   },
   {
    "duration": 31,
    "start_time": "2023-03-11T09:25:30.427Z"
   },
   {
    "duration": 201,
    "start_time": "2023-03-11T09:25:30.461Z"
   },
   {
    "duration": 7,
    "start_time": "2023-03-11T09:25:30.665Z"
   },
   {
    "duration": 113,
    "start_time": "2023-03-11T09:25:30.674Z"
   },
   {
    "duration": 644,
    "start_time": "2023-03-11T09:25:30.789Z"
   },
   {
    "duration": 160,
    "start_time": "2023-03-11T09:25:31.435Z"
   },
   {
    "duration": 77,
    "start_time": "2023-03-11T09:25:31.596Z"
   },
   {
    "duration": 30,
    "start_time": "2023-03-11T09:25:31.678Z"
   },
   {
    "duration": 78,
    "start_time": "2023-03-11T09:25:31.710Z"
   },
   {
    "duration": 1677,
    "start_time": "2023-03-11T09:28:20.573Z"
   },
   {
    "duration": 4,
    "start_time": "2023-03-11T09:28:22.254Z"
   },
   {
    "duration": 6290,
    "start_time": "2023-03-11T09:28:22.261Z"
   },
   {
    "duration": 67,
    "start_time": "2023-03-11T09:28:28.553Z"
   },
   {
    "duration": 17,
    "start_time": "2023-03-11T09:28:28.623Z"
   },
   {
    "duration": 47,
    "start_time": "2023-03-11T09:28:28.648Z"
   },
   {
    "duration": 21,
    "start_time": "2023-03-11T09:28:28.697Z"
   },
   {
    "duration": 214,
    "start_time": "2023-03-11T09:28:28.720Z"
   },
   {
    "duration": 401,
    "start_time": "2023-03-11T09:28:28.936Z"
   },
   {
    "duration": 1234,
    "start_time": "2023-03-11T09:28:29.349Z"
   },
   {
    "duration": 154,
    "start_time": "2023-03-11T09:28:30.585Z"
   },
   {
    "duration": 227,
    "start_time": "2023-03-11T09:28:30.745Z"
   },
   {
    "duration": 176,
    "start_time": "2023-03-11T09:28:30.977Z"
   },
   {
    "duration": 531,
    "start_time": "2023-03-11T09:28:31.161Z"
   },
   {
    "duration": 311,
    "start_time": "2023-03-11T09:28:31.694Z"
   },
   {
    "duration": 4725,
    "start_time": "2023-03-11T09:28:32.007Z"
   },
   {
    "duration": 218,
    "start_time": "2023-03-11T09:28:36.734Z"
   },
   {
    "duration": 22754,
    "start_time": "2023-03-11T09:28:36.958Z"
   },
   {
    "duration": 14,
    "start_time": "2023-03-11T09:28:59.714Z"
   },
   {
    "duration": 100,
    "start_time": "2023-03-11T09:28:59.729Z"
   },
   {
    "duration": 101,
    "start_time": "2023-03-11T09:28:59.831Z"
   },
   {
    "duration": 47,
    "start_time": "2023-03-11T09:28:59.934Z"
   },
   {
    "duration": 16,
    "start_time": "2023-03-11T09:28:59.983Z"
   },
   {
    "duration": 136,
    "start_time": "2023-03-11T09:29:00.001Z"
   },
   {
    "duration": 48,
    "start_time": "2023-03-11T09:29:00.139Z"
   },
   {
    "duration": 94,
    "start_time": "2023-03-11T09:29:00.189Z"
   },
   {
    "duration": 120,
    "start_time": "2023-03-11T09:29:00.285Z"
   },
   {
    "duration": 20,
    "start_time": "2023-03-11T09:29:00.407Z"
   },
   {
    "duration": 54,
    "start_time": "2023-03-11T09:29:00.429Z"
   },
   {
    "duration": 55,
    "start_time": "2023-03-11T09:29:00.485Z"
   },
   {
    "duration": 43,
    "start_time": "2023-03-11T09:29:00.541Z"
   },
   {
    "duration": 111,
    "start_time": "2023-03-11T09:29:00.590Z"
   },
   {
    "duration": 710,
    "start_time": "2023-03-11T09:29:00.704Z"
   },
   {
    "duration": 171,
    "start_time": "2023-03-11T09:29:01.415Z"
   },
   {
    "duration": 68,
    "start_time": "2023-03-11T09:29:01.588Z"
   },
   {
    "duration": 50,
    "start_time": "2023-03-11T09:29:01.658Z"
   },
   {
    "duration": 75,
    "start_time": "2023-03-11T09:29:01.709Z"
   },
   {
    "duration": 57623,
    "start_time": "2023-03-11T09:40:46.366Z"
   },
   {
    "duration": 6,
    "start_time": "2023-03-11T09:41:52.166Z"
   },
   {
    "duration": 5,
    "start_time": "2023-03-11T09:41:52.674Z"
   },
   {
    "duration": 19,
    "start_time": "2023-03-11T09:41:53.297Z"
   },
   {
    "duration": 10182,
    "start_time": "2023-03-11T09:43:49.203Z"
   },
   {
    "duration": 6,
    "start_time": "2023-03-11T09:43:59.388Z"
   },
   {
    "duration": 7,
    "start_time": "2023-03-11T09:43:59.396Z"
   },
   {
    "duration": 40,
    "start_time": "2023-03-11T09:43:59.406Z"
   },
   {
    "duration": 49203,
    "start_time": "2023-03-11T09:45:30.791Z"
   },
   {
    "duration": 5,
    "start_time": "2023-03-11T09:46:19.997Z"
   },
   {
    "duration": 13,
    "start_time": "2023-03-11T09:46:20.004Z"
   },
   {
    "duration": 31,
    "start_time": "2023-03-11T09:46:20.020Z"
   },
   {
    "duration": 2011,
    "start_time": "2023-03-11T10:05:38.197Z"
   },
   {
    "duration": 4,
    "start_time": "2023-03-11T10:05:40.210Z"
   },
   {
    "duration": 7304,
    "start_time": "2023-03-11T10:05:40.216Z"
   },
   {
    "duration": 189,
    "start_time": "2023-03-11T10:05:47.523Z"
   },
   {
    "duration": 18,
    "start_time": "2023-03-11T10:05:47.715Z"
   },
   {
    "duration": 83,
    "start_time": "2023-03-11T10:05:47.734Z"
   },
   {
    "duration": 41,
    "start_time": "2023-03-11T10:05:47.821Z"
   },
   {
    "duration": 241,
    "start_time": "2023-03-11T10:05:47.864Z"
   },
   {
    "duration": 455,
    "start_time": "2023-03-11T10:05:48.107Z"
   },
   {
    "duration": 1256,
    "start_time": "2023-03-11T10:05:48.567Z"
   },
   {
    "duration": 239,
    "start_time": "2023-03-11T10:05:49.825Z"
   },
   {
    "duration": 213,
    "start_time": "2023-03-11T10:05:50.073Z"
   },
   {
    "duration": 170,
    "start_time": "2023-03-11T10:05:50.289Z"
   },
   {
    "duration": 490,
    "start_time": "2023-03-11T10:05:50.467Z"
   },
   {
    "duration": 326,
    "start_time": "2023-03-11T10:05:50.959Z"
   },
   {
    "duration": 4702,
    "start_time": "2023-03-11T10:05:51.290Z"
   },
   {
    "duration": 208,
    "start_time": "2023-03-11T10:05:55.995Z"
   },
   {
    "duration": 17372,
    "start_time": "2023-03-11T10:05:56.207Z"
   },
   {
    "duration": 21,
    "start_time": "2023-03-11T10:06:13.581Z"
   },
   {
    "duration": 107,
    "start_time": "2023-03-11T10:06:13.604Z"
   },
   {
    "duration": 100,
    "start_time": "2023-03-11T10:06:13.713Z"
   },
   {
    "duration": 47,
    "start_time": "2023-03-11T10:06:13.815Z"
   },
   {
    "duration": 27,
    "start_time": "2023-03-11T10:06:13.866Z"
   },
   {
    "duration": 126,
    "start_time": "2023-03-11T10:06:13.895Z"
   },
   {
    "duration": 36,
    "start_time": "2023-03-11T10:06:14.023Z"
   },
   {
    "duration": 88,
    "start_time": "2023-03-11T10:06:14.062Z"
   },
   {
    "duration": 95,
    "start_time": "2023-03-11T10:06:14.152Z"
   },
   {
    "duration": 13,
    "start_time": "2023-03-11T10:06:14.249Z"
   },
   {
    "duration": 24,
    "start_time": "2023-03-11T10:06:14.264Z"
   },
   {
    "duration": 12,
    "start_time": "2023-03-11T10:06:14.290Z"
   },
   {
    "duration": 4,
    "start_time": "2023-03-11T10:06:14.305Z"
   },
   {
    "duration": 84,
    "start_time": "2023-03-11T10:06:14.311Z"
   },
   {
    "duration": 666,
    "start_time": "2023-03-11T10:06:14.397Z"
   },
   {
    "duration": 170,
    "start_time": "2023-03-11T10:06:15.067Z"
   },
   {
    "duration": 79,
    "start_time": "2023-03-11T10:06:15.242Z"
   },
   {
    "duration": 55,
    "start_time": "2023-03-11T10:06:15.323Z"
   },
   {
    "duration": 64,
    "start_time": "2023-03-11T10:06:15.380Z"
   },
   {
    "duration": 55697,
    "start_time": "2023-03-11T10:06:15.451Z"
   },
   {
    "duration": 18,
    "start_time": "2023-03-11T10:07:11.150Z"
   },
   {
    "duration": 30,
    "start_time": "2023-03-11T10:07:11.170Z"
   },
   {
    "duration": 30,
    "start_time": "2023-03-11T10:07:11.204Z"
   },
   {
    "duration": 10240,
    "start_time": "2023-03-11T10:07:11.237Z"
   },
   {
    "duration": 5,
    "start_time": "2023-03-11T10:07:21.479Z"
   },
   {
    "duration": 51,
    "start_time": "2023-03-11T10:07:21.485Z"
   },
   {
    "duration": 64,
    "start_time": "2023-03-11T10:07:21.538Z"
   },
   {
    "duration": 43405,
    "start_time": "2023-03-11T10:07:21.604Z"
   },
   {
    "duration": 4,
    "start_time": "2023-03-11T10:08:05.011Z"
   },
   {
    "duration": 4,
    "start_time": "2023-03-11T10:08:05.017Z"
   },
   {
    "duration": 45,
    "start_time": "2023-03-11T10:08:05.023Z"
   },
   {
    "duration": 127,
    "start_time": "2023-03-11T10:08:05.072Z"
   },
   {
    "duration": 0,
    "start_time": "2023-03-11T10:08:05.202Z"
   },
   {
    "duration": 0,
    "start_time": "2023-03-11T10:08:05.203Z"
   },
   {
    "duration": 0,
    "start_time": "2023-03-11T10:08:05.205Z"
   },
   {
    "duration": 1618,
    "start_time": "2023-03-11T11:43:57.031Z"
   },
   {
    "duration": 4,
    "start_time": "2023-03-11T11:43:58.651Z"
   },
   {
    "duration": 4551,
    "start_time": "2023-03-11T11:43:58.656Z"
   },
   {
    "duration": 54,
    "start_time": "2023-03-11T11:44:03.209Z"
   },
   {
    "duration": 11,
    "start_time": "2023-03-11T11:44:03.264Z"
   },
   {
    "duration": 19,
    "start_time": "2023-03-11T11:44:03.276Z"
   },
   {
    "duration": 20,
    "start_time": "2023-03-11T11:44:03.296Z"
   },
   {
    "duration": 214,
    "start_time": "2023-03-11T11:44:03.317Z"
   },
   {
    "duration": 256,
    "start_time": "2023-03-11T11:44:03.532Z"
   },
   {
    "duration": 1235,
    "start_time": "2023-03-11T11:44:03.790Z"
   },
   {
    "duration": 131,
    "start_time": "2023-03-11T11:44:05.027Z"
   },
   {
    "duration": 170,
    "start_time": "2023-03-11T11:44:05.160Z"
   },
   {
    "duration": 117,
    "start_time": "2023-03-11T11:44:05.331Z"
   },
   {
    "duration": 465,
    "start_time": "2023-03-11T11:44:05.450Z"
   },
   {
    "duration": 220,
    "start_time": "2023-03-11T11:44:05.917Z"
   },
   {
    "duration": 4557,
    "start_time": "2023-03-11T11:44:06.138Z"
   },
   {
    "duration": 116,
    "start_time": "2023-03-11T11:44:10.697Z"
   },
   {
    "duration": 19321,
    "start_time": "2023-03-11T11:44:10.815Z"
   },
   {
    "duration": 13,
    "start_time": "2023-03-11T11:44:30.139Z"
   },
   {
    "duration": 77,
    "start_time": "2023-03-11T11:44:30.154Z"
   },
   {
    "duration": 67,
    "start_time": "2023-03-11T11:44:30.233Z"
   },
   {
    "duration": 47,
    "start_time": "2023-03-11T11:44:30.301Z"
   },
   {
    "duration": 29,
    "start_time": "2023-03-11T11:44:30.349Z"
   },
   {
    "duration": 116,
    "start_time": "2023-03-11T11:44:30.380Z"
   },
   {
    "duration": 32,
    "start_time": "2023-03-11T11:44:30.498Z"
   },
   {
    "duration": 68,
    "start_time": "2023-03-11T11:44:30.532Z"
   },
   {
    "duration": 89,
    "start_time": "2023-03-11T11:44:30.601Z"
   },
   {
    "duration": 28,
    "start_time": "2023-03-11T11:44:30.693Z"
   },
   {
    "duration": 20,
    "start_time": "2023-03-11T11:44:30.723Z"
   },
   {
    "duration": 40,
    "start_time": "2023-03-11T11:44:30.745Z"
   },
   {
    "duration": 43,
    "start_time": "2023-03-11T11:44:30.786Z"
   },
   {
    "duration": 83,
    "start_time": "2023-03-11T11:44:30.830Z"
   },
   {
    "duration": 521,
    "start_time": "2023-03-11T11:44:30.914Z"
   },
   {
    "duration": 121,
    "start_time": "2023-03-11T11:44:31.437Z"
   },
   {
    "duration": 46,
    "start_time": "2023-03-11T11:44:31.559Z"
   },
   {
    "duration": 35,
    "start_time": "2023-03-11T11:44:31.607Z"
   },
   {
    "duration": 33,
    "start_time": "2023-03-11T11:44:31.644Z"
   },
   {
    "duration": 43440,
    "start_time": "2023-03-11T11:44:31.678Z"
   },
   {
    "duration": 3,
    "start_time": "2023-03-11T11:45:15.120Z"
   },
   {
    "duration": 16,
    "start_time": "2023-03-11T11:45:15.125Z"
   },
   {
    "duration": 12,
    "start_time": "2023-03-11T11:45:15.143Z"
   },
   {
    "duration": 5837,
    "start_time": "2023-03-11T11:45:15.156Z"
   },
   {
    "duration": 3,
    "start_time": "2023-03-11T11:45:20.994Z"
   },
   {
    "duration": 8,
    "start_time": "2023-03-11T11:45:20.998Z"
   },
   {
    "duration": 14,
    "start_time": "2023-03-11T11:45:21.008Z"
   },
   {
    "duration": 25410,
    "start_time": "2023-03-11T11:45:21.023Z"
   },
   {
    "duration": 3,
    "start_time": "2023-03-11T11:45:46.440Z"
   },
   {
    "duration": 5,
    "start_time": "2023-03-11T11:45:46.444Z"
   },
   {
    "duration": 12,
    "start_time": "2023-03-11T11:45:46.450Z"
   },
   {
    "duration": 105,
    "start_time": "2023-03-11T11:47:00.217Z"
   },
   {
    "duration": 8,
    "start_time": "2023-03-11T11:47:00.606Z"
   },
   {
    "duration": 1479,
    "start_time": "2023-03-11T11:47:51.833Z"
   },
   {
    "duration": 3,
    "start_time": "2023-03-11T11:47:53.314Z"
   },
   {
    "duration": 4444,
    "start_time": "2023-03-11T11:47:53.318Z"
   },
   {
    "duration": 71,
    "start_time": "2023-03-11T11:47:57.765Z"
   },
   {
    "duration": 10,
    "start_time": "2023-03-11T11:47:57.838Z"
   },
   {
    "duration": 20,
    "start_time": "2023-03-11T11:47:57.850Z"
   },
   {
    "duration": 19,
    "start_time": "2023-03-11T11:47:57.871Z"
   },
   {
    "duration": 207,
    "start_time": "2023-03-11T11:47:57.891Z"
   },
   {
    "duration": 260,
    "start_time": "2023-03-11T11:47:58.100Z"
   },
   {
    "duration": 1225,
    "start_time": "2023-03-11T11:47:58.363Z"
   },
   {
    "duration": 119,
    "start_time": "2023-03-11T11:47:59.590Z"
   },
   {
    "duration": 175,
    "start_time": "2023-03-11T11:47:59.710Z"
   },
   {
    "duration": 117,
    "start_time": "2023-03-11T11:47:59.887Z"
   },
   {
    "duration": 485,
    "start_time": "2023-03-11T11:48:00.005Z"
   },
   {
    "duration": 243,
    "start_time": "2023-03-11T11:48:00.492Z"
   },
   {
    "duration": 4462,
    "start_time": "2023-03-11T11:48:00.736Z"
   },
   {
    "duration": 119,
    "start_time": "2023-03-11T11:48:05.200Z"
   },
   {
    "duration": 1422,
    "start_time": "2023-03-11T11:48:16.421Z"
   },
   {
    "duration": 3,
    "start_time": "2023-03-11T11:48:17.845Z"
   },
   {
    "duration": 4431,
    "start_time": "2023-03-11T11:48:17.849Z"
   },
   {
    "duration": 56,
    "start_time": "2023-03-11T11:48:22.282Z"
   },
   {
    "duration": 10,
    "start_time": "2023-03-11T11:48:22.340Z"
   },
   {
    "duration": 18,
    "start_time": "2023-03-11T11:48:22.352Z"
   },
   {
    "duration": 21,
    "start_time": "2023-03-11T11:48:22.372Z"
   },
   {
    "duration": 220,
    "start_time": "2023-03-11T11:48:22.395Z"
   },
   {
    "duration": 250,
    "start_time": "2023-03-11T11:48:22.617Z"
   },
   {
    "duration": 1239,
    "start_time": "2023-03-11T11:48:22.868Z"
   },
   {
    "duration": 117,
    "start_time": "2023-03-11T11:48:24.109Z"
   },
   {
    "duration": 167,
    "start_time": "2023-03-11T11:48:24.228Z"
   },
   {
    "duration": 113,
    "start_time": "2023-03-11T11:48:24.397Z"
   },
   {
    "duration": 464,
    "start_time": "2023-03-11T11:48:24.513Z"
   },
   {
    "duration": 229,
    "start_time": "2023-03-11T11:48:24.979Z"
   },
   {
    "duration": 6637,
    "start_time": "2023-03-11T11:48:25.209Z"
   },
   {
    "duration": 120,
    "start_time": "2023-03-11T11:48:31.848Z"
   },
   {
    "duration": 24932,
    "start_time": "2023-03-11T11:48:31.969Z"
   },
   {
    "duration": 13,
    "start_time": "2023-03-11T11:48:56.903Z"
   },
   {
    "duration": 86,
    "start_time": "2023-03-11T11:48:56.917Z"
   },
   {
    "duration": 77,
    "start_time": "2023-03-11T11:48:57.004Z"
   },
   {
    "duration": 19,
    "start_time": "2023-03-11T11:48:57.082Z"
   },
   {
    "duration": 12,
    "start_time": "2023-03-11T11:48:57.103Z"
   },
   {
    "duration": 113,
    "start_time": "2023-03-11T11:48:57.117Z"
   },
   {
    "duration": 45,
    "start_time": "2023-03-11T11:48:57.232Z"
   },
   {
    "duration": 70,
    "start_time": "2023-03-11T11:48:57.278Z"
   },
   {
    "duration": 68,
    "start_time": "2023-03-11T11:48:57.349Z"
   },
   {
    "duration": 21,
    "start_time": "2023-03-11T11:48:57.419Z"
   },
   {
    "duration": 6,
    "start_time": "2023-03-11T11:48:57.442Z"
   },
   {
    "duration": 8,
    "start_time": "2023-03-11T11:48:57.450Z"
   },
   {
    "duration": 5,
    "start_time": "2023-03-11T11:48:57.459Z"
   },
   {
    "duration": 75,
    "start_time": "2023-03-11T11:48:57.466Z"
   },
   {
    "duration": 545,
    "start_time": "2023-03-11T11:48:57.543Z"
   },
   {
    "duration": 130,
    "start_time": "2023-03-11T11:48:58.090Z"
   },
   {
    "duration": 57,
    "start_time": "2023-03-11T11:48:58.222Z"
   },
   {
    "duration": 27,
    "start_time": "2023-03-11T11:48:58.280Z"
   },
   {
    "duration": 49,
    "start_time": "2023-03-11T11:48:58.309Z"
   },
   {
    "duration": 40460,
    "start_time": "2023-03-11T11:48:58.360Z"
   },
   {
    "duration": 4,
    "start_time": "2023-03-11T11:49:38.822Z"
   },
   {
    "duration": 13,
    "start_time": "2023-03-11T11:49:38.828Z"
   },
   {
    "duration": 11,
    "start_time": "2023-03-11T11:49:38.844Z"
   },
   {
    "duration": 5866,
    "start_time": "2023-03-11T11:49:38.857Z"
   },
   {
    "duration": 4,
    "start_time": "2023-03-11T11:49:44.725Z"
   },
   {
    "duration": 3,
    "start_time": "2023-03-11T11:49:44.740Z"
   },
   {
    "duration": 13,
    "start_time": "2023-03-11T11:49:44.744Z"
   },
   {
    "duration": 24955,
    "start_time": "2023-03-11T11:49:44.759Z"
   },
   {
    "duration": 4,
    "start_time": "2023-03-11T11:50:09.715Z"
   },
   {
    "duration": 9,
    "start_time": "2023-03-11T11:50:09.720Z"
   },
   {
    "duration": 14,
    "start_time": "2023-03-11T11:50:09.731Z"
   },
   {
    "duration": 12734,
    "start_time": "2023-03-11T11:50:09.746Z"
   },
   {
    "duration": 0,
    "start_time": "2023-03-11T11:50:22.482Z"
   },
   {
    "duration": 0,
    "start_time": "2023-03-11T11:50:22.483Z"
   },
   {
    "duration": 14177,
    "start_time": "2023-03-11T11:52:00.382Z"
   },
   {
    "duration": 10,
    "start_time": "2023-03-11T11:53:40.934Z"
   },
   {
    "duration": 1425,
    "start_time": "2023-03-11T11:54:33.296Z"
   },
   {
    "duration": 4,
    "start_time": "2023-03-11T11:54:34.723Z"
   },
   {
    "duration": 4390,
    "start_time": "2023-03-11T11:54:34.728Z"
   },
   {
    "duration": 65,
    "start_time": "2023-03-11T11:54:39.120Z"
   },
   {
    "duration": 11,
    "start_time": "2023-03-11T11:54:39.186Z"
   },
   {
    "duration": 21,
    "start_time": "2023-03-11T11:54:39.198Z"
   },
   {
    "duration": 27,
    "start_time": "2023-03-11T11:54:39.222Z"
   },
   {
    "duration": 209,
    "start_time": "2023-03-11T11:54:39.250Z"
   },
   {
    "duration": 276,
    "start_time": "2023-03-11T11:54:39.460Z"
   },
   {
    "duration": 1225,
    "start_time": "2023-03-11T11:54:39.739Z"
   },
   {
    "duration": 126,
    "start_time": "2023-03-11T11:54:40.965Z"
   },
   {
    "duration": 171,
    "start_time": "2023-03-11T11:54:41.093Z"
   },
   {
    "duration": 117,
    "start_time": "2023-03-11T11:54:41.265Z"
   },
   {
    "duration": 2922,
    "start_time": "2023-03-11T11:54:41.383Z"
   },
   {
    "duration": 218,
    "start_time": "2023-03-11T11:54:44.307Z"
   },
   {
    "duration": 4463,
    "start_time": "2023-03-11T11:54:44.526Z"
   },
   {
    "duration": 114,
    "start_time": "2023-03-11T11:54:48.990Z"
   },
   {
    "duration": 21950,
    "start_time": "2023-03-11T11:54:49.105Z"
   },
   {
    "duration": 14,
    "start_time": "2023-03-11T11:55:11.057Z"
   },
   {
    "duration": 86,
    "start_time": "2023-03-11T11:55:11.072Z"
   },
   {
    "duration": 83,
    "start_time": "2023-03-11T11:55:11.160Z"
   },
   {
    "duration": 20,
    "start_time": "2023-03-11T11:55:11.245Z"
   },
   {
    "duration": 13,
    "start_time": "2023-03-11T11:55:11.266Z"
   },
   {
    "duration": 118,
    "start_time": "2023-03-11T11:55:11.281Z"
   },
   {
    "duration": 41,
    "start_time": "2023-03-11T11:55:11.401Z"
   },
   {
    "duration": 60,
    "start_time": "2023-03-11T11:55:11.444Z"
   },
   {
    "duration": 79,
    "start_time": "2023-03-11T11:55:11.506Z"
   },
   {
    "duration": 7,
    "start_time": "2023-03-11T11:55:11.589Z"
   },
   {
    "duration": 23,
    "start_time": "2023-03-11T11:55:11.597Z"
   },
   {
    "duration": 5,
    "start_time": "2023-03-11T11:55:11.622Z"
   },
   {
    "duration": 9,
    "start_time": "2023-03-11T11:55:11.629Z"
   },
   {
    "duration": 61,
    "start_time": "2023-03-11T11:55:11.641Z"
   },
   {
    "duration": 564,
    "start_time": "2023-03-11T11:55:11.704Z"
   },
   {
    "duration": 136,
    "start_time": "2023-03-11T11:55:12.270Z"
   },
   {
    "duration": 72,
    "start_time": "2023-03-11T11:55:12.408Z"
   },
   {
    "duration": 30,
    "start_time": "2023-03-11T11:55:12.482Z"
   },
   {
    "duration": 62,
    "start_time": "2023-03-11T11:55:12.514Z"
   },
   {
    "duration": 42792,
    "start_time": "2023-03-11T11:55:12.578Z"
   },
   {
    "duration": 4,
    "start_time": "2023-03-11T11:55:55.372Z"
   },
   {
    "duration": 7,
    "start_time": "2023-03-11T11:55:55.378Z"
   },
   {
    "duration": 12,
    "start_time": "2023-03-11T11:55:55.387Z"
   },
   {
    "duration": 5982,
    "start_time": "2023-03-11T11:55:55.401Z"
   },
   {
    "duration": 4,
    "start_time": "2023-03-11T11:56:01.385Z"
   },
   {
    "duration": 37,
    "start_time": "2023-03-11T11:56:01.390Z"
   },
   {
    "duration": 50,
    "start_time": "2023-03-11T11:56:01.428Z"
   },
   {
    "duration": 24898,
    "start_time": "2023-03-11T11:56:01.480Z"
   },
   {
    "duration": 3,
    "start_time": "2023-03-11T11:56:26.380Z"
   },
   {
    "duration": 7,
    "start_time": "2023-03-11T11:56:26.384Z"
   },
   {
    "duration": 12,
    "start_time": "2023-03-11T11:56:26.392Z"
   },
   {
    "duration": 19097,
    "start_time": "2023-03-11T11:56:26.406Z"
   },
   {
    "duration": 0,
    "start_time": "2023-03-11T11:56:45.504Z"
   },
   {
    "duration": 0,
    "start_time": "2023-03-11T11:56:45.506Z"
   },
   {
    "duration": 1378,
    "start_time": "2023-03-11T12:52:25.896Z"
   },
   {
    "duration": 4,
    "start_time": "2023-03-11T12:52:27.275Z"
   },
   {
    "duration": 4380,
    "start_time": "2023-03-11T12:52:27.280Z"
   },
   {
    "duration": 75,
    "start_time": "2023-03-11T12:52:31.662Z"
   },
   {
    "duration": 10,
    "start_time": "2023-03-11T12:52:31.739Z"
   },
   {
    "duration": 19,
    "start_time": "2023-03-11T12:52:31.751Z"
   },
   {
    "duration": 18,
    "start_time": "2023-03-11T12:52:31.772Z"
   },
   {
    "duration": 216,
    "start_time": "2023-03-11T12:52:31.792Z"
   },
   {
    "duration": 255,
    "start_time": "2023-03-11T12:52:32.010Z"
   },
   {
    "duration": 1231,
    "start_time": "2023-03-11T12:52:32.266Z"
   },
   {
    "duration": 124,
    "start_time": "2023-03-11T12:52:33.499Z"
   },
   {
    "duration": 171,
    "start_time": "2023-03-11T12:52:33.624Z"
   },
   {
    "duration": 117,
    "start_time": "2023-03-11T12:52:33.797Z"
   },
   {
    "duration": 476,
    "start_time": "2023-03-11T12:52:33.917Z"
   },
   {
    "duration": 243,
    "start_time": "2023-03-11T12:52:34.394Z"
   },
   {
    "duration": 2960,
    "start_time": "2023-03-11T12:52:34.639Z"
   },
   {
    "duration": 121,
    "start_time": "2023-03-11T12:52:37.601Z"
   },
   {
    "duration": 22693,
    "start_time": "2023-03-11T12:52:37.723Z"
   },
   {
    "duration": 14,
    "start_time": "2023-03-11T12:53:00.418Z"
   },
   {
    "duration": 106,
    "start_time": "2023-03-11T12:53:00.433Z"
   },
   {
    "duration": 71,
    "start_time": "2023-03-11T12:53:00.540Z"
   },
   {
    "duration": 31,
    "start_time": "2023-03-11T12:53:00.613Z"
   },
   {
    "duration": 21,
    "start_time": "2023-03-11T12:53:00.645Z"
   },
   {
    "duration": 117,
    "start_time": "2023-03-11T12:53:00.668Z"
   },
   {
    "duration": 34,
    "start_time": "2023-03-11T12:53:00.787Z"
   },
   {
    "duration": 74,
    "start_time": "2023-03-11T12:53:00.823Z"
   },
   {
    "duration": 79,
    "start_time": "2023-03-11T12:53:00.898Z"
   },
   {
    "duration": 27,
    "start_time": "2023-03-11T12:53:00.979Z"
   },
   {
    "duration": 34,
    "start_time": "2023-03-11T12:53:01.008Z"
   },
   {
    "duration": 23,
    "start_time": "2023-03-11T12:53:01.044Z"
   },
   {
    "duration": 54,
    "start_time": "2023-03-11T12:53:01.069Z"
   },
   {
    "duration": 93,
    "start_time": "2023-03-11T12:53:01.125Z"
   },
   {
    "duration": 561,
    "start_time": "2023-03-11T12:53:01.220Z"
   },
   {
    "duration": 123,
    "start_time": "2023-03-11T12:53:01.783Z"
   },
   {
    "duration": 53,
    "start_time": "2023-03-11T12:53:01.908Z"
   },
   {
    "duration": 28,
    "start_time": "2023-03-11T12:53:01.962Z"
   },
   {
    "duration": 55,
    "start_time": "2023-03-11T12:53:01.992Z"
   },
   {
    "duration": 42301,
    "start_time": "2023-03-11T12:53:02.049Z"
   },
   {
    "duration": 4,
    "start_time": "2023-03-11T12:53:44.352Z"
   },
   {
    "duration": 10,
    "start_time": "2023-03-11T12:53:44.357Z"
   },
   {
    "duration": 10,
    "start_time": "2023-03-11T12:53:44.371Z"
   },
   {
    "duration": 5935,
    "start_time": "2023-03-11T12:53:44.383Z"
   },
   {
    "duration": 4,
    "start_time": "2023-03-11T12:53:50.319Z"
   },
   {
    "duration": 6,
    "start_time": "2023-03-11T12:53:50.325Z"
   },
   {
    "duration": 15,
    "start_time": "2023-03-11T12:53:50.333Z"
   },
   {
    "duration": 24701,
    "start_time": "2023-03-11T12:53:50.350Z"
   },
   {
    "duration": 4,
    "start_time": "2023-03-11T12:54:15.052Z"
   },
   {
    "duration": 6,
    "start_time": "2023-03-11T12:54:15.057Z"
   },
   {
    "duration": 12,
    "start_time": "2023-03-11T12:54:15.064Z"
   },
   {
    "duration": 1455,
    "start_time": "2023-03-11T13:13:55.336Z"
   },
   {
    "duration": 3,
    "start_time": "2023-03-11T13:13:56.793Z"
   },
   {
    "duration": 4480,
    "start_time": "2023-03-11T13:13:56.797Z"
   },
   {
    "duration": 62,
    "start_time": "2023-03-11T13:14:01.279Z"
   },
   {
    "duration": 11,
    "start_time": "2023-03-11T13:14:01.343Z"
   },
   {
    "duration": 34,
    "start_time": "2023-03-11T13:14:01.355Z"
   },
   {
    "duration": 23,
    "start_time": "2023-03-11T13:14:01.391Z"
   },
   {
    "duration": 238,
    "start_time": "2023-03-11T13:14:01.416Z"
   },
   {
    "duration": 259,
    "start_time": "2023-03-11T13:14:01.655Z"
   },
   {
    "duration": 1598,
    "start_time": "2023-03-11T13:14:01.915Z"
   },
   {
    "duration": 136,
    "start_time": "2023-03-11T13:14:03.514Z"
   },
   {
    "duration": 171,
    "start_time": "2023-03-11T13:14:03.652Z"
   },
   {
    "duration": 125,
    "start_time": "2023-03-11T13:14:03.824Z"
   },
   {
    "duration": 475,
    "start_time": "2023-03-11T13:14:03.953Z"
   },
   {
    "duration": 226,
    "start_time": "2023-03-11T13:14:04.429Z"
   },
   {
    "duration": 4594,
    "start_time": "2023-03-11T13:14:04.657Z"
   },
   {
    "duration": 117,
    "start_time": "2023-03-11T13:14:09.252Z"
   },
   {
    "duration": 25729,
    "start_time": "2023-03-11T13:14:09.371Z"
   },
   {
    "duration": 13,
    "start_time": "2023-03-11T13:14:35.102Z"
   },
   {
    "duration": 75,
    "start_time": "2023-03-11T13:14:35.116Z"
   },
   {
    "duration": 74,
    "start_time": "2023-03-11T13:14:35.192Z"
   },
   {
    "duration": 18,
    "start_time": "2023-03-11T13:14:35.268Z"
   },
   {
    "duration": 12,
    "start_time": "2023-03-11T13:14:35.288Z"
   },
   {
    "duration": 112,
    "start_time": "2023-03-11T13:14:35.301Z"
   },
   {
    "duration": 41,
    "start_time": "2023-03-11T13:14:35.414Z"
   },
   {
    "duration": 62,
    "start_time": "2023-03-11T13:14:35.457Z"
   },
   {
    "duration": 77,
    "start_time": "2023-03-11T13:14:35.521Z"
   },
   {
    "duration": 4,
    "start_time": "2023-03-11T13:14:35.599Z"
   },
   {
    "duration": 15,
    "start_time": "2023-03-11T13:14:35.604Z"
   },
   {
    "duration": 8,
    "start_time": "2023-03-11T13:14:35.621Z"
   },
   {
    "duration": 14,
    "start_time": "2023-03-11T13:14:35.630Z"
   },
   {
    "duration": 60,
    "start_time": "2023-03-11T13:14:35.646Z"
   },
   {
    "duration": 534,
    "start_time": "2023-03-11T13:14:35.708Z"
   },
   {
    "duration": 120,
    "start_time": "2023-03-11T13:14:36.243Z"
   },
   {
    "duration": 43,
    "start_time": "2023-03-11T13:14:36.365Z"
   },
   {
    "duration": 40,
    "start_time": "2023-03-11T13:14:36.409Z"
   },
   {
    "duration": 33,
    "start_time": "2023-03-11T13:14:36.451Z"
   },
   {
    "duration": 42226,
    "start_time": "2023-03-11T13:14:36.486Z"
   },
   {
    "duration": 4,
    "start_time": "2023-03-11T13:15:18.713Z"
   },
   {
    "duration": 6,
    "start_time": "2023-03-11T13:15:18.718Z"
   },
   {
    "duration": 19,
    "start_time": "2023-03-11T13:15:18.727Z"
   },
   {
    "duration": 5773,
    "start_time": "2023-03-11T13:15:18.748Z"
   },
   {
    "duration": 5,
    "start_time": "2023-03-11T13:15:24.522Z"
   },
   {
    "duration": 14,
    "start_time": "2023-03-11T13:15:24.529Z"
   },
   {
    "duration": 13,
    "start_time": "2023-03-11T13:15:24.544Z"
   },
   {
    "duration": 24841,
    "start_time": "2023-03-11T13:15:24.559Z"
   },
   {
    "duration": 4,
    "start_time": "2023-03-11T13:15:49.401Z"
   },
   {
    "duration": 10,
    "start_time": "2023-03-11T13:15:49.406Z"
   },
   {
    "duration": 11,
    "start_time": "2023-03-11T13:15:49.418Z"
   },
   {
    "duration": 1497,
    "start_time": "2023-03-11T13:25:44.520Z"
   },
   {
    "duration": 3,
    "start_time": "2023-03-11T13:25:46.019Z"
   },
   {
    "duration": 4292,
    "start_time": "2023-03-11T13:25:46.023Z"
   },
   {
    "duration": 48,
    "start_time": "2023-03-11T13:25:50.316Z"
   },
   {
    "duration": 10,
    "start_time": "2023-03-11T13:25:50.366Z"
   },
   {
    "duration": 18,
    "start_time": "2023-03-11T13:25:50.377Z"
   },
   {
    "duration": 18,
    "start_time": "2023-03-11T13:25:50.396Z"
   },
   {
    "duration": 210,
    "start_time": "2023-03-11T13:25:50.416Z"
   },
   {
    "duration": 254,
    "start_time": "2023-03-11T13:25:50.628Z"
   },
   {
    "duration": 1212,
    "start_time": "2023-03-11T13:25:50.883Z"
   },
   {
    "duration": 122,
    "start_time": "2023-03-11T13:25:52.096Z"
   },
   {
    "duration": 171,
    "start_time": "2023-03-11T13:25:52.220Z"
   },
   {
    "duration": 160,
    "start_time": "2023-03-11T13:25:52.393Z"
   },
   {
    "duration": 3212,
    "start_time": "2023-03-11T13:25:52.556Z"
   },
   {
    "duration": 242,
    "start_time": "2023-03-11T13:25:55.769Z"
   },
   {
    "duration": 4717,
    "start_time": "2023-03-11T13:25:56.013Z"
   },
   {
    "duration": 120,
    "start_time": "2023-03-11T13:26:00.732Z"
   },
   {
    "duration": 24641,
    "start_time": "2023-03-11T13:26:00.854Z"
   },
   {
    "duration": 14,
    "start_time": "2023-03-11T13:26:25.496Z"
   },
   {
    "duration": 68,
    "start_time": "2023-03-11T13:26:25.511Z"
   },
   {
    "duration": 70,
    "start_time": "2023-03-11T13:26:25.581Z"
   },
   {
    "duration": 17,
    "start_time": "2023-03-11T13:26:25.652Z"
   },
   {
    "duration": 12,
    "start_time": "2023-03-11T13:26:25.671Z"
   },
   {
    "duration": 100,
    "start_time": "2023-03-11T13:26:25.684Z"
   },
   {
    "duration": 34,
    "start_time": "2023-03-11T13:26:25.786Z"
   },
   {
    "duration": 66,
    "start_time": "2023-03-11T13:26:25.822Z"
   },
   {
    "duration": 67,
    "start_time": "2023-03-11T13:26:25.889Z"
   },
   {
    "duration": 7,
    "start_time": "2023-03-11T13:26:25.958Z"
   },
   {
    "duration": 23,
    "start_time": "2023-03-11T13:26:25.967Z"
   },
   {
    "duration": 5,
    "start_time": "2023-03-11T13:26:25.992Z"
   },
   {
    "duration": 8,
    "start_time": "2023-03-11T13:26:25.999Z"
   },
   {
    "duration": 50,
    "start_time": "2023-03-11T13:26:26.009Z"
   },
   {
    "duration": 518,
    "start_time": "2023-03-11T13:26:26.060Z"
   },
   {
    "duration": 122,
    "start_time": "2023-03-11T13:26:26.580Z"
   },
   {
    "duration": 54,
    "start_time": "2023-03-11T13:26:26.703Z"
   },
   {
    "duration": 28,
    "start_time": "2023-03-11T13:26:26.759Z"
   },
   {
    "duration": 55,
    "start_time": "2023-03-11T13:26:26.788Z"
   },
   {
    "duration": 43408,
    "start_time": "2023-03-11T13:26:26.845Z"
   },
   {
    "duration": 4,
    "start_time": "2023-03-11T13:27:10.254Z"
   },
   {
    "duration": 5,
    "start_time": "2023-03-11T13:27:10.259Z"
   },
   {
    "duration": 12,
    "start_time": "2023-03-11T13:27:10.267Z"
   },
   {
    "duration": 5941,
    "start_time": "2023-03-11T13:27:10.280Z"
   },
   {
    "duration": 3,
    "start_time": "2023-03-11T13:27:16.223Z"
   },
   {
    "duration": 13,
    "start_time": "2023-03-11T13:27:16.227Z"
   },
   {
    "duration": 11,
    "start_time": "2023-03-11T13:27:16.241Z"
   },
   {
    "duration": 25878,
    "start_time": "2023-03-11T13:27:16.253Z"
   },
   {
    "duration": 3,
    "start_time": "2023-03-11T13:27:42.133Z"
   },
   {
    "duration": 7,
    "start_time": "2023-03-11T13:27:42.140Z"
   },
   {
    "duration": 14,
    "start_time": "2023-03-11T13:27:42.148Z"
   },
   {
    "duration": 0,
    "start_time": "2023-03-11T13:34:07.771Z"
   },
   {
    "duration": 0,
    "start_time": "2023-03-11T13:34:07.772Z"
   },
   {
    "duration": 0,
    "start_time": "2023-03-11T13:34:07.773Z"
   },
   {
    "duration": 1575,
    "start_time": "2023-03-11T13:34:08.376Z"
   },
   {
    "duration": 332,
    "start_time": "2023-03-11T13:34:35.351Z"
   },
   {
    "duration": 347,
    "start_time": "2023-03-11T13:34:44.529Z"
   },
   {
    "duration": 842,
    "start_time": "2023-03-11T13:35:17.430Z"
   },
   {
    "duration": 341,
    "start_time": "2023-03-11T13:35:34.868Z"
   },
   {
    "duration": 1301,
    "start_time": "2023-03-11T13:35:40.290Z"
   },
   {
    "duration": 4,
    "start_time": "2023-03-11T13:35:41.592Z"
   },
   {
    "duration": 4509,
    "start_time": "2023-03-11T13:35:41.597Z"
   },
   {
    "duration": 44,
    "start_time": "2023-03-11T13:35:46.108Z"
   },
   {
    "duration": 11,
    "start_time": "2023-03-11T13:35:46.154Z"
   },
   {
    "duration": 36,
    "start_time": "2023-03-11T13:35:46.166Z"
   },
   {
    "duration": 23,
    "start_time": "2023-03-11T13:35:46.204Z"
   },
   {
    "duration": 204,
    "start_time": "2023-03-11T13:35:46.229Z"
   },
   {
    "duration": 282,
    "start_time": "2023-03-11T13:35:46.435Z"
   },
   {
    "duration": 1218,
    "start_time": "2023-03-11T13:35:46.718Z"
   },
   {
    "duration": 125,
    "start_time": "2023-03-11T13:35:47.937Z"
   },
   {
    "duration": 175,
    "start_time": "2023-03-11T13:35:48.064Z"
   },
   {
    "duration": 149,
    "start_time": "2023-03-11T13:35:48.241Z"
   },
   {
    "duration": 496,
    "start_time": "2023-03-11T13:35:48.394Z"
   },
   {
    "duration": 250,
    "start_time": "2023-03-11T13:35:48.892Z"
   },
   {
    "duration": 4492,
    "start_time": "2023-03-11T13:35:49.143Z"
   },
   {
    "duration": 136,
    "start_time": "2023-03-11T13:35:53.637Z"
   },
   {
    "duration": 16184,
    "start_time": "2023-03-11T13:35:53.775Z"
   },
   {
    "duration": 13,
    "start_time": "2023-03-11T13:36:09.960Z"
   },
   {
    "duration": 80,
    "start_time": "2023-03-11T13:36:09.974Z"
   },
   {
    "duration": 67,
    "start_time": "2023-03-11T13:36:10.056Z"
   },
   {
    "duration": 33,
    "start_time": "2023-03-11T13:36:10.124Z"
   },
   {
    "duration": 15,
    "start_time": "2023-03-11T13:36:10.158Z"
   },
   {
    "duration": 106,
    "start_time": "2023-03-11T13:36:10.174Z"
   },
   {
    "duration": 36,
    "start_time": "2023-03-11T13:36:10.281Z"
   },
   {
    "duration": 66,
    "start_time": "2023-03-11T13:36:10.319Z"
   },
   {
    "duration": 74,
    "start_time": "2023-03-11T13:36:10.387Z"
   },
   {
    "duration": 3,
    "start_time": "2023-03-11T13:36:10.463Z"
   },
   {
    "duration": 9,
    "start_time": "2023-03-11T13:36:10.467Z"
   },
   {
    "duration": 4,
    "start_time": "2023-03-11T13:36:10.477Z"
   },
   {
    "duration": 10,
    "start_time": "2023-03-11T13:36:10.483Z"
   },
   {
    "duration": 71,
    "start_time": "2023-03-11T13:36:10.494Z"
   },
   {
    "duration": 521,
    "start_time": "2023-03-11T13:36:10.567Z"
   },
   {
    "duration": 122,
    "start_time": "2023-03-11T13:36:11.090Z"
   },
   {
    "duration": 59,
    "start_time": "2023-03-11T13:36:11.213Z"
   },
   {
    "duration": 25,
    "start_time": "2023-03-11T13:36:11.274Z"
   },
   {
    "duration": 41,
    "start_time": "2023-03-11T13:36:11.301Z"
   },
   {
    "duration": 42078,
    "start_time": "2023-03-11T13:36:11.343Z"
   },
   {
    "duration": 4,
    "start_time": "2023-03-11T13:36:53.422Z"
   },
   {
    "duration": 6,
    "start_time": "2023-03-11T13:36:53.427Z"
   },
   {
    "duration": 11,
    "start_time": "2023-03-11T13:36:53.442Z"
   },
   {
    "duration": 5953,
    "start_time": "2023-03-11T13:36:53.454Z"
   },
   {
    "duration": 3,
    "start_time": "2023-03-11T13:36:59.408Z"
   },
   {
    "duration": 7,
    "start_time": "2023-03-11T13:36:59.412Z"
   },
   {
    "duration": 11,
    "start_time": "2023-03-11T13:36:59.420Z"
   },
   {
    "duration": 24483,
    "start_time": "2023-03-11T13:36:59.440Z"
   },
   {
    "duration": 4,
    "start_time": "2023-03-11T13:37:23.924Z"
   },
   {
    "duration": 12,
    "start_time": "2023-03-11T13:37:23.929Z"
   },
   {
    "duration": 13,
    "start_time": "2023-03-11T13:37:23.942Z"
   },
   {
    "duration": 458,
    "start_time": "2023-03-11T13:37:23.956Z"
   },
   {
    "duration": 0,
    "start_time": "2023-03-11T13:37:24.415Z"
   },
   {
    "duration": 0,
    "start_time": "2023-03-11T13:37:24.416Z"
   },
   {
    "duration": 0,
    "start_time": "2023-03-11T13:37:24.417Z"
   },
   {
    "duration": 1472,
    "start_time": "2023-03-11T13:53:02.403Z"
   },
   {
    "duration": 4,
    "start_time": "2023-03-11T13:53:03.877Z"
   },
   {
    "duration": 4447,
    "start_time": "2023-03-11T13:53:03.882Z"
   },
   {
    "duration": 55,
    "start_time": "2023-03-11T13:53:08.331Z"
   },
   {
    "duration": 15,
    "start_time": "2023-03-11T13:53:08.389Z"
   },
   {
    "duration": 20,
    "start_time": "2023-03-11T13:53:08.405Z"
   },
   {
    "duration": 20,
    "start_time": "2023-03-11T13:53:08.427Z"
   },
   {
    "duration": 216,
    "start_time": "2023-03-11T13:53:08.448Z"
   },
   {
    "duration": 265,
    "start_time": "2023-03-11T13:53:08.665Z"
   },
   {
    "duration": 1736,
    "start_time": "2023-03-11T13:53:08.932Z"
   },
   {
    "duration": 121,
    "start_time": "2023-03-11T13:53:10.670Z"
   },
   {
    "duration": 171,
    "start_time": "2023-03-11T13:53:10.793Z"
   },
   {
    "duration": 122,
    "start_time": "2023-03-11T13:53:10.966Z"
   },
   {
    "duration": 484,
    "start_time": "2023-03-11T13:53:11.092Z"
   },
   {
    "duration": 268,
    "start_time": "2023-03-11T13:53:11.578Z"
   },
   {
    "duration": 4732,
    "start_time": "2023-03-11T13:53:11.848Z"
   },
   {
    "duration": 124,
    "start_time": "2023-03-11T13:53:16.583Z"
   },
   {
    "duration": 1424,
    "start_time": "2023-03-11T13:53:32.687Z"
   },
   {
    "duration": 5,
    "start_time": "2023-03-11T13:53:34.114Z"
   },
   {
    "duration": 4343,
    "start_time": "2023-03-11T13:53:34.120Z"
   },
   {
    "duration": 84,
    "start_time": "2023-03-11T13:53:38.466Z"
   },
   {
    "duration": 15,
    "start_time": "2023-03-11T13:53:38.551Z"
   },
   {
    "duration": 20,
    "start_time": "2023-03-11T13:53:38.567Z"
   },
   {
    "duration": 21,
    "start_time": "2023-03-11T13:53:38.589Z"
   },
   {
    "duration": 215,
    "start_time": "2023-03-11T13:53:38.611Z"
   },
   {
    "duration": 258,
    "start_time": "2023-03-11T13:53:38.828Z"
   },
   {
    "duration": 1234,
    "start_time": "2023-03-11T13:53:39.089Z"
   },
   {
    "duration": 123,
    "start_time": "2023-03-11T13:53:40.325Z"
   },
   {
    "duration": 169,
    "start_time": "2023-03-11T13:53:40.450Z"
   },
   {
    "duration": 121,
    "start_time": "2023-03-11T13:53:40.621Z"
   },
   {
    "duration": 470,
    "start_time": "2023-03-11T13:53:40.743Z"
   },
   {
    "duration": 235,
    "start_time": "2023-03-11T13:53:41.215Z"
   },
   {
    "duration": 4646,
    "start_time": "2023-03-11T13:53:41.452Z"
   },
   {
    "duration": 125,
    "start_time": "2023-03-11T13:53:46.100Z"
   },
   {
    "duration": 26713,
    "start_time": "2023-03-11T13:53:46.227Z"
   },
   {
    "duration": 13,
    "start_time": "2023-03-11T13:54:12.941Z"
   },
   {
    "duration": 79,
    "start_time": "2023-03-11T13:54:12.955Z"
   },
   {
    "duration": 66,
    "start_time": "2023-03-11T13:54:13.040Z"
   },
   {
    "duration": 34,
    "start_time": "2023-03-11T13:54:13.108Z"
   },
   {
    "duration": 12,
    "start_time": "2023-03-11T13:54:13.143Z"
   },
   {
    "duration": 103,
    "start_time": "2023-03-11T13:54:13.157Z"
   },
   {
    "duration": 35,
    "start_time": "2023-03-11T13:54:13.262Z"
   },
   {
    "duration": 69,
    "start_time": "2023-03-11T13:54:13.298Z"
   },
   {
    "duration": 72,
    "start_time": "2023-03-11T13:54:13.369Z"
   },
   {
    "duration": 3,
    "start_time": "2023-03-11T13:54:13.444Z"
   },
   {
    "duration": 16,
    "start_time": "2023-03-11T13:54:13.448Z"
   },
   {
    "duration": 5,
    "start_time": "2023-03-11T13:54:13.466Z"
   },
   {
    "duration": 7,
    "start_time": "2023-03-11T13:54:13.472Z"
   },
   {
    "duration": 68,
    "start_time": "2023-03-11T13:54:13.480Z"
   },
   {
    "duration": 543,
    "start_time": "2023-03-11T13:54:13.550Z"
   },
   {
    "duration": 126,
    "start_time": "2023-03-11T13:54:14.095Z"
   },
   {
    "duration": 56,
    "start_time": "2023-03-11T13:54:14.223Z"
   },
   {
    "duration": 26,
    "start_time": "2023-03-11T13:54:14.281Z"
   },
   {
    "duration": 47,
    "start_time": "2023-03-11T13:54:14.309Z"
   },
   {
    "duration": 41739,
    "start_time": "2023-03-11T13:54:14.357Z"
   },
   {
    "duration": 3,
    "start_time": "2023-03-11T13:54:56.098Z"
   },
   {
    "duration": 9,
    "start_time": "2023-03-11T13:54:56.103Z"
   },
   {
    "duration": 36,
    "start_time": "2023-03-11T13:54:56.113Z"
   },
   {
    "duration": 6215,
    "start_time": "2023-03-11T13:54:56.150Z"
   },
   {
    "duration": 3,
    "start_time": "2023-03-11T13:55:02.367Z"
   },
   {
    "duration": 8,
    "start_time": "2023-03-11T13:55:02.372Z"
   },
   {
    "duration": 17,
    "start_time": "2023-03-11T13:55:02.381Z"
   },
   {
    "duration": 24571,
    "start_time": "2023-03-11T13:55:02.400Z"
   },
   {
    "duration": 3,
    "start_time": "2023-03-11T13:55:26.973Z"
   },
   {
    "duration": 7,
    "start_time": "2023-03-11T13:55:26.977Z"
   },
   {
    "duration": 12,
    "start_time": "2023-03-11T13:55:26.986Z"
   },
   {
    "duration": 1537,
    "start_time": "2023-03-11T13:56:52.744Z"
   },
   {
    "duration": 6,
    "start_time": "2023-03-11T13:56:54.284Z"
   },
   {
    "duration": 4428,
    "start_time": "2023-03-11T13:56:54.292Z"
   },
   {
    "duration": 43,
    "start_time": "2023-03-11T13:56:58.721Z"
   },
   {
    "duration": 12,
    "start_time": "2023-03-11T13:56:58.766Z"
   },
   {
    "duration": 24,
    "start_time": "2023-03-11T13:56:58.780Z"
   },
   {
    "duration": 21,
    "start_time": "2023-03-11T13:56:58.806Z"
   },
   {
    "duration": 213,
    "start_time": "2023-03-11T13:56:58.840Z"
   },
   {
    "duration": 293,
    "start_time": "2023-03-11T13:56:59.055Z"
   },
   {
    "duration": 1225,
    "start_time": "2023-03-11T13:56:59.350Z"
   },
   {
    "duration": 132,
    "start_time": "2023-03-11T13:57:00.577Z"
   },
   {
    "duration": 186,
    "start_time": "2023-03-11T13:57:00.711Z"
   },
   {
    "duration": 132,
    "start_time": "2023-03-11T13:57:00.898Z"
   },
   {
    "duration": 534,
    "start_time": "2023-03-11T13:57:01.033Z"
   },
   {
    "duration": 254,
    "start_time": "2023-03-11T13:57:01.569Z"
   },
   {
    "duration": 4283,
    "start_time": "2023-03-11T13:57:01.825Z"
   },
   {
    "duration": 125,
    "start_time": "2023-03-11T13:57:06.110Z"
   },
   {
    "duration": 26449,
    "start_time": "2023-03-11T13:57:06.236Z"
   },
   {
    "duration": 0,
    "start_time": "2023-03-11T13:57:32.687Z"
   },
   {
    "duration": 0,
    "start_time": "2023-03-11T13:57:32.689Z"
   },
   {
    "duration": 0,
    "start_time": "2023-03-11T13:57:32.690Z"
   },
   {
    "duration": 0,
    "start_time": "2023-03-11T13:57:32.691Z"
   },
   {
    "duration": 0,
    "start_time": "2023-03-11T13:57:32.692Z"
   },
   {
    "duration": 0,
    "start_time": "2023-03-11T13:57:32.693Z"
   },
   {
    "duration": 0,
    "start_time": "2023-03-11T13:57:32.694Z"
   },
   {
    "duration": 0,
    "start_time": "2023-03-11T13:57:32.695Z"
   },
   {
    "duration": 0,
    "start_time": "2023-03-11T13:57:32.696Z"
   },
   {
    "duration": 0,
    "start_time": "2023-03-11T13:57:32.697Z"
   },
   {
    "duration": 0,
    "start_time": "2023-03-11T13:57:32.699Z"
   },
   {
    "duration": 0,
    "start_time": "2023-03-11T13:57:32.700Z"
   },
   {
    "duration": 0,
    "start_time": "2023-03-11T13:57:32.701Z"
   },
   {
    "duration": 0,
    "start_time": "2023-03-11T13:57:32.702Z"
   },
   {
    "duration": 0,
    "start_time": "2023-03-11T13:57:32.703Z"
   },
   {
    "duration": 0,
    "start_time": "2023-03-11T13:57:32.704Z"
   },
   {
    "duration": 0,
    "start_time": "2023-03-11T13:57:32.705Z"
   },
   {
    "duration": 0,
    "start_time": "2023-03-11T13:57:32.706Z"
   },
   {
    "duration": 0,
    "start_time": "2023-03-11T13:57:32.707Z"
   },
   {
    "duration": 0,
    "start_time": "2023-03-11T13:57:32.708Z"
   },
   {
    "duration": 0,
    "start_time": "2023-03-11T13:57:32.709Z"
   },
   {
    "duration": 0,
    "start_time": "2023-03-11T13:57:32.710Z"
   },
   {
    "duration": 0,
    "start_time": "2023-03-11T13:57:32.711Z"
   },
   {
    "duration": 0,
    "start_time": "2023-03-11T13:57:32.712Z"
   },
   {
    "duration": 0,
    "start_time": "2023-03-11T13:57:32.713Z"
   },
   {
    "duration": 0,
    "start_time": "2023-03-11T13:57:32.714Z"
   },
   {
    "duration": 0,
    "start_time": "2023-03-11T13:57:32.715Z"
   },
   {
    "duration": 0,
    "start_time": "2023-03-11T13:57:32.716Z"
   },
   {
    "duration": 0,
    "start_time": "2023-03-11T13:57:32.717Z"
   },
   {
    "duration": 0,
    "start_time": "2023-03-11T13:57:32.740Z"
   },
   {
    "duration": 0,
    "start_time": "2023-03-11T13:57:32.742Z"
   },
   {
    "duration": 0,
    "start_time": "2023-03-11T13:57:32.743Z"
   },
   {
    "duration": 0,
    "start_time": "2023-03-11T13:57:32.744Z"
   },
   {
    "duration": 0,
    "start_time": "2023-03-11T13:57:32.745Z"
   },
   {
    "duration": 0,
    "start_time": "2023-03-11T13:57:32.746Z"
   },
   {
    "duration": 1439,
    "start_time": "2023-03-11T13:58:10.449Z"
   },
   {
    "duration": 3,
    "start_time": "2023-03-11T13:58:11.890Z"
   },
   {
    "duration": 4545,
    "start_time": "2023-03-11T13:58:11.894Z"
   },
   {
    "duration": 46,
    "start_time": "2023-03-11T13:58:16.441Z"
   },
   {
    "duration": 10,
    "start_time": "2023-03-11T13:58:16.488Z"
   },
   {
    "duration": 24,
    "start_time": "2023-03-11T13:58:16.500Z"
   },
   {
    "duration": 28,
    "start_time": "2023-03-11T13:58:16.526Z"
   },
   {
    "duration": 214,
    "start_time": "2023-03-11T13:58:16.556Z"
   },
   {
    "duration": 263,
    "start_time": "2023-03-11T13:58:16.771Z"
   },
   {
    "duration": 1235,
    "start_time": "2023-03-11T13:58:17.039Z"
   },
   {
    "duration": 117,
    "start_time": "2023-03-11T13:58:18.275Z"
   },
   {
    "duration": 172,
    "start_time": "2023-03-11T13:58:18.394Z"
   },
   {
    "duration": 118,
    "start_time": "2023-03-11T13:58:18.567Z"
   },
   {
    "duration": 476,
    "start_time": "2023-03-11T13:58:18.687Z"
   },
   {
    "duration": 230,
    "start_time": "2023-03-11T13:58:19.165Z"
   },
   {
    "duration": 4527,
    "start_time": "2023-03-11T13:58:19.397Z"
   },
   {
    "duration": 119,
    "start_time": "2023-03-11T13:58:23.925Z"
   },
   {
    "duration": 27681,
    "start_time": "2023-03-11T13:58:24.045Z"
   },
   {
    "duration": 16,
    "start_time": "2023-03-11T13:58:51.728Z"
   },
   {
    "duration": 72,
    "start_time": "2023-03-11T13:58:51.745Z"
   },
   {
    "duration": 75,
    "start_time": "2023-03-11T13:58:51.819Z"
   },
   {
    "duration": 18,
    "start_time": "2023-03-11T13:58:51.896Z"
   },
   {
    "duration": 27,
    "start_time": "2023-03-11T13:58:51.916Z"
   },
   {
    "duration": 107,
    "start_time": "2023-03-11T13:58:51.944Z"
   },
   {
    "duration": 33,
    "start_time": "2023-03-11T13:58:52.052Z"
   },
   {
    "duration": 66,
    "start_time": "2023-03-11T13:58:52.087Z"
   },
   {
    "duration": 64,
    "start_time": "2023-03-11T13:58:52.154Z"
   },
   {
    "duration": 18,
    "start_time": "2023-03-11T13:58:52.222Z"
   },
   {
    "duration": 10,
    "start_time": "2023-03-11T13:58:52.242Z"
   },
   {
    "duration": 6,
    "start_time": "2023-03-11T13:58:52.253Z"
   },
   {
    "duration": 6,
    "start_time": "2023-03-11T13:58:52.260Z"
   },
   {
    "duration": 52,
    "start_time": "2023-03-11T13:58:52.267Z"
   },
   {
    "duration": 577,
    "start_time": "2023-03-11T13:58:52.320Z"
   },
   {
    "duration": 125,
    "start_time": "2023-03-11T13:58:52.899Z"
   },
   {
    "duration": 53,
    "start_time": "2023-03-11T13:58:53.025Z"
   },
   {
    "duration": 27,
    "start_time": "2023-03-11T13:58:53.079Z"
   },
   {
    "duration": 50,
    "start_time": "2023-03-11T13:58:53.107Z"
   },
   {
    "duration": 42288,
    "start_time": "2023-03-11T13:58:53.159Z"
   },
   {
    "duration": 4,
    "start_time": "2023-03-11T13:59:35.448Z"
   },
   {
    "duration": 7,
    "start_time": "2023-03-11T13:59:35.454Z"
   },
   {
    "duration": 17,
    "start_time": "2023-03-11T13:59:35.463Z"
   },
   {
    "duration": 6137,
    "start_time": "2023-03-11T13:59:35.481Z"
   },
   {
    "duration": 4,
    "start_time": "2023-03-11T13:59:41.619Z"
   },
   {
    "duration": 16,
    "start_time": "2023-03-11T13:59:41.624Z"
   },
   {
    "duration": 11,
    "start_time": "2023-03-11T13:59:41.642Z"
   },
   {
    "duration": 26680,
    "start_time": "2023-03-11T13:59:41.655Z"
   },
   {
    "duration": 5,
    "start_time": "2023-03-11T14:00:08.336Z"
   },
   {
    "duration": 96,
    "start_time": "2023-03-11T14:00:08.342Z"
   },
   {
    "duration": 18,
    "start_time": "2023-03-11T14:00:08.440Z"
   },
   {
    "duration": 27991,
    "start_time": "2023-03-11T14:00:08.460Z"
   },
   {
    "duration": 0,
    "start_time": "2023-03-11T14:00:36.452Z"
   },
   {
    "duration": 0,
    "start_time": "2023-03-11T14:00:36.453Z"
   },
   {
    "duration": 0,
    "start_time": "2023-03-11T14:00:36.454Z"
   },
   {
    "duration": 2271,
    "start_time": "2023-03-11T16:26:32.528Z"
   },
   {
    "duration": 12,
    "start_time": "2023-03-11T16:26:34.801Z"
   },
   {
    "duration": 8863,
    "start_time": "2023-03-11T16:26:34.828Z"
   },
   {
    "duration": 290,
    "start_time": "2023-03-11T16:26:43.694Z"
   },
   {
    "duration": 56,
    "start_time": "2023-03-11T16:26:43.986Z"
   },
   {
    "duration": 63,
    "start_time": "2023-03-11T16:26:44.045Z"
   },
   {
    "duration": 55,
    "start_time": "2023-03-11T16:26:44.110Z"
   },
   {
    "duration": 261,
    "start_time": "2023-03-11T16:26:44.167Z"
   },
   {
    "duration": 399,
    "start_time": "2023-03-11T16:26:44.431Z"
   },
   {
    "duration": 1306,
    "start_time": "2023-03-11T16:26:44.833Z"
   },
   {
    "duration": 187,
    "start_time": "2023-03-11T16:26:46.141Z"
   },
   {
    "duration": 214,
    "start_time": "2023-03-11T16:26:46.330Z"
   },
   {
    "duration": 184,
    "start_time": "2023-03-11T16:26:46.548Z"
   },
   {
    "duration": 509,
    "start_time": "2023-03-11T16:26:46.735Z"
   },
   {
    "duration": 326,
    "start_time": "2023-03-11T16:26:47.246Z"
   },
   {
    "duration": 4540,
    "start_time": "2023-03-11T16:26:47.574Z"
   },
   {
    "duration": 167,
    "start_time": "2023-03-11T16:26:52.116Z"
   },
   {
    "duration": 22677,
    "start_time": "2023-03-11T16:26:52.291Z"
   },
   {
    "duration": 15,
    "start_time": "2023-03-11T16:27:14.970Z"
   },
   {
    "duration": 101,
    "start_time": "2023-03-11T16:27:14.990Z"
   },
   {
    "duration": 75,
    "start_time": "2023-03-11T16:27:15.100Z"
   },
   {
    "duration": 33,
    "start_time": "2023-03-11T16:27:15.177Z"
   },
   {
    "duration": 21,
    "start_time": "2023-03-11T16:27:15.212Z"
   },
   {
    "duration": 125,
    "start_time": "2023-03-11T16:27:15.235Z"
   },
   {
    "duration": 51,
    "start_time": "2023-03-11T16:27:15.362Z"
   },
   {
    "duration": 76,
    "start_time": "2023-03-11T16:27:15.415Z"
   },
   {
    "duration": 83,
    "start_time": "2023-03-11T16:27:15.497Z"
   },
   {
    "duration": 85,
    "start_time": "2023-03-11T16:27:15.592Z"
   },
   {
    "duration": 9,
    "start_time": "2023-03-11T16:27:15.679Z"
   },
   {
    "duration": 15,
    "start_time": "2023-03-11T16:27:15.693Z"
   },
   {
    "duration": 32,
    "start_time": "2023-03-11T16:27:15.710Z"
   },
   {
    "duration": 76,
    "start_time": "2023-03-11T16:27:15.744Z"
   },
   {
    "duration": 696,
    "start_time": "2023-03-11T16:27:15.822Z"
   },
   {
    "duration": 187,
    "start_time": "2023-03-11T16:27:16.521Z"
   },
   {
    "duration": 82,
    "start_time": "2023-03-11T16:27:16.710Z"
   },
   {
    "duration": 33,
    "start_time": "2023-03-11T16:27:16.798Z"
   },
   {
    "duration": 73,
    "start_time": "2023-03-11T16:27:16.833Z"
   },
   {
    "duration": 46817,
    "start_time": "2023-03-11T16:27:16.909Z"
   },
   {
    "duration": 4,
    "start_time": "2023-03-11T16:28:03.728Z"
   },
   {
    "duration": 15,
    "start_time": "2023-03-11T16:28:03.734Z"
   },
   {
    "duration": 35,
    "start_time": "2023-03-11T16:28:03.752Z"
   },
   {
    "duration": 8650,
    "start_time": "2023-03-11T16:28:03.789Z"
   },
   {
    "duration": 5,
    "start_time": "2023-03-11T16:28:12.441Z"
   },
   {
    "duration": 10,
    "start_time": "2023-03-11T16:28:12.448Z"
   },
   {
    "duration": 16,
    "start_time": "2023-03-11T16:28:12.461Z"
   },
   {
    "duration": 31177,
    "start_time": "2023-03-11T16:28:12.494Z"
   },
   {
    "duration": 4,
    "start_time": "2023-03-11T16:28:43.673Z"
   },
   {
    "duration": 15,
    "start_time": "2023-03-11T16:28:43.678Z"
   },
   {
    "duration": 23,
    "start_time": "2023-03-11T16:28:43.699Z"
   },
   {
    "duration": 33,
    "start_time": "2023-03-11T16:28:43.725Z"
   },
   {
    "duration": 98609,
    "start_time": "2023-03-11T16:28:43.760Z"
   },
   {
    "duration": 0,
    "start_time": "2023-03-11T16:30:22.371Z"
   },
   {
    "duration": 0,
    "start_time": "2023-03-11T16:30:22.372Z"
   },
   {
    "duration": 0,
    "start_time": "2023-03-11T16:30:22.374Z"
   },
   {
    "duration": 1790,
    "start_time": "2023-03-14T05:50:07.924Z"
   },
   {
    "duration": 5,
    "start_time": "2023-03-14T05:50:09.716Z"
   },
   {
    "duration": 5640,
    "start_time": "2023-03-14T05:50:09.723Z"
   },
   {
    "duration": 53,
    "start_time": "2023-03-14T05:50:15.365Z"
   },
   {
    "duration": 12,
    "start_time": "2023-03-14T05:50:15.420Z"
   },
   {
    "duration": 28,
    "start_time": "2023-03-14T05:50:15.434Z"
   },
   {
    "duration": 30,
    "start_time": "2023-03-14T05:50:15.464Z"
   },
   {
    "duration": 218,
    "start_time": "2023-03-14T05:50:15.496Z"
   },
   {
    "duration": 242,
    "start_time": "2023-03-14T05:50:15.716Z"
   },
   {
    "duration": 1251,
    "start_time": "2023-03-14T05:50:15.960Z"
   },
   {
    "duration": 142,
    "start_time": "2023-03-14T05:50:17.212Z"
   },
   {
    "duration": 179,
    "start_time": "2023-03-14T05:50:17.356Z"
   },
   {
    "duration": 146,
    "start_time": "2023-03-14T05:50:17.536Z"
   },
   {
    "duration": 471,
    "start_time": "2023-03-14T05:50:17.685Z"
   },
   {
    "duration": 252,
    "start_time": "2023-03-14T05:50:18.158Z"
   },
   {
    "duration": 4761,
    "start_time": "2023-03-14T05:50:18.412Z"
   },
   {
    "duration": 142,
    "start_time": "2023-03-14T05:50:23.174Z"
   },
   {
    "duration": 26582,
    "start_time": "2023-03-14T05:50:23.318Z"
   },
   {
    "duration": 16,
    "start_time": "2023-03-14T05:50:49.902Z"
   },
   {
    "duration": 83,
    "start_time": "2023-03-14T05:50:49.920Z"
   },
   {
    "duration": 89,
    "start_time": "2023-03-14T05:50:50.005Z"
   },
   {
    "duration": 21,
    "start_time": "2023-03-14T05:50:50.096Z"
   },
   {
    "duration": 26,
    "start_time": "2023-03-14T05:50:50.119Z"
   },
   {
    "duration": 115,
    "start_time": "2023-03-14T05:50:50.146Z"
   },
   {
    "duration": 40,
    "start_time": "2023-03-14T05:50:50.263Z"
   },
   {
    "duration": 84,
    "start_time": "2023-03-14T05:50:50.306Z"
   },
   {
    "duration": 82,
    "start_time": "2023-03-14T05:50:50.392Z"
   },
   {
    "duration": 3,
    "start_time": "2023-03-14T05:50:50.476Z"
   },
   {
    "duration": 19,
    "start_time": "2023-03-14T05:50:50.481Z"
   },
   {
    "duration": 6,
    "start_time": "2023-03-14T05:50:50.503Z"
   },
   {
    "duration": 11,
    "start_time": "2023-03-14T05:50:50.511Z"
   },
   {
    "duration": 96,
    "start_time": "2023-03-14T05:50:50.524Z"
   },
   {
    "duration": 595,
    "start_time": "2023-03-14T05:50:50.621Z"
   },
   {
    "duration": 156,
    "start_time": "2023-03-14T05:50:51.217Z"
   },
   {
    "duration": 44,
    "start_time": "2023-03-14T05:50:51.375Z"
   },
   {
    "duration": 38,
    "start_time": "2023-03-14T05:50:51.420Z"
   },
   {
    "duration": 35,
    "start_time": "2023-03-14T05:50:51.460Z"
   },
   {
    "duration": 43331,
    "start_time": "2023-03-14T05:50:51.497Z"
   },
   {
    "duration": 5,
    "start_time": "2023-03-14T05:51:34.830Z"
   },
   {
    "duration": 3,
    "start_time": "2023-03-14T05:51:34.841Z"
   },
   {
    "duration": 22,
    "start_time": "2023-03-14T05:51:34.848Z"
   },
   {
    "duration": 5990,
    "start_time": "2023-03-14T05:51:34.872Z"
   },
   {
    "duration": 4,
    "start_time": "2023-03-14T05:51:40.863Z"
   },
   {
    "duration": 5,
    "start_time": "2023-03-14T05:51:40.868Z"
   },
   {
    "duration": 15,
    "start_time": "2023-03-14T05:51:40.874Z"
   },
   {
    "duration": 27827,
    "start_time": "2023-03-14T05:51:40.891Z"
   },
   {
    "duration": 3,
    "start_time": "2023-03-14T05:52:08.720Z"
   },
   {
    "duration": 9,
    "start_time": "2023-03-14T05:52:08.725Z"
   },
   {
    "duration": 17,
    "start_time": "2023-03-14T05:52:08.735Z"
   },
   {
    "duration": 1765,
    "start_time": "2023-03-14T06:00:11.726Z"
   },
   {
    "duration": 6,
    "start_time": "2023-03-14T06:00:13.497Z"
   },
   {
    "duration": 8142,
    "start_time": "2023-03-14T06:00:13.504Z"
   },
   {
    "duration": 80,
    "start_time": "2023-03-14T06:00:21.649Z"
   },
   {
    "duration": 39,
    "start_time": "2023-03-14T06:00:21.730Z"
   },
   {
    "duration": 49,
    "start_time": "2023-03-14T06:00:21.776Z"
   },
   {
    "duration": 26,
    "start_time": "2023-03-14T06:00:21.828Z"
   },
   {
    "duration": 264,
    "start_time": "2023-03-14T06:00:21.856Z"
   },
   {
    "duration": 350,
    "start_time": "2023-03-14T06:00:22.122Z"
   },
   {
    "duration": 1286,
    "start_time": "2023-03-14T06:00:22.475Z"
   },
   {
    "duration": 147,
    "start_time": "2023-03-14T06:00:23.763Z"
   },
   {
    "duration": 182,
    "start_time": "2023-03-14T06:00:23.912Z"
   },
   {
    "duration": 157,
    "start_time": "2023-03-14T06:00:24.096Z"
   },
   {
    "duration": 539,
    "start_time": "2023-03-14T06:00:24.256Z"
   },
   {
    "duration": 377,
    "start_time": "2023-03-14T06:00:24.797Z"
   },
   {
    "duration": 4814,
    "start_time": "2023-03-14T06:00:25.176Z"
   },
   {
    "duration": 170,
    "start_time": "2023-03-14T06:00:29.991Z"
   },
   {
    "duration": 28516,
    "start_time": "2023-03-14T06:00:30.170Z"
   },
   {
    "duration": 20,
    "start_time": "2023-03-14T06:00:58.688Z"
   },
   {
    "duration": 88,
    "start_time": "2023-03-14T06:00:58.710Z"
   },
   {
    "duration": 90,
    "start_time": "2023-03-14T06:00:58.801Z"
   },
   {
    "duration": 32,
    "start_time": "2023-03-14T06:00:58.892Z"
   },
   {
    "duration": 23,
    "start_time": "2023-03-14T06:00:58.926Z"
   },
   {
    "duration": 160,
    "start_time": "2023-03-14T06:00:58.961Z"
   },
   {
    "duration": 50,
    "start_time": "2023-03-14T06:00:59.123Z"
   },
   {
    "duration": 85,
    "start_time": "2023-03-14T06:00:59.180Z"
   },
   {
    "duration": 124,
    "start_time": "2023-03-14T06:00:59.269Z"
   },
   {
    "duration": 4,
    "start_time": "2023-03-14T06:00:59.403Z"
   },
   {
    "duration": 11,
    "start_time": "2023-03-14T06:00:59.409Z"
   },
   {
    "duration": 5,
    "start_time": "2023-03-14T06:00:59.422Z"
   },
   {
    "duration": 14,
    "start_time": "2023-03-14T06:00:59.428Z"
   },
   {
    "duration": 120,
    "start_time": "2023-03-14T06:00:59.444Z"
   },
   {
    "duration": 659,
    "start_time": "2023-03-14T06:00:59.567Z"
   },
   {
    "duration": 186,
    "start_time": "2023-03-14T06:01:00.228Z"
   },
   {
    "duration": 78,
    "start_time": "2023-03-14T06:01:00.415Z"
   },
   {
    "duration": 41,
    "start_time": "2023-03-14T06:01:00.495Z"
   },
   {
    "duration": 66,
    "start_time": "2023-03-14T06:01:00.537Z"
   },
   {
    "duration": 46970,
    "start_time": "2023-03-14T06:01:00.605Z"
   },
   {
    "duration": 14,
    "start_time": "2023-03-14T06:01:47.581Z"
   },
   {
    "duration": 8,
    "start_time": "2023-03-14T06:01:47.597Z"
   },
   {
    "duration": 26,
    "start_time": "2023-03-14T06:01:47.607Z"
   },
   {
    "duration": 8264,
    "start_time": "2023-03-14T06:01:47.635Z"
   },
   {
    "duration": 4,
    "start_time": "2023-03-14T06:01:55.901Z"
   },
   {
    "duration": 6,
    "start_time": "2023-03-14T06:01:55.907Z"
   },
   {
    "duration": 12,
    "start_time": "2023-03-14T06:01:55.915Z"
   },
   {
    "duration": 35044,
    "start_time": "2023-03-14T06:01:55.928Z"
   },
   {
    "duration": 12,
    "start_time": "2023-03-14T06:02:30.974Z"
   },
   {
    "duration": 37,
    "start_time": "2023-03-14T06:02:30.992Z"
   },
   {
    "duration": 89,
    "start_time": "2023-03-14T06:02:31.031Z"
   },
   {
    "duration": 84,
    "start_time": "2023-03-14T06:02:31.122Z"
   },
   {
    "duration": 18,
    "start_time": "2023-03-14T06:02:55.570Z"
   },
   {
    "duration": 49623,
    "start_time": "2023-03-14T06:11:40.418Z"
   },
   {
    "duration": 5,
    "start_time": "2023-03-14T06:13:30.603Z"
   },
   {
    "duration": 46561,
    "start_time": "2023-03-14T06:13:40.304Z"
   },
   {
    "duration": 23,
    "start_time": "2023-03-14T06:18:07.873Z"
   },
   {
    "duration": 4,
    "start_time": "2023-03-14T06:18:38.401Z"
   },
   {
    "duration": 237,
    "start_time": "2023-03-14T06:19:42.202Z"
   },
   {
    "duration": 16,
    "start_time": "2023-03-14T06:21:15.365Z"
   },
   {
    "duration": 13,
    "start_time": "2023-03-14T06:21:41.251Z"
   },
   {
    "duration": 12,
    "start_time": "2023-03-14T06:27:51.259Z"
   },
   {
    "duration": 12,
    "start_time": "2023-03-14T06:34:06.169Z"
   },
   {
    "duration": 10,
    "start_time": "2023-03-14T06:38:43.915Z"
   },
   {
    "duration": 10,
    "start_time": "2023-03-14T06:39:35.375Z"
   },
   {
    "duration": 1672,
    "start_time": "2023-03-14T06:45:52.160Z"
   },
   {
    "duration": 4,
    "start_time": "2023-03-14T06:45:53.834Z"
   },
   {
    "duration": 5358,
    "start_time": "2023-03-14T06:45:53.842Z"
   },
   {
    "duration": 60,
    "start_time": "2023-03-14T06:45:59.202Z"
   },
   {
    "duration": 14,
    "start_time": "2023-03-14T06:45:59.263Z"
   },
   {
    "duration": 20,
    "start_time": "2023-03-14T06:45:59.279Z"
   },
   {
    "duration": 20,
    "start_time": "2023-03-14T06:45:59.301Z"
   },
   {
    "duration": 241,
    "start_time": "2023-03-14T06:45:59.323Z"
   },
   {
    "duration": 296,
    "start_time": "2023-03-14T06:45:59.566Z"
   },
   {
    "duration": 1241,
    "start_time": "2023-03-14T06:45:59.865Z"
   },
   {
    "duration": 181,
    "start_time": "2023-03-14T06:46:01.108Z"
   },
   {
    "duration": 180,
    "start_time": "2023-03-14T06:46:01.291Z"
   },
   {
    "duration": 156,
    "start_time": "2023-03-14T06:46:01.474Z"
   },
   {
    "duration": 691,
    "start_time": "2023-03-14T06:46:01.631Z"
   },
   {
    "duration": 345,
    "start_time": "2023-03-14T06:46:02.324Z"
   },
   {
    "duration": 4716,
    "start_time": "2023-03-14T06:46:02.679Z"
   },
   {
    "duration": 131,
    "start_time": "2023-03-14T06:46:07.397Z"
   },
   {
    "duration": 28058,
    "start_time": "2023-03-14T06:46:07.530Z"
   },
   {
    "duration": 13,
    "start_time": "2023-03-14T06:46:35.590Z"
   },
   {
    "duration": 90,
    "start_time": "2023-03-14T06:46:35.605Z"
   },
   {
    "duration": 82,
    "start_time": "2023-03-14T06:46:35.696Z"
   },
   {
    "duration": 25,
    "start_time": "2023-03-14T06:46:35.780Z"
   },
   {
    "duration": 20,
    "start_time": "2023-03-14T06:46:35.807Z"
   },
   {
    "duration": 127,
    "start_time": "2023-03-14T06:46:35.829Z"
   },
   {
    "duration": 33,
    "start_time": "2023-03-14T06:46:35.959Z"
   },
   {
    "duration": 73,
    "start_time": "2023-03-14T06:46:35.995Z"
   },
   {
    "duration": 87,
    "start_time": "2023-03-14T06:46:36.070Z"
   },
   {
    "duration": 3,
    "start_time": "2023-03-14T06:46:36.161Z"
   },
   {
    "duration": 9,
    "start_time": "2023-03-14T06:46:36.165Z"
   },
   {
    "duration": 5,
    "start_time": "2023-03-14T06:46:36.175Z"
   },
   {
    "duration": 7,
    "start_time": "2023-03-14T06:46:36.182Z"
   },
   {
    "duration": 81,
    "start_time": "2023-03-14T06:46:36.191Z"
   },
   {
    "duration": 636,
    "start_time": "2023-03-14T06:46:36.273Z"
   },
   {
    "duration": 149,
    "start_time": "2023-03-14T06:46:36.910Z"
   },
   {
    "duration": 48,
    "start_time": "2023-03-14T06:46:37.061Z"
   },
   {
    "duration": 48,
    "start_time": "2023-03-14T06:46:37.111Z"
   },
   {
    "duration": 38,
    "start_time": "2023-03-14T06:46:37.161Z"
   },
   {
    "duration": 46762,
    "start_time": "2023-03-14T06:46:37.201Z"
   },
   {
    "duration": 4,
    "start_time": "2023-03-14T06:47:23.965Z"
   },
   {
    "duration": 13,
    "start_time": "2023-03-14T06:47:23.971Z"
   },
   {
    "duration": 22,
    "start_time": "2023-03-14T06:47:23.989Z"
   },
   {
    "duration": 6805,
    "start_time": "2023-03-14T06:47:24.013Z"
   },
   {
    "duration": 4,
    "start_time": "2023-03-14T06:47:30.820Z"
   },
   {
    "duration": 39,
    "start_time": "2023-03-14T06:47:30.826Z"
   },
   {
    "duration": 44,
    "start_time": "2023-03-14T06:47:30.866Z"
   },
   {
    "duration": 31606,
    "start_time": "2023-03-14T06:47:30.912Z"
   },
   {
    "duration": 6,
    "start_time": "2023-03-14T06:48:02.520Z"
   },
   {
    "duration": 49,
    "start_time": "2023-03-14T06:48:02.528Z"
   },
   {
    "duration": 36,
    "start_time": "2023-03-14T06:48:02.579Z"
   },
   {
    "duration": 13,
    "start_time": "2023-03-14T06:48:02.617Z"
   },
   {
    "duration": 48431,
    "start_time": "2023-03-14T06:48:02.633Z"
   },
   {
    "duration": 99,
    "start_time": "2023-03-14T06:48:51.066Z"
   },
   {
    "duration": 4,
    "start_time": "2023-03-14T06:48:51.167Z"
   },
   {
    "duration": 224,
    "start_time": "2023-03-14T06:48:51.172Z"
   },
   {
    "duration": 8,
    "start_time": "2023-03-14T06:48:51.398Z"
   },
   {
    "duration": 148,
    "start_time": "2023-03-14T06:48:51.408Z"
   },
   {
    "duration": 20,
    "start_time": "2023-03-14T06:52:18.530Z"
   },
   {
    "duration": 24,
    "start_time": "2023-03-14T06:52:24.628Z"
   },
   {
    "duration": 21,
    "start_time": "2023-03-14T06:52:28.435Z"
   },
   {
    "duration": 13,
    "start_time": "2023-03-14T06:57:01.461Z"
   },
   {
    "duration": 12,
    "start_time": "2023-03-14T07:05:09.510Z"
   },
   {
    "duration": 10,
    "start_time": "2023-03-14T07:05:59.725Z"
   },
   {
    "duration": 46414,
    "start_time": "2023-03-14T07:07:43.173Z"
   },
   {
    "duration": 47621,
    "start_time": "2023-03-14T07:10:09.761Z"
   },
   {
    "duration": 13,
    "start_time": "2023-03-14T07:16:17.396Z"
   },
   {
    "duration": 10,
    "start_time": "2023-03-14T07:18:19.195Z"
   },
   {
    "duration": 19,
    "start_time": "2023-03-14T07:18:40.460Z"
   },
   {
    "duration": 14,
    "start_time": "2023-03-14T07:19:38.508Z"
   },
   {
    "duration": 8,
    "start_time": "2023-03-14T07:21:47.561Z"
   },
   {
    "duration": 21,
    "start_time": "2023-03-14T07:23:20.040Z"
   },
   {
    "duration": 24,
    "start_time": "2023-03-14T07:23:59.329Z"
   },
   {
    "duration": 564,
    "start_time": "2023-03-14T07:24:32.412Z"
   },
   {
    "duration": 11,
    "start_time": "2023-03-14T07:30:19.372Z"
   },
   {
    "duration": 52,
    "start_time": "2023-03-14T07:33:02.565Z"
   },
   {
    "duration": 10,
    "start_time": "2023-03-14T07:33:05.726Z"
   },
   {
    "duration": 15,
    "start_time": "2023-03-14T07:33:06.130Z"
   },
   {
    "duration": 48,
    "start_time": "2023-03-14T07:37:43.362Z"
   },
   {
    "duration": 18,
    "start_time": "2023-03-14T07:38:00.813Z"
   },
   {
    "duration": 16,
    "start_time": "2023-03-14T07:39:20.194Z"
   },
   {
    "duration": 298,
    "start_time": "2023-03-14T07:40:41.802Z"
   },
   {
    "duration": 313,
    "start_time": "2023-03-14T07:41:19.893Z"
   },
   {
    "duration": 285,
    "start_time": "2023-03-14T07:41:28.052Z"
   },
   {
    "duration": 1556,
    "start_time": "2023-03-14T07:43:16.837Z"
   },
   {
    "duration": 3,
    "start_time": "2023-03-14T07:43:18.396Z"
   },
   {
    "duration": 5435,
    "start_time": "2023-03-14T07:43:18.401Z"
   },
   {
    "duration": 63,
    "start_time": "2023-03-14T07:43:23.838Z"
   },
   {
    "duration": 11,
    "start_time": "2023-03-14T07:43:23.902Z"
   },
   {
    "duration": 44,
    "start_time": "2023-03-14T07:43:23.915Z"
   },
   {
    "duration": 20,
    "start_time": "2023-03-14T07:43:23.961Z"
   },
   {
    "duration": 218,
    "start_time": "2023-03-14T07:43:23.983Z"
   },
   {
    "duration": 313,
    "start_time": "2023-03-14T07:43:24.203Z"
   },
   {
    "duration": 1268,
    "start_time": "2023-03-14T07:43:24.519Z"
   },
   {
    "duration": 146,
    "start_time": "2023-03-14T07:43:25.789Z"
   },
   {
    "duration": 174,
    "start_time": "2023-03-14T07:43:25.937Z"
   },
   {
    "duration": 189,
    "start_time": "2023-03-14T07:43:26.113Z"
   },
   {
    "duration": 474,
    "start_time": "2023-03-14T07:43:26.304Z"
   },
   {
    "duration": 323,
    "start_time": "2023-03-14T07:43:26.780Z"
   },
   {
    "duration": 4522,
    "start_time": "2023-03-14T07:43:27.105Z"
   },
   {
    "duration": 147,
    "start_time": "2023-03-14T07:43:31.629Z"
   },
   {
    "duration": 23823,
    "start_time": "2023-03-14T07:43:31.778Z"
   },
   {
    "duration": 14,
    "start_time": "2023-03-14T07:43:55.602Z"
   },
   {
    "duration": 84,
    "start_time": "2023-03-14T07:43:55.618Z"
   },
   {
    "duration": 81,
    "start_time": "2023-03-14T07:43:55.705Z"
   },
   {
    "duration": 20,
    "start_time": "2023-03-14T07:43:55.788Z"
   },
   {
    "duration": 16,
    "start_time": "2023-03-14T07:43:55.811Z"
   },
   {
    "duration": 105,
    "start_time": "2023-03-14T07:43:55.829Z"
   },
   {
    "duration": 36,
    "start_time": "2023-03-14T07:43:55.949Z"
   },
   {
    "duration": 73,
    "start_time": "2023-03-14T07:43:55.986Z"
   },
   {
    "duration": 74,
    "start_time": "2023-03-14T07:43:56.061Z"
   },
   {
    "duration": 18,
    "start_time": "2023-03-14T07:43:56.139Z"
   },
   {
    "duration": 11,
    "start_time": "2023-03-14T07:43:56.159Z"
   },
   {
    "duration": 5,
    "start_time": "2023-03-14T07:43:56.172Z"
   },
   {
    "duration": 10,
    "start_time": "2023-03-14T07:43:56.179Z"
   },
   {
    "duration": 68,
    "start_time": "2023-03-14T07:43:56.190Z"
   },
   {
    "duration": 603,
    "start_time": "2023-03-14T07:43:56.260Z"
   },
   {
    "duration": 136,
    "start_time": "2023-03-14T07:43:56.865Z"
   },
   {
    "duration": 57,
    "start_time": "2023-03-14T07:43:57.002Z"
   },
   {
    "duration": 27,
    "start_time": "2023-03-14T07:43:57.061Z"
   },
   {
    "duration": 72,
    "start_time": "2023-03-14T07:43:57.090Z"
   },
   {
    "duration": 48901,
    "start_time": "2023-03-14T07:43:57.164Z"
   },
   {
    "duration": 4,
    "start_time": "2023-03-14T07:44:46.068Z"
   },
   {
    "duration": 21,
    "start_time": "2023-03-14T07:44:46.073Z"
   },
   {
    "duration": 24,
    "start_time": "2023-03-14T07:44:46.096Z"
   },
   {
    "duration": 7620,
    "start_time": "2023-03-14T07:44:46.123Z"
   },
   {
    "duration": 5,
    "start_time": "2023-03-14T07:44:53.755Z"
   },
   {
    "duration": 10,
    "start_time": "2023-03-14T07:44:53.761Z"
   },
   {
    "duration": 17,
    "start_time": "2023-03-14T07:44:53.772Z"
   },
   {
    "duration": 30899,
    "start_time": "2023-03-14T07:44:53.790Z"
   },
   {
    "duration": 5,
    "start_time": "2023-03-14T07:45:24.691Z"
   },
   {
    "duration": 9,
    "start_time": "2023-03-14T07:45:24.698Z"
   },
   {
    "duration": 44,
    "start_time": "2023-03-14T07:45:24.709Z"
   },
   {
    "duration": 11,
    "start_time": "2023-03-14T07:45:24.755Z"
   },
   {
    "duration": 47097,
    "start_time": "2023-03-14T07:45:24.768Z"
   },
   {
    "duration": 17,
    "start_time": "2023-03-14T07:46:11.868Z"
   },
   {
    "duration": 3,
    "start_time": "2023-03-14T07:46:11.886Z"
   },
   {
    "duration": 284,
    "start_time": "2023-03-14T07:46:11.891Z"
   },
   {
    "duration": 7,
    "start_time": "2023-03-14T07:46:12.177Z"
   },
   {
    "duration": 47730,
    "start_time": "2023-03-14T07:50:53.907Z"
   },
   {
    "duration": 1637,
    "start_time": "2023-03-14T08:30:02.588Z"
   },
   {
    "duration": 4,
    "start_time": "2023-03-14T08:30:04.227Z"
   },
   {
    "duration": 6240,
    "start_time": "2023-03-14T08:30:04.233Z"
   },
   {
    "duration": 42,
    "start_time": "2023-03-14T08:30:10.475Z"
   },
   {
    "duration": 10,
    "start_time": "2023-03-14T08:30:10.519Z"
   },
   {
    "duration": 42,
    "start_time": "2023-03-14T08:30:10.531Z"
   },
   {
    "duration": 21,
    "start_time": "2023-03-14T08:30:10.574Z"
   },
   {
    "duration": 206,
    "start_time": "2023-03-14T08:30:10.597Z"
   },
   {
    "duration": 321,
    "start_time": "2023-03-14T08:30:10.804Z"
   },
   {
    "duration": 1244,
    "start_time": "2023-03-14T08:30:11.127Z"
   },
   {
    "duration": 176,
    "start_time": "2023-03-14T08:30:12.373Z"
   },
   {
    "duration": 228,
    "start_time": "2023-03-14T08:30:12.551Z"
   },
   {
    "duration": 152,
    "start_time": "2023-03-14T08:30:12.781Z"
   },
   {
    "duration": 2891,
    "start_time": "2023-03-14T08:30:12.934Z"
   },
   {
    "duration": 282,
    "start_time": "2023-03-14T08:30:15.826Z"
   },
   {
    "duration": 4012,
    "start_time": "2023-03-14T08:30:16.110Z"
   },
   {
    "duration": 163,
    "start_time": "2023-03-14T08:30:20.124Z"
   },
   {
    "duration": 26746,
    "start_time": "2023-03-14T08:30:20.289Z"
   },
   {
    "duration": 33,
    "start_time": "2023-03-14T08:30:47.037Z"
   },
   {
    "duration": 90,
    "start_time": "2023-03-14T08:30:47.072Z"
   },
   {
    "duration": 78,
    "start_time": "2023-03-14T08:30:47.163Z"
   },
   {
    "duration": 27,
    "start_time": "2023-03-14T08:30:47.243Z"
   },
   {
    "duration": 19,
    "start_time": "2023-03-14T08:30:47.273Z"
   },
   {
    "duration": 118,
    "start_time": "2023-03-14T08:30:47.293Z"
   },
   {
    "duration": 38,
    "start_time": "2023-03-14T08:30:47.413Z"
   },
   {
    "duration": 68,
    "start_time": "2023-03-14T08:30:47.453Z"
   },
   {
    "duration": 81,
    "start_time": "2023-03-14T08:30:47.522Z"
   },
   {
    "duration": 2,
    "start_time": "2023-03-14T08:30:47.607Z"
   },
   {
    "duration": 9,
    "start_time": "2023-03-14T08:30:47.611Z"
   },
   {
    "duration": 33,
    "start_time": "2023-03-14T08:30:47.621Z"
   },
   {
    "duration": 16,
    "start_time": "2023-03-14T08:30:47.656Z"
   },
   {
    "duration": 56,
    "start_time": "2023-03-14T08:30:47.674Z"
   },
   {
    "duration": 648,
    "start_time": "2023-03-14T08:30:47.731Z"
   },
   {
    "duration": 126,
    "start_time": "2023-03-14T08:30:48.381Z"
   },
   {
    "duration": 65,
    "start_time": "2023-03-14T08:30:48.509Z"
   },
   {
    "duration": 27,
    "start_time": "2023-03-14T08:30:48.576Z"
   },
   {
    "duration": 58,
    "start_time": "2023-03-14T08:30:48.604Z"
   },
   {
    "duration": 46726,
    "start_time": "2023-03-14T08:30:48.665Z"
   },
   {
    "duration": 3,
    "start_time": "2023-03-14T08:31:35.393Z"
   },
   {
    "duration": 5,
    "start_time": "2023-03-14T08:31:35.397Z"
   },
   {
    "duration": 14,
    "start_time": "2023-03-14T08:31:35.403Z"
   },
   {
    "duration": 6913,
    "start_time": "2023-03-14T08:31:35.419Z"
   },
   {
    "duration": 7,
    "start_time": "2023-03-14T08:31:42.334Z"
   },
   {
    "duration": 25,
    "start_time": "2023-03-14T08:31:42.343Z"
   },
   {
    "duration": 19,
    "start_time": "2023-03-14T08:31:42.370Z"
   },
   {
    "duration": 30656,
    "start_time": "2023-03-14T08:31:42.391Z"
   },
   {
    "duration": 4,
    "start_time": "2023-03-14T08:32:13.049Z"
   },
   {
    "duration": 14,
    "start_time": "2023-03-14T08:32:13.070Z"
   },
   {
    "duration": 12,
    "start_time": "2023-03-14T08:32:13.085Z"
   },
   {
    "duration": 9,
    "start_time": "2023-03-14T08:32:13.099Z"
   },
   {
    "duration": 1609,
    "start_time": "2023-03-14T08:56:52.837Z"
   },
   {
    "duration": 5,
    "start_time": "2023-03-14T08:56:54.448Z"
   },
   {
    "duration": 4576,
    "start_time": "2023-03-14T08:56:54.455Z"
   },
   {
    "duration": 62,
    "start_time": "2023-03-14T08:56:59.033Z"
   },
   {
    "duration": 14,
    "start_time": "2023-03-14T08:56:59.098Z"
   },
   {
    "duration": 22,
    "start_time": "2023-03-14T08:56:59.114Z"
   },
   {
    "duration": 31,
    "start_time": "2023-03-14T08:56:59.137Z"
   },
   {
    "duration": 227,
    "start_time": "2023-03-14T08:56:59.170Z"
   },
   {
    "duration": 300,
    "start_time": "2023-03-14T08:56:59.400Z"
   },
   {
    "duration": 1285,
    "start_time": "2023-03-14T08:56:59.702Z"
   },
   {
    "duration": 196,
    "start_time": "2023-03-14T08:57:00.990Z"
   },
   {
    "duration": 200,
    "start_time": "2023-03-14T08:57:01.188Z"
   },
   {
    "duration": 184,
    "start_time": "2023-03-14T08:57:01.392Z"
   },
   {
    "duration": 584,
    "start_time": "2023-03-14T08:57:01.580Z"
   },
   {
    "duration": 350,
    "start_time": "2023-03-14T08:57:02.165Z"
   },
   {
    "duration": 4555,
    "start_time": "2023-03-14T08:57:02.518Z"
   },
   {
    "duration": 182,
    "start_time": "2023-03-14T08:57:07.076Z"
   },
   {
    "duration": 24113,
    "start_time": "2023-03-14T08:57:07.260Z"
   },
   {
    "duration": 20,
    "start_time": "2023-03-14T08:57:31.375Z"
   },
   {
    "duration": 130,
    "start_time": "2023-03-14T08:57:31.398Z"
   },
   {
    "duration": 91,
    "start_time": "2023-03-14T08:57:31.530Z"
   },
   {
    "duration": 76,
    "start_time": "2023-03-14T08:57:31.623Z"
   },
   {
    "duration": 42,
    "start_time": "2023-03-14T08:57:31.701Z"
   },
   {
    "duration": 172,
    "start_time": "2023-03-14T08:57:31.745Z"
   },
   {
    "duration": 45,
    "start_time": "2023-03-14T08:57:31.919Z"
   },
   {
    "duration": 88,
    "start_time": "2023-03-14T08:57:31.966Z"
   },
   {
    "duration": 107,
    "start_time": "2023-03-14T08:57:32.056Z"
   },
   {
    "duration": 5,
    "start_time": "2023-03-14T08:57:32.165Z"
   },
   {
    "duration": 16,
    "start_time": "2023-03-14T08:57:32.172Z"
   },
   {
    "duration": 7,
    "start_time": "2023-03-14T08:57:32.191Z"
   },
   {
    "duration": 9,
    "start_time": "2023-03-14T08:57:32.200Z"
   },
   {
    "duration": 97,
    "start_time": "2023-03-14T08:57:32.211Z"
   },
   {
    "duration": 736,
    "start_time": "2023-03-14T08:57:32.310Z"
   },
   {
    "duration": 194,
    "start_time": "2023-03-14T08:57:33.049Z"
   },
   {
    "duration": 77,
    "start_time": "2023-03-14T08:57:33.245Z"
   },
   {
    "duration": 45,
    "start_time": "2023-03-14T08:57:33.324Z"
   },
   {
    "duration": 73,
    "start_time": "2023-03-14T08:57:33.372Z"
   },
   {
    "duration": 43765,
    "start_time": "2023-03-14T08:57:33.447Z"
   },
   {
    "duration": 3,
    "start_time": "2023-03-14T08:58:17.214Z"
   },
   {
    "duration": 11,
    "start_time": "2023-03-14T08:58:17.219Z"
   },
   {
    "duration": 23,
    "start_time": "2023-03-14T08:58:17.242Z"
   },
   {
    "duration": 6566,
    "start_time": "2023-03-14T08:58:17.267Z"
   },
   {
    "duration": 6,
    "start_time": "2023-03-14T08:58:23.835Z"
   },
   {
    "duration": 10,
    "start_time": "2023-03-14T08:58:23.842Z"
   },
   {
    "duration": 12,
    "start_time": "2023-03-14T08:58:23.854Z"
   },
   {
    "duration": 27745,
    "start_time": "2023-03-14T08:58:23.867Z"
   },
   {
    "duration": 5,
    "start_time": "2023-03-14T08:58:51.613Z"
   },
   {
    "duration": 24,
    "start_time": "2023-03-14T08:58:51.620Z"
   },
   {
    "duration": 52,
    "start_time": "2023-03-14T08:58:51.646Z"
   },
   {
    "duration": 47,
    "start_time": "2023-03-14T08:58:51.700Z"
   },
   {
    "duration": 1470,
    "start_time": "2023-03-14T09:02:51.895Z"
   },
   {
    "duration": 3,
    "start_time": "2023-03-14T09:02:53.368Z"
   },
   {
    "duration": 4709,
    "start_time": "2023-03-14T09:02:53.374Z"
   },
   {
    "duration": 54,
    "start_time": "2023-03-14T09:02:58.084Z"
   },
   {
    "duration": 11,
    "start_time": "2023-03-14T09:02:58.140Z"
   },
   {
    "duration": 22,
    "start_time": "2023-03-14T09:02:58.153Z"
   },
   {
    "duration": 21,
    "start_time": "2023-03-14T09:02:58.176Z"
   },
   {
    "duration": 211,
    "start_time": "2023-03-14T09:02:58.199Z"
   },
   {
    "duration": 300,
    "start_time": "2023-03-14T09:02:58.411Z"
   },
   {
    "duration": 1267,
    "start_time": "2023-03-14T09:02:58.713Z"
   },
   {
    "duration": 130,
    "start_time": "2023-03-14T09:02:59.982Z"
   },
   {
    "duration": 185,
    "start_time": "2023-03-14T09:03:00.114Z"
   },
   {
    "duration": 143,
    "start_time": "2023-03-14T09:03:00.300Z"
   },
   {
    "duration": 509,
    "start_time": "2023-03-14T09:03:00.447Z"
   },
   {
    "duration": 303,
    "start_time": "2023-03-14T09:03:00.958Z"
   },
   {
    "duration": 4434,
    "start_time": "2023-03-14T09:03:01.263Z"
   },
   {
    "duration": 134,
    "start_time": "2023-03-14T09:03:05.699Z"
   },
   {
    "duration": 26351,
    "start_time": "2023-03-14T09:03:05.840Z"
   },
   {
    "duration": 13,
    "start_time": "2023-03-14T09:03:32.192Z"
   },
   {
    "duration": 91,
    "start_time": "2023-03-14T09:03:32.207Z"
   },
   {
    "duration": 83,
    "start_time": "2023-03-14T09:03:32.300Z"
   },
   {
    "duration": 20,
    "start_time": "2023-03-14T09:03:32.385Z"
   },
   {
    "duration": 26,
    "start_time": "2023-03-14T09:03:32.407Z"
   },
   {
    "duration": 152,
    "start_time": "2023-03-14T09:03:32.440Z"
   },
   {
    "duration": 41,
    "start_time": "2023-03-14T09:03:32.595Z"
   },
   {
    "duration": 75,
    "start_time": "2023-03-14T09:03:32.641Z"
   },
   {
    "duration": 102,
    "start_time": "2023-03-14T09:03:32.717Z"
   },
   {
    "duration": 17,
    "start_time": "2023-03-14T09:03:32.821Z"
   },
   {
    "duration": 28,
    "start_time": "2023-03-14T09:03:32.840Z"
   },
   {
    "duration": 17,
    "start_time": "2023-03-14T09:03:32.870Z"
   },
   {
    "duration": 22,
    "start_time": "2023-03-14T09:03:32.889Z"
   },
   {
    "duration": 68,
    "start_time": "2023-03-14T09:03:32.912Z"
   },
   {
    "duration": 567,
    "start_time": "2023-03-14T09:03:32.982Z"
   },
   {
    "duration": 144,
    "start_time": "2023-03-14T09:03:33.550Z"
   },
   {
    "duration": 58,
    "start_time": "2023-03-14T09:03:33.696Z"
   },
   {
    "duration": 30,
    "start_time": "2023-03-14T09:03:33.756Z"
   },
   {
    "duration": 53,
    "start_time": "2023-03-14T09:03:33.787Z"
   },
   {
    "duration": 42097,
    "start_time": "2023-03-14T09:03:33.842Z"
   },
   {
    "duration": 4,
    "start_time": "2023-03-14T09:04:15.940Z"
   },
   {
    "duration": 9,
    "start_time": "2023-03-14T09:04:15.946Z"
   },
   {
    "duration": 13,
    "start_time": "2023-03-14T09:04:15.959Z"
   },
   {
    "duration": 6144,
    "start_time": "2023-03-14T09:04:15.974Z"
   },
   {
    "duration": 4,
    "start_time": "2023-03-14T09:04:22.120Z"
   },
   {
    "duration": 15,
    "start_time": "2023-03-14T09:04:22.126Z"
   },
   {
    "duration": 12,
    "start_time": "2023-03-14T09:04:22.143Z"
   },
   {
    "duration": 26756,
    "start_time": "2023-03-14T09:04:22.157Z"
   },
   {
    "duration": 5,
    "start_time": "2023-03-14T09:04:48.915Z"
   },
   {
    "duration": 9,
    "start_time": "2023-03-14T09:04:48.921Z"
   },
   {
    "duration": 12,
    "start_time": "2023-03-14T09:04:48.941Z"
   },
   {
    "duration": 15,
    "start_time": "2023-03-14T09:04:48.955Z"
   },
   {
    "duration": 1498,
    "start_time": "2023-03-14T19:15:47.936Z"
   },
   {
    "duration": 3,
    "start_time": "2023-03-14T19:15:49.436Z"
   },
   {
    "duration": 7776,
    "start_time": "2023-03-14T19:15:49.441Z"
   },
   {
    "duration": 221,
    "start_time": "2023-03-14T19:15:57.218Z"
   },
   {
    "duration": 35,
    "start_time": "2023-03-14T19:15:57.441Z"
   },
   {
    "duration": 43,
    "start_time": "2023-03-14T19:15:57.477Z"
   },
   {
    "duration": 41,
    "start_time": "2023-03-14T19:15:57.522Z"
   },
   {
    "duration": 235,
    "start_time": "2023-03-14T19:15:57.565Z"
   },
   {
    "duration": 233,
    "start_time": "2023-03-14T19:15:57.802Z"
   },
   {
    "duration": 3056,
    "start_time": "2023-03-14T19:15:58.038Z"
   },
   {
    "duration": 113,
    "start_time": "2023-03-14T19:16:01.096Z"
   },
   {
    "duration": 202,
    "start_time": "2023-03-14T19:16:01.211Z"
   },
   {
    "duration": 112,
    "start_time": "2023-03-14T19:16:01.415Z"
   },
   {
    "duration": 522,
    "start_time": "2023-03-14T19:16:01.529Z"
   },
   {
    "duration": 200,
    "start_time": "2023-03-14T19:16:02.053Z"
   },
   {
    "duration": 4765,
    "start_time": "2023-03-14T19:16:02.255Z"
   },
   {
    "duration": 112,
    "start_time": "2023-03-14T19:16:07.022Z"
   },
   {
    "duration": 24816,
    "start_time": "2023-03-14T19:16:07.135Z"
   },
   {
    "duration": 13,
    "start_time": "2023-03-14T19:16:31.952Z"
   },
   {
    "duration": 90,
    "start_time": "2023-03-14T19:16:31.967Z"
   },
   {
    "duration": 67,
    "start_time": "2023-03-14T19:16:32.059Z"
   },
   {
    "duration": 28,
    "start_time": "2023-03-14T19:16:32.128Z"
   },
   {
    "duration": 14,
    "start_time": "2023-03-14T19:16:32.158Z"
   },
   {
    "duration": 104,
    "start_time": "2023-03-14T19:16:32.174Z"
   },
   {
    "duration": 25,
    "start_time": "2023-03-14T19:16:32.280Z"
   },
   {
    "duration": 66,
    "start_time": "2023-03-14T19:16:32.307Z"
   },
   {
    "duration": 70,
    "start_time": "2023-03-14T19:16:32.374Z"
   },
   {
    "duration": 24,
    "start_time": "2023-03-14T19:16:32.447Z"
   },
   {
    "duration": 13,
    "start_time": "2023-03-14T19:16:32.473Z"
   },
   {
    "duration": 9,
    "start_time": "2023-03-14T19:16:32.487Z"
   },
   {
    "duration": 19,
    "start_time": "2023-03-14T19:16:32.497Z"
   },
   {
    "duration": 40,
    "start_time": "2023-03-14T19:16:32.518Z"
   },
   {
    "duration": 467,
    "start_time": "2023-03-14T19:16:32.560Z"
   },
   {
    "duration": 115,
    "start_time": "2023-03-14T19:16:33.028Z"
   },
   {
    "duration": 58,
    "start_time": "2023-03-14T19:16:33.145Z"
   },
   {
    "duration": 23,
    "start_time": "2023-03-14T19:16:33.205Z"
   },
   {
    "duration": 50,
    "start_time": "2023-03-14T19:16:33.230Z"
   },
   {
    "duration": 40562,
    "start_time": "2023-03-14T19:16:33.283Z"
   },
   {
    "duration": 4,
    "start_time": "2023-03-14T19:17:13.846Z"
   },
   {
    "duration": 5,
    "start_time": "2023-03-14T19:17:13.851Z"
   },
   {
    "duration": 23,
    "start_time": "2023-03-14T19:17:13.857Z"
   },
   {
    "duration": 5553,
    "start_time": "2023-03-14T19:17:13.881Z"
   },
   {
    "duration": 4,
    "start_time": "2023-03-14T19:17:19.435Z"
   },
   {
    "duration": 5,
    "start_time": "2023-03-14T19:17:19.440Z"
   },
   {
    "duration": 10,
    "start_time": "2023-03-14T19:17:19.446Z"
   },
   {
    "duration": 23698,
    "start_time": "2023-03-14T19:17:19.457Z"
   },
   {
    "duration": 3,
    "start_time": "2023-03-14T19:17:43.156Z"
   },
   {
    "duration": 7,
    "start_time": "2023-03-14T19:17:43.160Z"
   },
   {
    "duration": 19,
    "start_time": "2023-03-14T19:17:43.168Z"
   },
   {
    "duration": 9,
    "start_time": "2023-03-14T19:17:43.188Z"
   },
   {
    "duration": 39781,
    "start_time": "2023-03-14T19:17:43.198Z"
   },
   {
    "duration": 12,
    "start_time": "2023-03-14T19:18:22.981Z"
   },
   {
    "duration": 2,
    "start_time": "2023-03-14T19:18:22.995Z"
   },
   {
    "duration": 172,
    "start_time": "2023-03-14T19:18:22.999Z"
   },
   {
    "duration": 7,
    "start_time": "2023-03-14T19:18:23.173Z"
   },
   {
    "duration": 62,
    "start_time": "2023-03-14T19:23:41.433Z"
   },
   {
    "duration": 2173,
    "start_time": "2023-03-17T12:51:04.465Z"
   },
   {
    "duration": 4,
    "start_time": "2023-03-17T12:51:06.640Z"
   },
   {
    "duration": 8698,
    "start_time": "2023-03-17T12:51:07.719Z"
   },
   {
    "duration": 53,
    "start_time": "2023-03-17T12:51:16.418Z"
   },
   {
    "duration": 24,
    "start_time": "2023-03-17T12:51:26.578Z"
   },
   {
    "duration": 24,
    "start_time": "2023-03-17T12:51:27.906Z"
   },
   {
    "duration": 2035,
    "start_time": "2023-03-17T13:10:48.945Z"
   },
   {
    "duration": 8,
    "start_time": "2023-03-17T13:10:50.984Z"
   },
   {
    "duration": 8623,
    "start_time": "2023-03-17T13:10:50.995Z"
   },
   {
    "duration": 48,
    "start_time": "2023-03-17T13:10:59.620Z"
   },
   {
    "duration": 20,
    "start_time": "2023-03-17T13:10:59.669Z"
   },
   {
    "duration": 23,
    "start_time": "2023-03-17T13:10:59.691Z"
   },
   {
    "duration": 21,
    "start_time": "2023-03-17T13:10:59.715Z"
   },
   {
    "duration": 212,
    "start_time": "2023-03-17T13:10:59.738Z"
   },
   {
    "duration": 312,
    "start_time": "2023-03-17T13:10:59.952Z"
   },
   {
    "duration": 3188,
    "start_time": "2023-03-17T13:11:00.266Z"
   },
   {
    "duration": 142,
    "start_time": "2023-03-17T13:11:03.456Z"
   },
   {
    "duration": 178,
    "start_time": "2023-03-17T13:11:03.600Z"
   },
   {
    "duration": 143,
    "start_time": "2023-03-17T13:11:03.784Z"
   },
   {
    "duration": 480,
    "start_time": "2023-03-17T13:11:03.929Z"
   },
   {
    "duration": 293,
    "start_time": "2023-03-17T13:11:04.411Z"
   },
   {
    "duration": 4742,
    "start_time": "2023-03-17T13:11:04.705Z"
   },
   {
    "duration": 146,
    "start_time": "2023-03-17T13:11:09.449Z"
   },
   {
    "duration": 28510,
    "start_time": "2023-03-17T13:11:13.347Z"
   },
   {
    "duration": 14,
    "start_time": "2023-03-17T13:11:49.932Z"
   },
   {
    "duration": 81,
    "start_time": "2023-03-17T13:11:51.699Z"
   },
   {
    "duration": 80,
    "start_time": "2023-03-17T13:11:57.968Z"
   },
   {
    "duration": 23,
    "start_time": "2023-03-17T13:11:59.208Z"
   },
   {
    "duration": 15,
    "start_time": "2023-03-17T13:12:00.858Z"
   },
   {
    "duration": 119,
    "start_time": "2023-03-17T13:12:01.575Z"
   },
   {
    "duration": 44,
    "start_time": "2023-03-17T13:12:01.957Z"
   },
   {
    "duration": 73,
    "start_time": "2023-03-17T13:12:03.389Z"
   },
   {
    "duration": 79,
    "start_time": "2023-03-17T13:12:03.542Z"
   },
   {
    "duration": 3,
    "start_time": "2023-03-17T13:12:05.741Z"
   },
   {
    "duration": 9,
    "start_time": "2023-03-17T13:12:05.921Z"
   },
   {
    "duration": 5,
    "start_time": "2023-03-17T13:12:06.252Z"
   },
   {
    "duration": 4,
    "start_time": "2023-03-17T13:12:07.167Z"
   },
   {
    "duration": 66,
    "start_time": "2023-03-17T13:12:09.169Z"
   },
   {
    "duration": 647,
    "start_time": "2023-03-17T13:12:16.976Z"
   },
   {
    "duration": 184,
    "start_time": "2023-03-17T13:12:24.260Z"
   },
   {
    "duration": 53,
    "start_time": "2023-03-17T13:12:25.821Z"
   },
   {
    "duration": 29,
    "start_time": "2023-03-17T13:12:26.593Z"
   },
   {
    "duration": 40,
    "start_time": "2023-03-17T13:12:28.802Z"
   },
   {
    "duration": 46548,
    "start_time": "2023-03-17T13:12:33.707Z"
   },
   {
    "duration": 4,
    "start_time": "2023-03-17T13:13:25.001Z"
   },
   {
    "duration": 3,
    "start_time": "2023-03-17T13:13:26.025Z"
   },
   {
    "duration": 12,
    "start_time": "2023-03-17T13:13:28.914Z"
   },
   {
    "duration": 48750,
    "start_time": "2023-03-17T13:13:50.830Z"
   },
   {
    "duration": 117,
    "start_time": "2023-03-17T13:18:51.104Z"
   },
   {
    "duration": 14,
    "start_time": "2023-03-17T13:19:24.304Z"
   },
   {
    "duration": 5,
    "start_time": "2023-03-17T13:23:21.125Z"
   },
   {
    "duration": 5,
    "start_time": "2023-03-17T13:23:28.684Z"
   },
   {
    "duration": 43,
    "start_time": "2023-03-17T13:24:17.656Z"
   },
   {
    "duration": 45,
    "start_time": "2023-03-17T13:24:26.747Z"
   },
   {
    "duration": 21,
    "start_time": "2023-03-17T13:24:38.281Z"
   },
   {
    "duration": 7052,
    "start_time": "2023-03-17T13:33:11.237Z"
   },
   {
    "duration": 2301,
    "start_time": "2023-03-17T13:33:52.407Z"
   },
   {
    "duration": 2213,
    "start_time": "2023-03-17T13:34:32.702Z"
   },
   {
    "duration": 2188,
    "start_time": "2023-03-17T13:35:37.549Z"
   },
   {
    "duration": 2080,
    "start_time": "2023-03-17T13:38:11.423Z"
   },
   {
    "duration": 2188,
    "start_time": "2023-03-17T13:38:23.388Z"
   },
   {
    "duration": 2209,
    "start_time": "2023-03-17T13:38:33.827Z"
   },
   {
    "duration": 2117,
    "start_time": "2023-03-17T13:39:26.107Z"
   },
   {
    "duration": 2208,
    "start_time": "2023-03-17T13:39:43.201Z"
   },
   {
    "duration": 2104,
    "start_time": "2023-03-17T13:39:57.370Z"
   },
   {
    "duration": 2131,
    "start_time": "2023-03-17T13:40:21.217Z"
   },
   {
    "duration": 2254,
    "start_time": "2023-03-17T13:40:34.678Z"
   },
   {
    "duration": 2160,
    "start_time": "2023-03-17T13:40:44.362Z"
   },
   {
    "duration": 2125,
    "start_time": "2023-03-17T13:42:00.544Z"
   },
   {
    "duration": 48,
    "start_time": "2023-03-18T07:18:16.554Z"
   },
   {
    "duration": 1780,
    "start_time": "2023-03-18T07:18:25.014Z"
   },
   {
    "duration": 4,
    "start_time": "2023-03-18T07:18:26.796Z"
   },
   {
    "duration": 5575,
    "start_time": "2023-03-18T07:18:26.801Z"
   },
   {
    "duration": 62,
    "start_time": "2023-03-18T07:18:32.378Z"
   },
   {
    "duration": 12,
    "start_time": "2023-03-18T07:18:32.453Z"
   },
   {
    "duration": 31,
    "start_time": "2023-03-18T07:18:32.467Z"
   },
   {
    "duration": 20,
    "start_time": "2023-03-18T07:18:32.499Z"
   },
   {
    "duration": 210,
    "start_time": "2023-03-18T07:18:32.521Z"
   },
   {
    "duration": 223,
    "start_time": "2023-03-18T07:18:32.733Z"
   },
   {
    "duration": 3115,
    "start_time": "2023-03-18T07:18:32.958Z"
   },
   {
    "duration": 150,
    "start_time": "2023-03-18T07:18:36.074Z"
   },
   {
    "duration": 173,
    "start_time": "2023-03-18T07:18:36.225Z"
   },
   {
    "duration": 137,
    "start_time": "2023-03-18T07:18:36.400Z"
   },
   {
    "duration": 466,
    "start_time": "2023-03-18T07:18:36.539Z"
   },
   {
    "duration": 251,
    "start_time": "2023-03-18T07:18:37.007Z"
   },
   {
    "duration": 4422,
    "start_time": "2023-03-18T07:18:37.260Z"
   },
   {
    "duration": 135,
    "start_time": "2023-03-18T07:18:41.683Z"
   },
   {
    "duration": 19946,
    "start_time": "2023-03-18T07:18:41.820Z"
   },
   {
    "duration": 15,
    "start_time": "2023-03-18T07:19:01.768Z"
   },
   {
    "duration": 104,
    "start_time": "2023-03-18T07:19:01.785Z"
   },
   {
    "duration": 87,
    "start_time": "2023-03-18T07:19:01.891Z"
   },
   {
    "duration": 37,
    "start_time": "2023-03-18T07:19:01.979Z"
   },
   {
    "duration": 14,
    "start_time": "2023-03-18T07:19:02.018Z"
   },
   {
    "duration": 127,
    "start_time": "2023-03-18T07:19:02.034Z"
   },
   {
    "duration": 37,
    "start_time": "2023-03-18T07:19:02.163Z"
   },
   {
    "duration": 85,
    "start_time": "2023-03-18T07:19:02.202Z"
   },
   {
    "duration": 82,
    "start_time": "2023-03-18T07:19:02.289Z"
   },
   {
    "duration": 3,
    "start_time": "2023-03-18T07:19:02.375Z"
   },
   {
    "duration": 22,
    "start_time": "2023-03-18T07:19:02.379Z"
   },
   {
    "duration": 20,
    "start_time": "2023-03-18T07:19:02.403Z"
   },
   {
    "duration": 7,
    "start_time": "2023-03-18T07:19:02.425Z"
   },
   {
    "duration": 60,
    "start_time": "2023-03-18T07:19:02.433Z"
   },
   {
    "duration": 627,
    "start_time": "2023-03-18T07:19:02.495Z"
   },
   {
    "duration": 142,
    "start_time": "2023-03-18T07:19:03.123Z"
   },
   {
    "duration": 50,
    "start_time": "2023-03-18T07:19:03.267Z"
   },
   {
    "duration": 41,
    "start_time": "2023-03-18T07:19:03.319Z"
   },
   {
    "duration": 38,
    "start_time": "2023-03-18T07:19:03.362Z"
   },
   {
    "duration": 46650,
    "start_time": "2023-03-18T07:19:03.402Z"
   },
   {
    "duration": 9,
    "start_time": "2023-03-18T07:19:50.055Z"
   },
   {
    "duration": 6,
    "start_time": "2023-03-18T07:19:50.065Z"
   },
   {
    "duration": 18,
    "start_time": "2023-03-18T07:19:50.073Z"
   },
   {
    "duration": 6780,
    "start_time": "2023-03-18T07:19:50.093Z"
   },
   {
    "duration": 4,
    "start_time": "2023-03-18T07:19:56.875Z"
   },
   {
    "duration": 16,
    "start_time": "2023-03-18T07:19:56.880Z"
   },
   {
    "duration": 27,
    "start_time": "2023-03-18T07:19:56.898Z"
   },
   {
    "duration": 28448,
    "start_time": "2023-03-18T07:19:56.926Z"
   },
   {
    "duration": 5,
    "start_time": "2023-03-18T07:20:25.375Z"
   },
   {
    "duration": 6,
    "start_time": "2023-03-18T07:20:25.381Z"
   },
   {
    "duration": 15,
    "start_time": "2023-03-18T07:20:25.388Z"
   },
   {
    "duration": 50,
    "start_time": "2023-03-18T07:20:25.405Z"
   },
   {
    "duration": 44103,
    "start_time": "2023-03-18T07:20:25.456Z"
   },
   {
    "duration": 192,
    "start_time": "2023-03-18T07:21:09.560Z"
   },
   {
    "duration": 3,
    "start_time": "2023-03-18T07:21:09.754Z"
   },
   {
    "duration": 197,
    "start_time": "2023-03-18T07:21:09.758Z"
   },
   {
    "duration": 6,
    "start_time": "2023-03-18T07:21:09.957Z"
   },
   {
    "duration": 47061,
    "start_time": "2023-03-18T07:21:09.965Z"
   },
   {
    "duration": 0,
    "start_time": "2023-03-18T07:21:57.029Z"
   },
   {
    "duration": 0,
    "start_time": "2023-03-18T07:21:57.030Z"
   },
   {
    "duration": 6327,
    "start_time": "2023-03-18T07:24:53.397Z"
   },
   {
    "duration": 6,
    "start_time": "2023-03-18T07:24:59.726Z"
   },
   {
    "duration": 2385,
    "start_time": "2023-03-18T07:25:00.021Z"
   },
   {
    "duration": 169,
    "start_time": "2023-03-18T07:25:02.409Z"
   },
   {
    "duration": 180,
    "start_time": "2023-03-18T07:27:42.220Z"
   },
   {
    "duration": 192,
    "start_time": "2023-03-18T07:27:58.906Z"
   },
   {
    "duration": 169,
    "start_time": "2023-03-18T07:28:07.002Z"
   },
   {
    "duration": 151,
    "start_time": "2023-03-18T07:28:13.655Z"
   },
   {
    "duration": 229,
    "start_time": "2023-03-18T07:28:18.808Z"
   },
   {
    "duration": 1713,
    "start_time": "2023-03-18T14:25:19.182Z"
   },
   {
    "duration": 3,
    "start_time": "2023-03-18T14:25:20.897Z"
   },
   {
    "duration": 8499,
    "start_time": "2023-03-18T14:25:20.902Z"
   },
   {
    "duration": 227,
    "start_time": "2023-03-18T14:25:29.403Z"
   },
   {
    "duration": 41,
    "start_time": "2023-03-18T14:25:29.632Z"
   },
   {
    "duration": 48,
    "start_time": "2023-03-18T14:25:29.675Z"
   },
   {
    "duration": 70,
    "start_time": "2023-03-18T14:25:29.724Z"
   },
   {
    "duration": 244,
    "start_time": "2023-03-18T14:25:29.795Z"
   },
   {
    "duration": 190,
    "start_time": "2023-03-18T14:25:30.041Z"
   },
   {
    "duration": 1268,
    "start_time": "2023-03-18T14:25:30.232Z"
   },
   {
    "duration": 137,
    "start_time": "2023-03-18T14:25:31.501Z"
   },
   {
    "duration": 201,
    "start_time": "2023-03-18T14:25:31.640Z"
   },
   {
    "duration": 126,
    "start_time": "2023-03-18T14:25:31.842Z"
   },
   {
    "duration": 501,
    "start_time": "2023-03-18T14:25:31.971Z"
   },
   {
    "duration": 246,
    "start_time": "2023-03-18T14:25:32.474Z"
   },
   {
    "duration": 4718,
    "start_time": "2023-03-18T14:25:32.722Z"
   },
   {
    "duration": 118,
    "start_time": "2023-03-18T14:25:37.442Z"
   },
   {
    "duration": 28690,
    "start_time": "2023-03-18T14:25:37.562Z"
   },
   {
    "duration": 14,
    "start_time": "2023-03-18T14:26:06.253Z"
   },
   {
    "duration": 81,
    "start_time": "2023-03-18T14:26:06.269Z"
   },
   {
    "duration": 67,
    "start_time": "2023-03-18T14:26:06.357Z"
   },
   {
    "duration": 33,
    "start_time": "2023-03-18T14:26:06.425Z"
   },
   {
    "duration": 13,
    "start_time": "2023-03-18T14:26:06.460Z"
   },
   {
    "duration": 117,
    "start_time": "2023-03-18T14:26:06.475Z"
   },
   {
    "duration": 33,
    "start_time": "2023-03-18T14:26:06.594Z"
   },
   {
    "duration": 67,
    "start_time": "2023-03-18T14:26:06.629Z"
   },
   {
    "duration": 75,
    "start_time": "2023-03-18T14:26:06.697Z"
   },
   {
    "duration": 2,
    "start_time": "2023-03-18T14:26:06.774Z"
   },
   {
    "duration": 8,
    "start_time": "2023-03-18T14:26:06.778Z"
   },
   {
    "duration": 5,
    "start_time": "2023-03-18T14:26:06.788Z"
   },
   {
    "duration": 7,
    "start_time": "2023-03-18T14:26:06.794Z"
   },
   {
    "duration": 72,
    "start_time": "2023-03-18T14:26:06.802Z"
   },
   {
    "duration": 548,
    "start_time": "2023-03-18T14:26:06.875Z"
   },
   {
    "duration": 120,
    "start_time": "2023-03-18T14:26:07.424Z"
   },
   {
    "duration": 50,
    "start_time": "2023-03-18T14:26:07.546Z"
   },
   {
    "duration": 26,
    "start_time": "2023-03-18T14:26:07.598Z"
   },
   {
    "duration": 46,
    "start_time": "2023-03-18T14:26:07.626Z"
   },
   {
    "duration": 43766,
    "start_time": "2023-03-18T14:26:07.674Z"
   },
   {
    "duration": 3,
    "start_time": "2023-03-18T14:26:51.442Z"
   },
   {
    "duration": 12,
    "start_time": "2023-03-18T14:26:51.446Z"
   },
   {
    "duration": 11,
    "start_time": "2023-03-18T14:26:51.462Z"
   },
   {
    "duration": 5929,
    "start_time": "2023-03-18T14:26:51.475Z"
   },
   {
    "duration": 4,
    "start_time": "2023-03-18T14:26:57.405Z"
   },
   {
    "duration": 10,
    "start_time": "2023-03-18T14:26:57.410Z"
   },
   {
    "duration": 12,
    "start_time": "2023-03-18T14:26:57.421Z"
   },
   {
    "duration": 24687,
    "start_time": "2023-03-18T14:26:57.435Z"
   },
   {
    "duration": 3,
    "start_time": "2023-03-18T14:27:22.123Z"
   },
   {
    "duration": 6,
    "start_time": "2023-03-18T14:27:22.128Z"
   },
   {
    "duration": 29,
    "start_time": "2023-03-18T14:27:22.135Z"
   },
   {
    "duration": 13,
    "start_time": "2023-03-18T14:27:22.165Z"
   },
   {
    "duration": 43584,
    "start_time": "2023-03-18T14:27:22.180Z"
   },
   {
    "duration": 15,
    "start_time": "2023-03-18T14:28:05.765Z"
   },
   {
    "duration": 3,
    "start_time": "2023-03-18T14:28:05.781Z"
   },
   {
    "duration": 241,
    "start_time": "2023-03-18T14:28:05.785Z"
   },
   {
    "duration": 7,
    "start_time": "2023-03-18T14:28:06.027Z"
   },
   {
    "duration": 5417,
    "start_time": "2023-03-18T14:28:06.035Z"
   },
   {
    "duration": 192,
    "start_time": "2023-03-18T14:28:11.454Z"
   },
   {
    "duration": 148,
    "start_time": "2023-03-18T14:28:11.648Z"
   },
   {
    "duration": 77,
    "start_time": "2023-03-18T14:46:17.331Z"
   },
   {
    "duration": 1434,
    "start_time": "2023-03-18T14:52:55.105Z"
   },
   {
    "duration": 4,
    "start_time": "2023-03-18T14:52:56.541Z"
   },
   {
    "duration": 7885,
    "start_time": "2023-03-18T14:52:56.546Z"
   },
   {
    "duration": 217,
    "start_time": "2023-03-18T14:53:04.433Z"
   },
   {
    "duration": 41,
    "start_time": "2023-03-18T14:53:04.652Z"
   },
   {
    "duration": 48,
    "start_time": "2023-03-18T14:53:04.694Z"
   },
   {
    "duration": 48,
    "start_time": "2023-03-18T14:53:04.743Z"
   },
   {
    "duration": 233,
    "start_time": "2023-03-18T14:53:04.792Z"
   },
   {
    "duration": 278,
    "start_time": "2023-03-18T14:53:05.027Z"
   },
   {
    "duration": 2979,
    "start_time": "2023-03-18T14:53:05.307Z"
   },
   {
    "duration": 119,
    "start_time": "2023-03-18T14:53:08.288Z"
   },
   {
    "duration": 199,
    "start_time": "2023-03-18T14:53:08.409Z"
   },
   {
    "duration": 117,
    "start_time": "2023-03-18T14:53:08.610Z"
   },
   {
    "duration": 490,
    "start_time": "2023-03-18T14:53:08.731Z"
   },
   {
    "duration": 227,
    "start_time": "2023-03-18T14:53:09.222Z"
   },
   {
    "duration": 4501,
    "start_time": "2023-03-18T14:53:09.451Z"
   },
   {
    "duration": 131,
    "start_time": "2023-03-18T14:53:13.954Z"
   },
   {
    "duration": 24371,
    "start_time": "2023-03-18T14:53:14.087Z"
   },
   {
    "duration": 14,
    "start_time": "2023-03-18T14:53:38.460Z"
   },
   {
    "duration": 87,
    "start_time": "2023-03-18T14:53:38.476Z"
   },
   {
    "duration": 71,
    "start_time": "2023-03-18T14:53:38.565Z"
   },
   {
    "duration": 30,
    "start_time": "2023-03-18T14:53:38.637Z"
   },
   {
    "duration": 13,
    "start_time": "2023-03-18T14:53:38.669Z"
   },
   {
    "duration": 119,
    "start_time": "2023-03-18T14:53:38.683Z"
   },
   {
    "duration": 37,
    "start_time": "2023-03-18T14:53:38.804Z"
   },
   {
    "duration": 71,
    "start_time": "2023-03-18T14:53:38.843Z"
   },
   {
    "duration": 88,
    "start_time": "2023-03-18T14:53:38.916Z"
   },
   {
    "duration": 3,
    "start_time": "2023-03-18T14:53:39.006Z"
   },
   {
    "duration": 8,
    "start_time": "2023-03-18T14:53:39.011Z"
   },
   {
    "duration": 5,
    "start_time": "2023-03-18T14:53:39.021Z"
   },
   {
    "duration": 30,
    "start_time": "2023-03-18T14:53:39.028Z"
   },
   {
    "duration": 57,
    "start_time": "2023-03-18T14:53:39.060Z"
   },
   {
    "duration": 571,
    "start_time": "2023-03-18T14:53:39.118Z"
   },
   {
    "duration": 120,
    "start_time": "2023-03-18T14:53:39.690Z"
   },
   {
    "duration": 57,
    "start_time": "2023-03-18T14:53:39.812Z"
   },
   {
    "duration": 26,
    "start_time": "2023-03-18T14:53:39.871Z"
   },
   {
    "duration": 34,
    "start_time": "2023-03-18T14:53:39.898Z"
   },
   {
    "duration": 47634,
    "start_time": "2023-03-18T14:53:39.934Z"
   },
   {
    "duration": 3,
    "start_time": "2023-03-18T14:54:27.570Z"
   },
   {
    "duration": 12,
    "start_time": "2023-03-18T14:54:27.574Z"
   },
   {
    "duration": 17,
    "start_time": "2023-03-18T14:54:27.589Z"
   },
   {
    "duration": 5943,
    "start_time": "2023-03-18T14:54:27.607Z"
   },
   {
    "duration": 4,
    "start_time": "2023-03-18T14:54:33.557Z"
   },
   {
    "duration": 10,
    "start_time": "2023-03-18T14:54:33.562Z"
   },
   {
    "duration": 12,
    "start_time": "2023-03-18T14:54:33.573Z"
   },
   {
    "duration": 24451,
    "start_time": "2023-03-18T14:54:33.587Z"
   },
   {
    "duration": 4,
    "start_time": "2023-03-18T14:54:58.039Z"
   },
   {
    "duration": 13,
    "start_time": "2023-03-18T14:54:58.044Z"
   },
   {
    "duration": 10,
    "start_time": "2023-03-18T14:54:58.058Z"
   },
   {
    "duration": 9,
    "start_time": "2023-03-18T14:54:58.070Z"
   },
   {
    "duration": 43579,
    "start_time": "2023-03-18T14:54:58.080Z"
   },
   {
    "duration": 105,
    "start_time": "2023-03-18T14:55:41.662Z"
   },
   {
    "duration": 3,
    "start_time": "2023-03-18T14:55:41.769Z"
   },
   {
    "duration": 197,
    "start_time": "2023-03-18T14:55:41.773Z"
   },
   {
    "duration": 5,
    "start_time": "2023-03-18T14:55:41.972Z"
   },
   {
    "duration": 3710,
    "start_time": "2023-03-18T14:55:41.979Z"
   },
   {
    "duration": 189,
    "start_time": "2023-03-18T14:55:45.691Z"
   },
   {
    "duration": 139,
    "start_time": "2023-03-18T14:55:45.881Z"
   }
  ],
  "kernelspec": {
   "display_name": "Python 3 (ipykernel)",
   "language": "python",
   "name": "python3"
  },
  "language_info": {
   "codemirror_mode": {
    "name": "ipython",
    "version": 3
   },
   "file_extension": ".py",
   "mimetype": "text/x-python",
   "name": "python",
   "nbconvert_exporter": "python",
   "pygments_lexer": "ipython3",
   "version": "3.9.13"
  },
  "toc": {
   "base_numbering": 1,
   "nav_menu": {
    "height": "198px",
    "width": "407px"
   },
   "number_sections": true,
   "sideBar": true,
   "skip_h1_title": true,
   "title_cell": "Содержание",
   "title_sidebar": "Contents",
   "toc_cell": true,
   "toc_position": {
    "height": "calc(100% - 180px)",
    "left": "10px",
    "top": "150px",
    "width": "165px"
   },
   "toc_section_display": true,
   "toc_window_display": true
  },
  "varInspector": {
   "cols": {
    "lenName": 16,
    "lenType": 16,
    "lenVar": 40
   },
   "kernels_config": {
    "python": {
     "delete_cmd_postfix": "",
     "delete_cmd_prefix": "del ",
     "library": "var_list.py",
     "varRefreshCmd": "print(var_dic_list())"
    },
    "r": {
     "delete_cmd_postfix": ") ",
     "delete_cmd_prefix": "rm(",
     "library": "var_list.r",
     "varRefreshCmd": "cat(var_dic_list()) "
    }
   },
   "types_to_exclude": [
    "module",
    "function",
    "builtin_function_or_method",
    "instance",
    "_Feature"
   ],
   "window_display": false
  }
 },
 "nbformat": 4,
 "nbformat_minor": 5
}
